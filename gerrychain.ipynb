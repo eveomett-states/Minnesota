{
 "cells": [
  {
   "cell_type": "code",
   "execution_count": 1,
   "id": "9dd2a2b7-4836-4cf0-b316-ca8a3405f74a",
   "metadata": {},
   "outputs": [],
   "source": [
    "#!/usr/bin/env python3\n",
    "# -*- coding: utf-8 -*-\n",
    "\"\"\"\n",
    "Created on Thu Jan 18 10:26:42 2024\n",
    "\n",
    "@author: eveomett\n",
    "\n",
    "Author: Ellen Veomett\n",
    "\n",
    "for AI for Redistricting\n",
    "\n",
    "Lab 3, spring 2024\n",
    "\"\"\"\n",
    "\n",
    "import matplotlib.pyplot as plt\n",
    "from gerrychain import Graph, Partition, proposals, updaters, constraints, accept, MarkovChain, Election\n",
    "from gerrychain.updaters import cut_edges, Tally\n",
    "from gerrychain.proposals import recom\n",
    "from gerrychain.accept import always_accept\n",
    "from functools import partial\n",
    "import time\n",
    "start_time = time.time()"
   ]
  },
  {
   "cell_type": "code",
   "execution_count": 2,
   "id": "0f8b2635-50eb-4678-907f-5641af4d57a3",
   "metadata": {},
   "outputs": [],
   "source": [
    "state_ab = \"mn\""
   ]
  },
  {
   "cell_type": "code",
   "execution_count": 3,
   "id": "7b8ff51c-f48a-4c8e-b6d2-3208d0227c65",
   "metadata": {},
   "outputs": [
    {
     "ename": "FileNotFoundError",
     "evalue": "[Errno 2] No such file or directory: './ky/ky.json'",
     "output_type": "error",
     "traceback": [
      "\u001b[0;31m---------------------------------------------------------------------------\u001b[0m",
      "\u001b[0;31mFileNotFoundError\u001b[0m                         Traceback (most recent call last)",
      "Cell \u001b[0;32mIn[3], line 1\u001b[0m\n\u001b[0;32m----> 1\u001b[0m il_graph \u001b[38;5;241m=\u001b[39m \u001b[43mGraph\u001b[49m\u001b[38;5;241;43m.\u001b[39;49m\u001b[43mfrom_json\u001b[49m\u001b[43m(\u001b[49m\u001b[38;5;124;43m\"\u001b[39;49m\u001b[38;5;124;43m./\u001b[39;49m\u001b[38;5;132;43;01m{}\u001b[39;49;00m\u001b[38;5;124;43m/\u001b[39;49m\u001b[38;5;132;43;01m{}\u001b[39;49;00m\u001b[38;5;124;43m.json\u001b[39;49m\u001b[38;5;124;43m\"\u001b[39;49m\u001b[38;5;241;43m.\u001b[39;49m\u001b[43mformat\u001b[49m\u001b[43m(\u001b[49m\u001b[43mstate_ab\u001b[49m\u001b[43m,\u001b[49m\u001b[43m \u001b[49m\u001b[43mstate_ab\u001b[49m\u001b[43m)\u001b[49m\u001b[43m)\u001b[49m\n",
      "File \u001b[0;32m/opt/anaconda3/envs/gerry/lib/python3.11/site-packages/gerrychain/graph/graph.py:87\u001b[0m, in \u001b[0;36mGraph.from_json\u001b[0;34m(cls, json_file)\u001b[0m\n\u001b[1;32m     76\u001b[0m \u001b[38;5;129m@classmethod\u001b[39m\n\u001b[1;32m     77\u001b[0m \u001b[38;5;28;01mdef\u001b[39;00m\u001b[38;5;250m \u001b[39m\u001b[38;5;21mfrom_json\u001b[39m(\u001b[38;5;28mcls\u001b[39m, json_file: \u001b[38;5;28mstr\u001b[39m) \u001b[38;5;241m-\u001b[39m\u001b[38;5;241m>\u001b[39m \u001b[38;5;124m\"\u001b[39m\u001b[38;5;124mGraph\u001b[39m\u001b[38;5;124m\"\u001b[39m:\n\u001b[1;32m     78\u001b[0m \u001b[38;5;250m    \u001b[39m\u001b[38;5;124;03m\"\"\"\u001b[39;00m\n\u001b[1;32m     79\u001b[0m \u001b[38;5;124;03m    Load a graph from a JSON file in the NetworkX json_graph format.\u001b[39;00m\n\u001b[1;32m     80\u001b[0m \n\u001b[0;32m   (...)\u001b[0m\n\u001b[1;32m     85\u001b[0m \u001b[38;5;124;03m    :rtype: Graph\u001b[39;00m\n\u001b[1;32m     86\u001b[0m \u001b[38;5;124;03m    \"\"\"\u001b[39;00m\n\u001b[0;32m---> 87\u001b[0m     \u001b[38;5;28;01mwith\u001b[39;00m \u001b[38;5;28;43mopen\u001b[39;49m\u001b[43m(\u001b[49m\u001b[43mjson_file\u001b[49m\u001b[43m)\u001b[49m \u001b[38;5;28;01mas\u001b[39;00m f:\n\u001b[1;32m     88\u001b[0m         data \u001b[38;5;241m=\u001b[39m json\u001b[38;5;241m.\u001b[39mload(f)\n\u001b[1;32m     89\u001b[0m     g \u001b[38;5;241m=\u001b[39m json_graph\u001b[38;5;241m.\u001b[39madjacency_graph(data)\n",
      "\u001b[0;31mFileNotFoundError\u001b[0m: [Errno 2] No such file or directory: './ky/ky.json'"
     ]
    }
   ],
   "source": [
    "il_graph = Graph.from_json(\"./{}/{}.json\".format(state_ab, state_ab))"
   ]
  },
  {
   "cell_type": "markdown",
   "id": "84edd719-b9a1-48ab-8baf-00014993e9bb",
   "metadata": {},
   "source": [
    "# CDelection_df"
   ]
  },
  {
   "cell_type": "code",
   "execution_count": null,
   "id": "ae865d45-ced1-48e5-94f0-67c561c3a9b4",
   "metadata": {},
   "outputs": [],
   "source": [
    "cutedge_ensemble = []\n",
    "dem_ensemble = []\n",
    "\n",
    "# Create an initial partition\n",
    "initial_partition = Partition(\n",
    "    il_graph,\n",
    "    assignment=\"CD\", # change it to SEND / HDIST\n",
    "    updaters={\n",
    "        \"Dem\": Election(\n",
    "            \"2020 presidential\", {\"Dem\": \"PRE20D\", \"Rep\": \"PRE20R\"}, alias=\"Dem\"\n",
    "        ),\n",
    "        \"total population\": Tally(\"TOTPOP\", alias=\"total population\"),\n",
    "        \"latino population\": Tally(\"HISP\", alias=\"latino population\"),\n",
    "        \"cut_edges\": cut_edges,\n",
    "    },\n",
    ")\n",
    "\n",
    "print(initial_partition)"
   ]
  },
  {
   "cell_type": "code",
   "execution_count": null,
   "id": "dbdff436-2897-4942-acb7-59ed75f635fa",
   "metadata": {},
   "outputs": [],
   "source": [
    "num_dist = len(initial_partition)\n",
    "total_pop = sum([il_graph.nodes()[v][\"TOTPOP\"] for v in il_graph.nodes()])\n",
    "ideal_pop = total_pop / num_dist\n",
    "pop_toleration = 0.05"
   ]
  },
  {
   "cell_type": "code",
   "execution_count": null,
   "id": "924b7288-d283-46fc-9d71-ae5206246a58",
   "metadata": {},
   "outputs": [],
   "source": [
    "# Create a proposal\n",
    "proposal = partial(\n",
    "    recom,\n",
    "    pop_col=\"TOTPOP\",\n",
    "    pop_target=ideal_pop,\n",
    "    epsilon=pop_toleration,\n",
    "    node_repeats=2,\n",
    ")\n",
    "\n",
    "population_constraint = constraints.within_percent_of_ideal_population(\n",
    "    initial_partition, pop_toleration, pop_key=\"total population\"\n",
    ")"
   ]
  },
  {
   "cell_type": "code",
   "execution_count": null,
   "id": "c7b59425-c1e7-46dc-aa7b-0b481b4bfcec",
   "metadata": {},
   "outputs": [],
   "source": [
    "# Create a Markov chain\n",
    "chain = MarkovChain(\n",
    "    proposal=proposal,\n",
    "    constraints=[population_constraint],\n",
    "    accept=always_accept,\n",
    "    initial_state=initial_partition,\n",
    "    total_steps=600,  # choosing 6000 because i tried 1,000 and it was not enough. also tried 10,000 and it was kinda similar to 6,000. so i decided to go with 6,000..\n",
    ")"
   ]
  },
  {
   "cell_type": "code",
   "execution_count": null,
   "id": "91978ba9-e5c7-4e0f-b698-0e8b819c7d2c",
   "metadata": {
    "tags": []
   },
   "outputs": [],
   "source": [
    "for part in chain:\n",
    "    cutedge_ensemble.append(len(part[\"cut_edges\"]))\n",
    "    dem_ensemble.append(part[\"Dem\"].wins(\"Dem\"))"
   ]
  },
  {
   "cell_type": "code",
   "execution_count": null,
   "id": "93913ca2-2aaf-4813-a5a4-a88165a622a7",
   "metadata": {},
   "outputs": [],
   "source": [
    "# Draw histogram of number of cut edges in the plan\n",
    "plt.figure()\n",
    "plt.hist(cutedge_ensemble, align=\"left\")\n",
    "plt.xlabel(\"Number of cut edges\")\n",
    "plt.ylabel(\"Frequency\")\n",
    "plt.savefig(\"cutedge_ensemble.png\")\n",
    "\n",
    "# Draw histogram of number of districts won by Democrats\n",
    "plt.figure()\n",
    "plt.hist(dem_ensemble, align=\"left\")\n",
    "plt.xlabel(\"Number of districts won by Democrats\")\n",
    "plt.ylabel(\"Frequency\")\n",
    "plt.savefig(\"democrate_ensemble.png\")\n",
    "\n",
    "end_time = time.time()\n",
    "print(\"The time of execution of above program is :\",\n",
    "      (end_time-start_time)/60, \"mins\")"
   ]
  },
  {
   "cell_type": "markdown",
   "id": "2d84b73b-52ae-446d-a1d7-0dc1bc5572be",
   "metadata": {},
   "source": [
    "# SEND"
   ]
  },
  {
   "cell_type": "code",
   "execution_count": null,
   "id": "1c8294b7-9e78-4455-9f1d-e7e0943cb5a4",
   "metadata": {},
   "outputs": [],
   "source": [
    "cutedge_ensemble = []\n",
    "dem_ensemble = []\n",
    "\n",
    "# Create an initial partition\n",
    "initial_partition = Partition(\n",
    "    il_graph,\n",
    "    assignment=\"SEND\", # change it to SEND / HDIST\n",
    "    updaters={\n",
    "        \"Dem\": Election(\n",
    "            \"2020 presidential\", {\"Dem\": \"PRE20D\", \"Rep\": \"PRE20R\"}, alias=\"Dem\"\n",
    "        ),\n",
    "        \"total population\": Tally(\"TOTPOP\", alias=\"total population\"),\n",
    "        \"latino population\": Tally(\"HISP\", alias=\"latino population\"),\n",
    "        \"cut_edges\": cut_edges,\n",
    "    },\n",
    ")\n",
    "\n",
    "print(initial_partition)"
   ]
  },
  {
   "cell_type": "code",
   "execution_count": null,
   "id": "96b16df4-d374-46e8-975d-4afb7d1804a2",
   "metadata": {},
   "outputs": [],
   "source": [
    "num_dist = len(initial_partition)\n",
    "total_pop = sum([il_graph.nodes()[v][\"TOTPOP\"] for v in il_graph.nodes()])\n",
    "ideal_pop = total_pop / num_dist\n",
    "pop_toleration = 0.5"
   ]
  },
  {
   "cell_type": "code",
   "execution_count": null,
   "id": "c3d86641-c1f4-42ef-9457-cc95de85779e",
   "metadata": {},
   "outputs": [],
   "source": [
    "# Create a proposal\n",
    "proposal = partial(\n",
    "    recom,\n",
    "    pop_col=\"TOTPOP\",\n",
    "    pop_target=ideal_pop,\n",
    "    epsilon=pop_toleration,\n",
    "    node_repeats=2,\n",
    ")\n",
    "\n",
    "population_constraint = constraints.within_percent_of_ideal_population(\n",
    "    initial_partition, pop_toleration, pop_key=\"total population\"\n",
    ")"
   ]
  },
  {
   "cell_type": "code",
   "execution_count": null,
   "id": "971e91ac-29bc-47d8-9e20-1823f34499e8",
   "metadata": {},
   "outputs": [],
   "source": [
    "# Create a Markov chain\n",
    "chain = MarkovChain(\n",
    "    proposal=proposal,\n",
    "    constraints=[population_constraint],\n",
    "    accept=always_accept,\n",
    "    initial_state=initial_partition,\n",
    "    total_steps=600,  # choosing 6000 because i tried 1,000 and it was not enough. also tried 10,000 and it was kinda similar to 6,000. so i decided to go with 6,000..\n",
    ")"
   ]
  },
  {
   "cell_type": "code",
   "execution_count": null,
   "id": "31c47a27-cfb1-4c2e-a0df-06d5d8f2a079",
   "metadata": {},
   "outputs": [],
   "source": [
    "for part in chain:\n",
    "    cutedge_ensemble.append(len(part[\"cut_edges\"]))\n",
    "    dem_ensemble.append(part[\"Dem\"].wins(\"Dem\"))"
   ]
  },
  {
   "cell_type": "code",
   "execution_count": null,
   "id": "e4b443a5-9603-4aed-8030-8f6c9de70217",
   "metadata": {},
   "outputs": [],
   "source": [
    "# Draw histogram of number of cut edges in the plan\n",
    "plt.figure()\n",
    "plt.hist(cutedge_ensemble, align=\"left\")\n",
    "plt.xlabel(\"Number of cut edges\")\n",
    "plt.ylabel(\"Frequency\")\n",
    "plt.savefig(\"cutedge_ensemble.png\")\n",
    "\n",
    "# Draw histogram of number of districts won by Democrats\n",
    "plt.figure()\n",
    "plt.hist(dem_ensemble, align=\"left\")\n",
    "plt.xlabel(\"Number of districts won by Democrats\")\n",
    "plt.ylabel(\"Frequency\")\n",
    "plt.savefig(\"democrate_ensemble.png\")\n",
    "\n",
    "end_time = time.time()\n",
    "print(\"The time of execution of above program is :\",\n",
    "      (end_time-start_time)/60, \"mins\")"
   ]
  },
  {
   "cell_type": "markdown",
   "id": "4d835c9e-535b-41af-96fe-03c7dab8943c",
   "metadata": {},
   "source": [
    "# HDIST"
   ]
  },
  {
   "cell_type": "code",
   "execution_count": null,
   "id": "c3e11d29-7614-4ffb-ac5f-1f34c8c1f72c",
   "metadata": {},
   "outputs": [],
   "source": [
    "cutedge_ensemble = []\n",
    "dem_ensemble = []\n",
    "\n",
    "\n",
    "# Create an initial partition\n",
    "initial_partition = Partition(\n",
    "    il_graph,\n",
    "    assignment=\"HDIST\", # change it to SEND / HDIST\n",
    "    updaters={\n",
    "        \"Dem\": Election(\n",
    "            \"2020 presidential\", {\"Dem\": \"PRE20D\", \"Rep\": \"PRE20R\"}, alias=\"Dem\"\n",
    "        ),\n",
    "        \"total population\": Tally(\"TOTPOP\", alias=\"total population\"),\n",
    "        \"latino population\": Tally(\"HISP\", alias=\"latino population\"),\n",
    "        \"cut_edges\": cut_edges,\n",
    "    },\n",
    ")\n",
    "\n",
    "print(initial_partition)"
   ]
  },
  {
   "cell_type": "code",
   "execution_count": null,
   "id": "4910ec8d-c982-4e91-bb1f-b8234b2debb3",
   "metadata": {},
   "outputs": [],
   "source": [
    "num_dist = len(initial_partition)\n",
    "total_pop = sum([il_graph.nodes()[v][\"TOTPOP\"] for v in il_graph.nodes()])\n",
    "ideal_pop = total_pop / num_dist\n",
    "pop_toleration = 0.8"
   ]
  },
  {
   "cell_type": "code",
   "execution_count": null,
   "id": "49a2b1cb-64da-4866-8ace-ff56219c86af",
   "metadata": {},
   "outputs": [],
   "source": [
    "# Create a proposal\n",
    "proposal = partial(\n",
    "    recom,\n",
    "    pop_col=\"TOTPOP\",\n",
    "    pop_target=ideal_pop,\n",
    "    epsilon=pop_toleration,\n",
    "    node_repeats=2,\n",
    ")\n",
    "\n",
    "population_constraint = constraints.within_percent_of_ideal_population(\n",
    "    initial_partition, pop_toleration, pop_key=\"total population\"\n",
    ")"
   ]
  },
  {
   "cell_type": "code",
   "execution_count": null,
   "id": "6bce63ad-0c37-4740-9938-9d678e80638e",
   "metadata": {},
   "outputs": [],
   "source": [
    "# Create a Markov chain\n",
    "chain = MarkovChain(\n",
    "    proposal=proposal,\n",
    "    constraints=[population_constraint],\n",
    "    accept=always_accept,\n",
    "    initial_state=initial_partition,\n",
    "    total_steps=600,  # choosing 6000 because i tried 1,000 and it was not enough. also tried 10,000 and it was kinda similar to 6,000. so i decided to go with 6,000..\n",
    ")"
   ]
  },
  {
   "cell_type": "code",
   "execution_count": null,
   "id": "1f199de9-0a14-4388-abd2-158a265ce83e",
   "metadata": {},
   "outputs": [],
   "source": [
    "for part in chain:\n",
    "    cutedge_ensemble.append(len(part[\"cut_edges\"]))\n",
    "    dem_ensemble.append(part[\"Dem\"].wins(\"Dem\"))"
   ]
  },
  {
   "cell_type": "code",
   "execution_count": null,
   "id": "3c3061b4-c6e3-4903-a8ad-283cfbdfa241",
   "metadata": {},
   "outputs": [],
   "source": [
    "# Draw histogram of number of cut edges in the plan\n",
    "plt.figure()\n",
    "plt.hist(cutedge_ensemble, align=\"left\")\n",
    "plt.xlabel(\"Number of cut edges\")\n",
    "plt.ylabel(\"Frequency\")\n",
    "plt.savefig(\"cutedge_ensemble.png\")\n",
    "\n",
    "\n",
    "# Draw histogram of number of districts won by Democrats\n",
    "plt.figure()\n",
    "plt.hist(dem_ensemble, align=\"left\")\n",
    "plt.xlabel(\"Number of districts won by Democrats\")\n",
    "plt.ylabel(\"Frequency\")\n",
    "plt.savefig(\"democrate_ensemble.png\")\n",
    "\n",
    "end_time = time.time()\n",
    "print(\"The time of execution of above program is :\",\n",
    "      (end_time-start_time)/60, \"mins\")"
   ]
  },
  {
   "cell_type": "code",
   "execution_count": null,
   "id": "ddb08931-c69c-4fd2-9e64-1d56b53aac03",
   "metadata": {},
   "outputs": [],
   "source": []
  }
 ],
 "metadata": {
  "kernelspec": {
   "display_name": "gerry",
   "language": "python",
   "name": "gerry"
  },
  "language_info": {
   "codemirror_mode": {
    "name": "ipython",
    "version": 3
   },
   "file_extension": ".py",
   "mimetype": "text/x-python",
   "name": "python",
   "nbconvert_exporter": "python",
   "pygments_lexer": "ipython3",
   "version": "3.11.4"
  }
 },
 "nbformat": 4,
 "nbformat_minor": 5
}
