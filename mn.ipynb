{
 "cells": [
  {
   "cell_type": "markdown",
   "id": "48a72edc-10d5-447e-bf59-a42b79b13098",
   "metadata": {},
   "source": [
    "# All the parameters that need to be changed"
   ]
  },
  {
   "cell_type": "code",
   "execution_count": 1,
   "id": "55545525-1a53-4366-88fa-4b4ecc94ecad",
   "metadata": {},
   "outputs": [],
   "source": [
    "# Minnesota\n",
    "state_ab = \"mn\""
   ]
  },
  {
   "cell_type": "markdown",
   "id": "c3e1bdeb-55c5-4c10-83b5-de352e6d559d",
   "metadata": {
    "tags": []
   },
   "source": [
    "## Data\n",
    "1. Download all the data in directory \"mn_data\"\n",
    "2. Eextract them all"
   ]
  },
  {
   "cell_type": "code",
   "execution_count": 2,
   "id": "1cbb32f0-472b-4441-abf2-6af58699cb5f",
   "metadata": {},
   "outputs": [],
   "source": [
    "data_folder = state_ab + \"_data/\"\n",
    "population1_data = \"./{}{}_pl2020_b/{}_pl2020_p1_b.shp\".format(data_folder, state_ab, state_ab)\n",
    "population2_data = \"./{}{}_pl2020_b/{}_pl2020_p2_b.shp\".format(data_folder, state_ab, state_ab)\n",
    "vap_data =  \"./{}{}_pl2020_b/{}_pl2020_p4_b.shp\".format(data_folder, state_ab, state_ab)\n",
    "vest20_data = \"./{}{}_vest_20/{}_vest_20.shp\".format(data_folder, state_ab, state_ab)\n",
    "vest18_data = \"./{}{}_vest_18/{}_vest_18.shp\".format(data_folder, state_ab, state_ab)\n",
    "vest16_data = \"./{}{}_vest_16/{}_vest_16.shp\".format(data_folder, state_ab, state_ab)\n",
    "cd_data = \"./{}{}_cong_adopted_2022/c2022.shp\".format(data_folder, state_ab)\n",
    "send_data = \"./{}{}_sldu_adopted_2022/l2022-sen-shp.shp\".format(data_folder, state_ab)\n",
    "hdist_data = \"./{}{}_sldl_adopted_2022/l2022_hse.shp\".format(data_folder, state_ab)\n",
    "county_data = \"./{}{}_cvap_2022_cnty/{}_cvap_2022_cnty.shp\".format(data_folder, state_ab, state_ab)"
   ]
  },
  {
   "cell_type": "markdown",
   "id": "2594a66a-efb1-443f-8b0a-b2c73257f1cc",
   "metadata": {},
   "source": [
    "## Parameters that needs to be manually checked\n",
    "\n",
    "### base vest data\n",
    "start_col = 5\\\n",
    "vest_base_data = vest20\\\n",
    "year = '20'\n",
    "\n",
    "### district data\n",
    "district column name of cong_df, send, hdist when calling add_dist()"
   ]
  },
  {
   "cell_type": "markdown",
   "id": "d9cfe42b-cfd8-4ad4-b255-31268cb35669",
   "metadata": {},
   "source": [
    "# Program starts"
   ]
  },
  {
   "cell_type": "code",
   "execution_count": 3,
   "id": "49a264d4-c255-4393-b5ae-74b6f7c645da",
   "metadata": {},
   "outputs": [],
   "source": [
    "import pandas as pd\n",
    "import geopandas as gpd\n",
    "import maup\n",
    "import time\n",
    "from maup import smart_repair\n",
    "from gerrychain import Graph\n",
    "import os\n",
    "\n",
    "maup.progress.enabled = True"
   ]
  },
  {
   "cell_type": "code",
   "execution_count": 4,
   "id": "f78d28b6-abb4-4444-aa7e-f0eb73dab3f2",
   "metadata": {},
   "outputs": [],
   "source": [
    "import warnings\n",
    "warnings.filterwarnings(\"ignore\")"
   ]
  },
  {
   "cell_type": "code",
   "execution_count": 5,
   "id": "378425b3-9819-41bd-8212-2e031b571cf2",
   "metadata": {},
   "outputs": [],
   "source": [
    "def do_smart_repair(df, min_rook_length = None, snap_precision = 10):\n",
    "    # change it to the UTM it needs for smart_repair\n",
    "    df = df.to_crs(df.estimate_utm_crs())\n",
    "    df = smart_repair(df, min_rook_length = min_rook_length, snap_precision = snap_precision)\n",
    "\n",
    "    if maup.doctor(df) == False:\n",
    "        raise Exception('maup.doctor failed')\n",
    "    \n",
    "    return df"
   ]
  },
  {
   "cell_type": "code",
   "execution_count": 6,
   "id": "df3945da-c3af-41a8-9511-a5aba33fef0b",
   "metadata": {},
   "outputs": [],
   "source": [
    "def add_district(dist_df, dist_name, election_df, col_name):\n",
    "    election_df = election_df.to_crs(election_df.estimate_utm_crs())\n",
    "    dist_df = dist_df.to_crs(dist_df.estimate_utm_crs())\n",
    "    # check if it needs to be smart_repair\n",
    "    if maup.doctor(dist_df) != True:\n",
    "        dist_df = do_smart_repair(dist_df)\n",
    "\n",
    "    # assign the pricincts\n",
    "    precincts_to_district_assignment = maup.assign(election_df.geometry, dist_df.geometry)\n",
    "    election_df[dist_name] = precincts_to_district_assignment\n",
    "    for precinct_index in range(len(election_df)):\n",
    "        election_df.at[precinct_index, dist_name] = dist_df.at[election_df.at[precinct_index, dist_name], col_name]\n",
    "\n",
    "    return election_df"
   ]
  },
  {
   "cell_type": "code",
   "execution_count": 7,
   "id": "29c38a31-6707-4ab3-a9e4-38d69ce6838c",
   "metadata": {},
   "outputs": [],
   "source": [
    "def rename(original, year):\n",
    "    party = original[6]\n",
    "    if party == 'R' or party == 'D':\n",
    "        return original[3:6] + year + original[6]\n",
    "    else:\n",
    "        return original[3:6] + year + 'O'"
   ]
  },
  {
   "cell_type": "code",
   "execution_count": 8,
   "id": "9cbd02f8-308e-4fe9-804a-6bc8474b749b",
   "metadata": {},
   "outputs": [],
   "source": [
    "def check_population(population, df):\n",
    "    pop_check = pd.DataFrame({\n",
    "        'pop_col': pop_col,\n",
    "        'population_df': population[pop_col].sum(), \n",
    "        'vest_base': df[pop_col].sum(),\n",
    "        'equal': [x == y for x, y in zip(population[pop_col].sum(), df[pop_col].sum())]\n",
    "    })\n",
    "    if pop_check['equal'].mean() < 1:\n",
    "        print(pop_check)\n",
    "        raise Exception(\"population doesn't agree\")\n",
    "\n",
    "    else:\n",
    "        print(\"population agrees\")"
   ]
  },
  {
   "cell_type": "code",
   "execution_count": 9,
   "id": "c4508baf-84cd-4a31-97ad-059164232e8e",
   "metadata": {},
   "outputs": [],
   "source": [
    "def add_vest(vest, df, year, population, start_col, snap_precision = 10):\n",
    "    df = df.to_crs(df.estimate_utm_crs())\n",
    "    vest = vest.to_crs(vest.estimate_utm_crs())\n",
    "    population = population.to_crs(population.estimate_utm_crs())\n",
    "    df_crs = df.crs\n",
    "    vest_crs = vest.crs\n",
    "    \n",
    "     # check if it needs to be smart_repair\n",
    "    if maup.doctor(vest) != True:\n",
    "        vest = do_smart_repair(vest, snap_precision = snap_precision)\n",
    "    \n",
    "    # rename the columns\n",
    "    original_col = vest.columns[start_col:-1]\n",
    "    new_col = [rename(i, year) for i in original_col]\n",
    "    rename_dict = dict(zip(original_col, new_col))\n",
    "    vest = vest.rename(columns=rename_dict)\n",
    "    vest = vest.groupby(level=0, axis=1).sum() # combine all the other party's vote into columns with sufix \"O\"\n",
    "    col_name = list(set(new_col))\n",
    "    col_name.sort()\n",
    "    \n",
    "    # make the blocks from precincts by weight\n",
    "    vest = gpd.GeoDataFrame(vest, crs=vest_crs)\n",
    "    election_in_block = population[[\"VAP\", 'geometry']] # population_df is in block scale\n",
    "    blocks_to_precincts_assignment = maup.assign(election_in_block.geometry, vest.geometry)\n",
    "    weights = election_in_block[\"VAP\"] / blocks_to_precincts_assignment.map(election_in_block[\"VAP\"].groupby(blocks_to_precincts_assignment).sum())\n",
    "    weights = weights.fillna(0)\n",
    "    prorated = maup.prorate(blocks_to_precincts_assignment, vest[col_name], weights)\n",
    "    election_in_block[col_name] = prorated\n",
    "    \n",
    "    # assign blocks to precincts\n",
    "    election_in_block = gpd.GeoDataFrame(election_in_block, crs=vest_crs)\n",
    "    df = gpd.GeoDataFrame(df, crs=df_crs)\n",
    "    block_to_pricinct_assginment = maup.assign(election_in_block.geometry, df.geometry)\n",
    "    df[col_name] = election_in_block[col_name].groupby(block_to_pricinct_assginment).sum()\n",
    "    df = df.groupby(level=0, axis=1).sum()\n",
    "    df = gpd.GeoDataFrame(df, crs = df_crs)\n",
    "    # check if population agrees\n",
    "    check_population(population, df)\n",
    "    \n",
    "    return df"
   ]
  },
  {
   "cell_type": "code",
   "execution_count": 10,
   "id": "bb2c9920",
   "metadata": {},
   "outputs": [],
   "source": [
    "def add_vest_base(vest, start_col, year, county = None, min_rook_length = None, snap_precision = 10):\n",
    "    vest = vest.to_crs(vest.estimate_utm_crs())\n",
    "    vest_crs = vest.crs\n",
    "    original_col = vest.columns[start_col:-1]\n",
    "    new_col = [rename(i, year) for i in original_col]\n",
    "    rename_dict = dict(zip(original_col, new_col))\n",
    "    vest = vest.rename(columns=rename_dict)\n",
    "    vest = vest.groupby(level=0, axis=1).sum()\n",
    "    vest = gpd.GeoDataFrame(vest, crs=vest_crs)\n",
    "\n",
    "    if county is not None:\n",
    "        county = county.to_crs(county.estimate_utm_crs())\n",
    "        vest = smart_repair(vest, nest_within_regions = county, min_rook_length = min_rook_length, snap_precision = snap_precision) # nest precincts within counties\n",
    "\n",
    "    else:\n",
    "        vest = smart_repair(vest, min_rook_length = min_rook_length, snap_precision = snap_precision) \n",
    "    \n",
    "    return vest"
   ]
  },
  {
   "cell_type": "code",
   "execution_count": 11,
   "id": "15143278",
   "metadata": {},
   "outputs": [],
   "source": [
    "def check_small_boundary_lengths(vest_base):\n",
    "    import copy\n",
    "    vest_base = vest_base.to_crs(vest_base.estimate_utm_crs())\n",
    "\n",
    "    boundaries = copy.deepcopy(vest_base)\n",
    "    boundaries[\"geometry\"] = boundaries.geometry.boundary  # get boundaries\n",
    "    neighbors = gpd.sjoin(boundaries, vest_base, predicate=\"intersects\") # find boundaries that intersect\n",
    "    neighbors = neighbors[neighbors.index != neighbors.index_right] # remove boundaries of a region with itself\n",
    "\n",
    "    # compute shared border length using intersection\n",
    "    borders = list(neighbors.apply(\n",
    "        lambda row: row.geometry.intersection(vest_base.loc[row.index_right, \"geometry\"]).length, axis=1\n",
    "    ))\n",
    "\n",
    "    borders.sort()\n",
    "    \n",
    "    return borders"
   ]
  },
  {
   "cell_type": "markdown",
   "id": "ab6ce8f5-f237-4d6c-8425-cd8a0b080f65",
   "metadata": {},
   "source": [
    "## Read the census data"
   ]
  },
  {
   "cell_type": "code",
   "execution_count": 12,
   "id": "185d2b84-d37f-4f24-86c1-1bcd0b4347e2",
   "metadata": {},
   "outputs": [],
   "source": [
    "population1_df = gpd.read_file(population1_data)\n",
    "population2_df = gpd.read_file(population2_data)\n",
    "vap_df = gpd.read_file(vap_data)\n",
    "county_df = gpd.read_file(county_data)"
   ]
  },
  {
   "cell_type": "code",
   "execution_count": 13,
   "id": "57b3b9bb-9721-469d-8eee-0dd5eb0e6015",
   "metadata": {},
   "outputs": [],
   "source": [
    "population2_df = population2_df.drop(columns=['SUMLEV', 'LOGRECNO', 'GEOID', 'COUNTY', 'geometry'])\n",
    "vap_df = vap_df.drop(columns=['SUMLEV', 'LOGRECNO', 'GEOID', 'COUNTY', 'geometry'])"
   ]
  },
  {
   "cell_type": "code",
   "execution_count": 14,
   "id": "daa935f7-bc02-4856-adb0-9cc9cf31ffca",
   "metadata": {},
   "outputs": [],
   "source": [
    "population_df = pd.merge(population1_df, population2_df, on='GEOID20')\n",
    "population_df = pd.merge(population_df, vap_df, on='GEOID20')\n",
    "population_df = population_df.to_crs(population_df.estimate_utm_crs())"
   ]
  },
  {
   "cell_type": "code",
   "execution_count": 15,
   "id": "bac556ef",
   "metadata": {},
   "outputs": [
    {
     "name": "stderr",
     "output_type": "stream",
     "text": [
      "100%|████████████████████████████████████████████████████████████| 198705/198705 [02:10<00:00, 1517.01it/s]\n"
     ]
    },
    {
     "data": {
      "text/plain": [
       "True"
      ]
     },
     "execution_count": 15,
     "metadata": {},
     "output_type": "execute_result"
    }
   ],
   "source": [
    "maup.doctor(population_df)"
   ]
  },
  {
   "cell_type": "code",
   "execution_count": 16,
   "id": "0845f50e-9920-404a-8284-c47df7b0f6ce",
   "metadata": {},
   "outputs": [],
   "source": [
    "rename_dict = {'P0020001': 'TOTPOP', 'P0020002': 'HISP', 'P0020005': 'NH_WHITE', 'P0020006': 'NH_BLACK', 'P0020007': 'NH_AMIN',\n",
    "               'P0020008': 'NH_ASIAN', 'P0020009': 'NH_NHPI', 'P0020010': 'NH_OTHER', 'P0020011': 'NH_2MORE',\n",
    "               'P0040001': 'VAP', 'P0040002': 'HVAP', 'P0040005': 'WVAP', 'P0040006': 'BVAP', 'P0040007': 'AMINVAP',\n",
    "               'P0040008': 'ASIANVAP', 'P0040009': 'NHPIVAP', 'P0040010': 'OTHERVAP', 'P0040011': '2MOREVAP'}"
   ]
  },
  {
   "cell_type": "code",
   "execution_count": 17,
   "id": "4d4f9723-ad23-46ff-bbd0-8d4ab628b69b",
   "metadata": {},
   "outputs": [],
   "source": [
    "population_df.rename(columns=rename_dict, inplace = True)"
   ]
  },
  {
   "cell_type": "code",
   "execution_count": 18,
   "id": "9550a841-5692-4d5f-a7f1-131d53eb9f12",
   "metadata": {},
   "outputs": [],
   "source": [
    "population_df['H_WHITE'] = population_df.apply(lambda t: t['P0010003'] - t['NH_WHITE'], 1)\n",
    "population_df['H_BLACK'] = population_df.apply(lambda t: t['P0010004'] - t['NH_BLACK'], 1)\n",
    "population_df['H_AMIN'] = population_df.apply(lambda t: t['P0010005'] - t['NH_AMIN'], 1)\n",
    "population_df['H_ASIAN'] = population_df.apply(lambda t: t['P0010006'] - t['NH_ASIAN'], 1)\n",
    "population_df['H_NHPI'] = population_df.apply(lambda t: t['P0010007'] - t['NH_NHPI'], 1)\n",
    "population_df['H_OTHER'] = population_df.apply(lambda t: t['P0010008'] - t['NH_OTHER'], 1)\n",
    "population_df['H_2MORE'] = population_df.apply(lambda t: t['P0010009'] - t['NH_2MORE'], 1)"
   ]
  },
  {
   "cell_type": "markdown",
   "id": "91ae4784",
   "metadata": {},
   "source": [
    "Make sure that the County shapefile is clean:"
   ]
  },
  {
   "cell_type": "code",
   "execution_count": 19,
   "id": "6db62c74",
   "metadata": {},
   "outputs": [
    {
     "name": "stderr",
     "output_type": "stream",
     "text": [
      "100%|████████████████████████████████████████████████████████████████████| 87/87 [00:00<00:00, 1160.71it/s]\n"
     ]
    },
    {
     "data": {
      "text/plain": [
       "True"
      ]
     },
     "execution_count": 19,
     "metadata": {},
     "output_type": "execute_result"
    }
   ],
   "source": [
    "maup.doctor(county_df)"
   ]
  },
  {
   "cell_type": "markdown",
   "id": "e1e89689-06e1-4937-9bee-b0442bfc33d5",
   "metadata": {},
   "source": [
    "# Read the base vest data\n",
    "Now using it as a \"base precinct\", but it could be vest 18 or vest 16 if vest 20 is not working"
   ]
  },
  {
   "cell_type": "markdown",
   "id": "bcfb3af1-db89-4463-98d8-3a0192067bb4",
   "metadata": {},
   "source": [
    "### Check if vest 20 can be used as base"
   ]
  },
  {
   "cell_type": "code",
   "execution_count": 20,
   "id": "397e9936-bfde-4b09-9dcb-207733dfb2dd",
   "metadata": {},
   "outputs": [],
   "source": [
    "vest20 = gpd.read_file(vest20_data)"
   ]
  },
  {
   "cell_type": "code",
   "execution_count": 21,
   "id": "9eba195f",
   "metadata": {},
   "outputs": [
    {
     "data": {
      "text/plain": [
       "Index(['VTDID', 'PCTNAME', 'COUNTYNAME', 'COUNTYFIPS', 'G20PREDBID',\n",
       "       'G20PRERTRU', 'G20PRELJOR', 'G20PREGHAW', 'G20PREAFUE', 'G20PREPLAR',\n",
       "       'G20PRESKEN', 'G20PREIWES', 'G20PREIPIE', 'G20PREOWRI', 'G20USSDSMI',\n",
       "       'G20USSRLEW', 'G20USSMOCO', 'G20USSCSTE', 'G20USSOWRI', 'geometry'],\n",
       "      dtype='object')"
      ]
     },
     "execution_count": 21,
     "metadata": {},
     "output_type": "execute_result"
    }
   ],
   "source": [
    "vest20.columns"
   ]
  },
  {
   "cell_type": "markdown",
   "id": "65620cab-599f-4232-818e-e85846d02694",
   "metadata": {},
   "source": [
    "## Parameters that need to be checked"
   ]
  },
  {
   "cell_type": "code",
   "execution_count": 22,
   "id": "4200a0f8-29dd-42f9-96e4-ff27188ce32a",
   "metadata": {},
   "outputs": [],
   "source": [
    "start_col = 4\n",
    "vest_base_data = vest20\n",
    "year = '20'"
   ]
  },
  {
   "cell_type": "code",
   "execution_count": 23,
   "id": "728420ec-9df2-4771-ae4c-1832fe3fb12f",
   "metadata": {},
   "outputs": [
    {
     "name": "stderr",
     "output_type": "stream",
     "text": [
      "100%|████████████████████████████████████████████████████████████████████| 87/87 [00:00<00:00, 1468.05it/s]\n"
     ]
    },
    {
     "name": "stdout",
     "output_type": "stream",
     "text": [
      "Snapping all geometries to a grid with precision 10^( -5 ) to avoid GEOS errors.\n"
     ]
    },
    {
     "name": "stderr",
     "output_type": "stream",
     "text": [
      "100%|█████████████████████████████████████████████████████████████████████| 87/87 [00:00<00:00, 702.73it/s]\n",
      "100%|█████████████████████████████████████████████████████████████████████| 87/87 [00:00<00:00, 180.31it/s]\n"
     ]
    },
    {
     "name": "stdout",
     "output_type": "stream",
     "text": [
      "Identifying overlaps...\n"
     ]
    },
    {
     "name": "stderr",
     "output_type": "stream",
     "text": [
      "100%|██████████████████████████████████████████████████████████████| 17168/17168 [00:06<00:00, 2670.56it/s]\n"
     ]
    },
    {
     "name": "stdout",
     "output_type": "stream",
     "text": [
      "Resolving overlaps and filling gaps...\n"
     ]
    },
    {
     "name": "stderr",
     "output_type": "stream",
     "text": [
      "100%|█████████████████████████████████████████████████████████████████████| 87/87 [00:00<00:00, 826.94it/s]\n",
      "100%|█████████████████████████████████████████████████████████████████████| 87/87 [00:00<00:00, 199.44it/s]\n",
      "Gaps to simplify in region 0: 100%|██████████████████████████████████████| 215/215 [00:02<00:00, 77.33it/s]\n",
      "Gaps to fill in region 0: 100%|████████████████████████████████████████████| 35/35 [00:01<00:00, 29.38it/s]\n",
      "Gaps to simplify in region 1: 100%|██████████████████████████████████████| 204/204 [00:02<00:00, 78.37it/s]\n",
      "Gaps to fill in region 1: 100%|██████████████████████████████████████████████| 8/8 [00:00<00:00, 24.24it/s]\n",
      "Gaps to simplify in region 2: 100%|█████████████████████████████████████| 162/162 [00:01<00:00, 101.00it/s]\n",
      "Gaps to fill in region 2: 100%|████████████████████████████████████████████| 11/11 [00:00<00:00, 50.97it/s]\n",
      "Gaps to simplify in region 3: 100%|█████████████████████████████████████| 148/148 [00:01<00:00, 106.63it/s]\n",
      "Gaps to fill in region 3: 100%|████████████████████████████████████████████| 20/20 [00:00<00:00, 39.01it/s]\n",
      "Gaps to simplify in region 4: 211it [00:04, 46.72it/s]                                                     \n",
      "Gaps to fill in region 4: 100%|████████████████████████████████████████████| 11/11 [00:00<00:00, 13.49it/s]\n",
      "Gaps to simplify in region 5: 100%|██████████████████████████████████████| 130/130 [00:02<00:00, 47.75it/s]\n",
      "Gaps to fill in region 5: 100%|████████████████████████████████████████████| 12/12 [00:00<00:00, 22.49it/s]\n",
      "Gaps to simplify in region 6: 100%|████████████████████████████████████████| 21/21 [00:00<00:00, 31.24it/s]\n",
      "Gaps to fill in region 6: 100%|██████████████████████████████████████████████| 6/6 [00:00<00:00, 29.39it/s]\n",
      "Gaps to simplify in region 7: 100%|██████████████████████████████████████| 266/266 [00:07<00:00, 34.53it/s]\n",
      "Gaps to fill in region 7: 100%|████████████████████████████████████████████| 20/20 [00:00<00:00, 49.61it/s]\n",
      "Gaps to simplify in region 8: 100%|████████████████████████████████████████| 28/28 [00:00<00:00, 83.77it/s]\n",
      "Gaps to fill in region 8: 100%|██████████████████████████████████████████████| 4/4 [00:00<00:00, 22.89it/s]\n",
      "Gaps to simplify in region 9: 100%|█████████████████████████████████████| 329/329 [00:03<00:00, 101.51it/s]\n",
      "Gaps to fill in region 9: 100%|████████████████████████████████████████████| 18/18 [00:00<00:00, 43.14it/s]\n",
      "Gaps to simplify in region 10: 100%|█████████████████████████████████████| 187/187 [00:03<00:00, 47.23it/s]\n",
      "Gaps to fill in region 10: 100%|███████████████████████████████████████████| 21/21 [00:01<00:00, 12.38it/s]\n",
      "Gaps to simplify in region 11: 100%|█████████████████████████████████████| 151/151 [00:01<00:00, 84.74it/s]\n",
      "Gaps to fill in region 11: 100%|███████████████████████████████████████████| 13/13 [00:00<00:00, 30.14it/s]\n",
      "Gaps to simplify in region 12: 100%|███████████████████████████████████████| 18/18 [00:00<00:00, 93.12it/s]\n",
      "Gaps to fill in region 12: 100%|█████████████████████████████████████████████| 5/5 [00:00<00:00, 35.61it/s]\n",
      "Gaps to simplify in region 13: 348it [00:04, 85.14it/s]                                                    \n",
      "Gaps to fill in region 13: 100%|███████████████████████████████████████████| 16/16 [00:00<00:00, 44.32it/s]\n",
      "Gaps to simplify in region 14: 100%|████████████████████████████████████| 250/250 [00:02<00:00, 117.63it/s]\n",
      "Gaps to fill in region 14: 100%|█████████████████████████████████████████████| 9/9 [00:00<00:00, 57.94it/s]\n",
      "Gaps to simplify in region 15: 100%|█████████████████████████████████████| 171/171 [00:02<00:00, 74.21it/s]\n",
      "Gaps to fill in region 15: 100%|███████████████████████████████████████████| 20/20 [00:00<00:00, 50.28it/s]\n",
      "Gaps to simplify in region 16: 100%|█████████████████████████████████████| 247/247 [00:07<00:00, 31.02it/s]\n",
      "Gaps to fill in region 16: 100%|███████████████████████████████████████████| 12/12 [00:00<00:00, 48.39it/s]\n",
      "Gaps to simplify in region 17: 100%|█████████████████████████████████████| 191/191 [00:03<00:00, 52.42it/s]\n",
      "Gaps to fill in region 17: 100%|███████████████████████████████████████████| 17/17 [00:00<00:00, 36.58it/s]\n",
      "Gaps to simplify in region 18:  79%|█████████████████████████████        | 327/416 [00:13<00:02, 39.38it/s]"
     ]
    },
    {
     "name": "stdout",
     "output_type": "stream",
     "text": [
      "Found a component of the region at index 18 that does not intersect any geometry assigned to that region.\n"
     ]
    },
    {
     "name": "stderr",
     "output_type": "stream",
     "text": [
      "Gaps to simplify in region 18:  90%|█████████████████████████████████▎   | 374/416 [00:14<00:01, 33.03it/s]"
     ]
    },
    {
     "name": "stdout",
     "output_type": "stream",
     "text": [
      "Found a component of the region at index 18 that does not intersect any geometry assigned to that region.\n"
     ]
    },
    {
     "name": "stderr",
     "output_type": "stream",
     "text": [
      "Gaps to simplify in region 18: 100%|█████████████████████████████████████| 416/416 [00:15<00:00, 27.01it/s]\n",
      "Gaps to fill in region 18: 100%|█████████████████████████████████████████████| 7/7 [00:00<00:00, 12.39it/s]\n",
      "Gaps to simplify in region 19:  44%|████████████████▎                    | 107/242 [00:02<00:02, 61.33it/s]"
     ]
    },
    {
     "name": "stdout",
     "output_type": "stream",
     "text": [
      "Found a component of the region at index 19 that does not intersect any geometry assigned to that region.\n"
     ]
    },
    {
     "name": "stderr",
     "output_type": "stream",
     "text": [
      "Gaps to simplify in region 19: 100%|█████████████████████████████████████| 242/242 [00:04<00:00, 54.89it/s]\n",
      "Gaps to fill in region 19: 100%|█████████████████████████████████████████████| 8/8 [00:00<00:00, 35.72it/s]\n",
      "Gaps to simplify in region 20: 100%|███████████████████████████████████████| 90/90 [00:03<00:00, 28.22it/s]\n",
      "Gaps to fill in region 20: 100%|█████████████████████████████████████████████| 5/5 [00:00<00:00, 24.08it/s]\n",
      "Gaps to simplify in region 21: 100%|█████████████████████████████████████| 236/236 [00:05<00:00, 43.17it/s]\n",
      "Gaps to fill in region 21: 100%|███████████████████████████████████████████| 13/13 [00:00<00:00, 31.34it/s]\n",
      "Gaps to simplify in region 22: 100%|█████████████████████████████████████| 356/356 [00:06<00:00, 50.91it/s]\n",
      "Gaps to fill in region 22: 100%|███████████████████████████████████████████| 21/21 [00:00<00:00, 53.25it/s]\n",
      "Gaps to simplify in region 23: 161it [00:03, 46.09it/s]                                                    \n",
      "Gaps to fill in region 23: 100%|███████████████████████████████████████████| 10/10 [00:00<00:00, 38.89it/s]\n",
      "Gaps to simplify in region 24: 100%|█████████████████████████████████████| 285/285 [00:04<00:00, 66.24it/s]\n",
      "Gaps to fill in region 24: 100%|███████████████████████████████████████████| 10/10 [00:00<00:00, 34.73it/s]\n",
      "Gaps to simplify in region 25: 100%|█████████████████████████████████████| 280/280 [00:03<00:00, 74.79it/s]\n",
      "Gaps to fill in region 25: 100%|███████████████████████████████████████████| 12/12 [00:00<00:00, 50.72it/s]\n",
      "Gaps to simplify in region 26: 100%|█████████████████████████████████████| 380/380 [00:11<00:00, 32.62it/s]\n",
      "Gaps to fill in region 26: 100%|███████████████████████████████████████████| 15/15 [00:00<00:00, 41.77it/s]\n",
      "Gaps to simplify in region 27: 100%|███████████████████████████████████████| 55/55 [00:01<00:00, 29.70it/s]\n",
      "Gaps to fill in region 27: 100%|███████████████████████████████████████████| 18/18 [00:01<00:00, 11.86it/s]\n",
      "Gaps to simplify in region 28: 100%|████████████████████████████████████| 203/203 [00:01<00:00, 112.30it/s]\n",
      "Gaps to fill in region 28: 100%|███████████████████████████████████████████| 12/12 [00:00<00:00, 58.12it/s]\n",
      "Gaps to simplify in region 29: 100%|███████████████████████████████████████| 14/14 [00:00<00:00, 72.41it/s]\n",
      "Gaps to fill in region 29: 100%|█████████████████████████████████████████████| 8/8 [00:00<00:00, 31.89it/s]\n",
      "Gaps to simplify in region 30: 100%|██████████████████████████████████████| 20/20 [00:00<00:00, 120.54it/s]\n",
      "Gaps to fill in region 30: 100%|█████████████████████████████████████████████| 5/5 [00:00<00:00, 34.69it/s]\n",
      "Gaps to simplify in region 31: 100%|███████████████████████████████████████| 47/47 [00:01<00:00, 42.86it/s]\n",
      "Gaps to fill in region 31: 100%|█████████████████████████████████████████████| 5/5 [00:00<00:00, 16.01it/s]\n",
      "Gaps to simplify in region 32: 100%|███████████████████████████████████████| 56/56 [00:00<00:00, 78.40it/s]\n",
      "Gaps to fill in region 32: 100%|█████████████████████████████████████████████| 2/2 [00:00<00:00, 34.80it/s]\n",
      "Gaps to simplify in region 33: 100%|██████████████████████████████████████| 22/22 [00:00<00:00, 120.72it/s]\n",
      "Gaps to fill in region 33: 100%|█████████████████████████████████████████████| 6/6 [00:00<00:00, 64.85it/s]\n",
      "Gaps to simplify in region 34: 57it [00:00, 107.34it/s]                                                    \n",
      "Gaps to fill in region 34: 100%|███████████████████████████████████████████| 15/15 [00:00<00:00, 52.97it/s]\n",
      "Gaps to simplify in region 35: 100%|███████████████████████████████████████| 26/26 [00:00<00:00, 90.39it/s]\n",
      "Gaps to fill in region 35: 100%|█████████████████████████████████████████████| 7/7 [00:00<00:00, 36.21it/s]\n",
      "Gaps to simplify in region 36: 100%|███████████████████████████████████████| 25/25 [00:00<00:00, 68.07it/s]\n",
      "Gaps to fill in region 36: 100%|█████████████████████████████████████████████| 7/7 [00:00<00:00, 25.77it/s]\n",
      "Gaps to simplify in region 37: 100%|███████████████████████████████████████| 26/26 [00:00<00:00, 81.23it/s]\n",
      "Gaps to fill in region 37: 100%|███████████████████████████████████████████| 11/11 [00:00<00:00, 43.94it/s]\n",
      "Gaps to simplify in region 38: 100%|███████████████████████████████████████| 70/70 [00:00<00:00, 91.34it/s]\n",
      "Gaps to fill in region 38: 100%|███████████████████████████████████████████| 14/14 [00:00<00:00, 41.92it/s]\n",
      "Gaps to simplify in region 39: 100%|███████████████████████████████████████| 27/27 [00:00<00:00, 72.01it/s]\n",
      "Gaps to fill in region 39: 100%|███████████████████████████████████████████| 10/10 [00:00<00:00, 42.91it/s]\n",
      "Gaps to simplify in region 40: 100%|███████████████████████████████████████| 16/16 [00:00<00:00, 99.70it/s]\n",
      "Gaps to fill in region 40: 100%|█████████████████████████████████████████████| 5/5 [00:00<00:00, 55.38it/s]\n",
      "Gaps to simplify in region 41: 100%|██████████████████████████████████████| 70/70 [00:00<00:00, 111.65it/s]\n",
      "Gaps to fill in region 41: 100%|█████████████████████████████████████████████| 5/5 [00:00<00:00, 31.95it/s]\n",
      "Gaps to simplify in region 42: 100%|██████████████████████████████████████| 22/22 [00:00<00:00, 107.43it/s]\n",
      "Gaps to fill in region 42: 100%|█████████████████████████████████████████████| 4/4 [00:00<00:00, 31.72it/s]\n",
      "Gaps to simplify in region 43: 100%|██████████████████████████████████████| 21/21 [00:00<00:00, 112.70it/s]\n",
      "Gaps to fill in region 43: 100%|█████████████████████████████████████████████| 7/7 [00:00<00:00, 59.02it/s]\n",
      "Gaps to simplify in region 44: 100%|███████████████████████████████████████| 67/67 [00:04<00:00, 16.11it/s]\n",
      "Gaps to fill in region 44: 100%|███████████████████████████████████████████| 14/14 [00:00<00:00, 31.23it/s]\n",
      "Gaps to simplify in region 45: 100%|███████████████████████████████████████| 93/93 [00:01<00:00, 50.32it/s]\n",
      "Gaps to fill in region 45: 100%|███████████████████████████████████████████| 12/12 [00:00<00:00, 47.67it/s]\n",
      "Gaps to simplify in region 46: 100%|███████████████████████████████████████| 42/42 [00:00<00:00, 73.34it/s]\n",
      "Gaps to fill in region 46: 100%|███████████████████████████████████████████| 19/19 [00:00<00:00, 71.57it/s]\n",
      "Gaps to simplify in region 47: 100%|███████████████████████████████████████| 23/23 [00:00<00:00, 41.57it/s]\n",
      "Gaps to fill in region 47: 100%|███████████████████████████████████████████| 19/19 [00:00<00:00, 29.10it/s]\n",
      "Gaps to simplify in region 48: 100%|██████████████████████████████████████| 46/46 [00:00<00:00, 105.84it/s]\n",
      "Gaps to fill in region 48: 100%|███████████████████████████████████████████| 18/18 [00:00<00:00, 43.79it/s]\n",
      "Gaps to simplify in region 49: 100%|█████████████████████████████████████| 104/104 [00:06<00:00, 15.38it/s]\n",
      "Gaps to fill in region 49: 100%|███████████████████████████████████████████| 17/17 [00:00<00:00, 42.52it/s]\n",
      "Gaps to simplify in region 50: 100%|██████████████████████████████████████| 22/22 [00:00<00:00, 103.98it/s]\n",
      "Gaps to fill in region 50: 100%|█████████████████████████████████████████████| 5/5 [00:00<00:00, 61.17it/s]\n",
      "Gaps to simplify in region 51: 100%|███████████████████████████████████████| 21/21 [00:00<00:00, 81.00it/s]\n",
      "Gaps to fill in region 51: 100%|█████████████████████████████████████████████| 8/8 [00:00<00:00, 29.49it/s]\n",
      "Gaps to simplify in region 52: 100%|██████████████████████████████████████| 30/30 [00:00<00:00, 109.21it/s]\n",
      "Gaps to fill in region 52: 100%|███████████████████████████████████████████| 10/10 [00:00<00:00, 59.12it/s]\n",
      "Gaps to simplify in region 53: 100%|███████████████████████████████████████| 76/76 [00:01<00:00, 49.53it/s]\n",
      "Gaps to fill in region 53: 100%|█████████████████████████████████████████████| 9/9 [00:00<00:00, 17.68it/s]\n",
      "Gaps to simplify in region 54: 100%|██████████████████████████████████████| 83/83 [00:00<00:00, 125.67it/s]\n",
      "Gaps to fill in region 54: 100%|█████████████████████████████████████████████| 8/8 [00:00<00:00, 29.13it/s]\n",
      "Gaps to simplify in region 55: 100%|███████████████████████████████████████| 17/17 [00:00<00:00, 50.25it/s]\n",
      "Gaps to fill in region 55: 100%|███████████████████████████████████████████| 11/11 [00:00<00:00, 47.00it/s]\n",
      "Gaps to simplify in region 56: 100%|███████████████████████████████████████| 19/19 [00:00<00:00, 89.04it/s]\n",
      "Gaps to fill in region 56: 100%|█████████████████████████████████████████████| 8/8 [00:00<00:00, 33.61it/s]\n",
      "Gaps to simplify in region 57: 100%|██████████████████████████████████████| 61/61 [00:00<00:00, 101.64it/s]\n",
      "Gaps to fill in region 57: 100%|███████████████████████████████████████████| 12/12 [00:00<00:00, 26.96it/s]\n",
      "Gaps to simplify in region 58: 100%|███████████████████████████████████████| 76/76 [00:04<00:00, 18.30it/s]\n",
      "Gaps to fill in region 58: 100%|███████████████████████████████████████████| 14/14 [00:00<00:00, 31.66it/s]\n",
      "Gaps to simplify in region 59: 100%|██████████████████████████████████████| 21/21 [00:00<00:00, 125.94it/s]\n",
      "Gaps to fill in region 59: 100%|█████████████████████████████████████████████| 7/7 [00:00<00:00, 67.26it/s]\n",
      "Gaps to simplify in region 60: 100%|██████████████████████████████████████| 25/25 [00:00<00:00, 111.10it/s]\n",
      "Gaps to fill in region 60: 100%|███████████████████████████████████████████| 10/10 [00:00<00:00, 54.38it/s]\n",
      "Gaps to simplify in region 61: 100%|███████████████████████████████████████| 33/33 [00:00<00:00, 56.87it/s]\n",
      "Gaps to fill in region 61: 100%|███████████████████████████████████████████| 11/11 [00:00<00:00, 49.77it/s]\n",
      "Gaps to simplify in region 62: 100%|███████████████████████████████████████| 46/46 [00:00<00:00, 78.07it/s]\n",
      "Gaps to fill in region 62: 100%|███████████████████████████████████████████| 12/12 [00:00<00:00, 37.17it/s]\n",
      "Gaps to simplify in region 63: 100%|██████████████████████████████████████| 78/78 [00:00<00:00, 110.76it/s]\n",
      "Gaps to fill in region 63: 100%|███████████████████████████████████████████| 14/14 [00:00<00:00, 43.32it/s]\n",
      "Gaps to simplify in region 64: 100%|███████████████████████████████████████| 25/25 [00:00<00:00, 97.77it/s]\n",
      "Gaps to fill in region 64: 100%|███████████████████████████████████████████| 10/10 [00:00<00:00, 47.47it/s]\n",
      "Gaps to simplify in region 65: 100%|███████████████████████████████████████| 17/17 [00:00<00:00, 79.87it/s]\n",
      "Gaps to fill in region 65: 100%|█████████████████████████████████████████████| 7/7 [00:00<00:00, 48.72it/s]\n",
      "Gaps to simplify in region 66: 100%|██████████████████████████████████████| 29/29 [00:00<00:00, 116.64it/s]\n",
      "Gaps to fill in region 66: 100%|███████████████████████████████████████████| 10/10 [00:00<00:00, 56.91it/s]\n",
      "Gaps to simplify in region 67: 100%|████████████████████████████████████| 169/169 [00:01<00:00, 109.72it/s]\n",
      "Gaps to fill in region 67: 100%|█████████████████████████████████████████████| 7/7 [00:00<00:00, 64.20it/s]\n",
      "Gaps to simplify in region 68: 100%|██████████████████████████████████████| 21/21 [00:00<00:00, 140.08it/s]\n",
      "Gaps to fill in region 68: 100%|█████████████████████████████████████████████| 5/5 [00:00<00:00, 62.94it/s]\n",
      "Gaps to simplify in region 69: 100%|███████████████████████████████████████| 13/13 [00:00<00:00, 63.41it/s]\n",
      "Gaps to fill in region 69: 100%|█████████████████████████████████████████████| 6/6 [00:00<00:00, 30.99it/s]\n",
      "Gaps to simplify in region 70: 78it [00:00, 95.57it/s]                                                     \n",
      "Gaps to fill in region 70: 100%|███████████████████████████████████████████| 13/13 [00:00<00:00, 32.25it/s]\n",
      "Gaps to simplify in region 71: 100%|███████████████████████████████████████| 69/69 [00:00<00:00, 79.79it/s]\n",
      "Gaps to fill in region 71: 100%|█████████████████████████████████████████████| 9/9 [00:00<00:00, 50.55it/s]\n",
      "Gaps to simplify in region 72: 100%|███████████████████████████████████████| 16/16 [00:00<00:00, 76.22it/s]\n",
      "Gaps to fill in region 72: 100%|█████████████████████████████████████████████| 8/8 [00:00<00:00, 59.66it/s]\n",
      "Gaps to simplify in region 73: 100%|███████████████████████████████████████| 23/23 [00:00<00:00, 99.65it/s]\n",
      "Gaps to fill in region 73: 100%|█████████████████████████████████████████████| 8/8 [00:00<00:00, 28.67it/s]\n",
      "Gaps to simplify in region 74: 100%|██████████████████████████████████████| 60/60 [00:00<00:00, 110.30it/s]\n",
      "Gaps to fill in region 74: 100%|███████████████████████████████████████████| 14/14 [00:00<00:00, 35.54it/s]\n",
      "Gaps to simplify in region 75: 100%|██████████████████████████████████████| 47/47 [00:00<00:00, 119.30it/s]\n",
      "Gaps to fill in region 75: 100%|███████████████████████████████████████████| 15/15 [00:00<00:00, 71.51it/s]\n",
      "Gaps to simplify in region 76: 100%|███████████████████████████████████████| 28/28 [00:00<00:00, 92.44it/s]\n",
      "Gaps to fill in region 76: 100%|███████████████████████████████████████████| 10/10 [00:00<00:00, 24.95it/s]\n",
      "Gaps to simplify in region 77: 100%|███████████████████████████████████████| 19/19 [00:00<00:00, 76.94it/s]\n",
      "Gaps to fill in region 77: 100%|███████████████████████████████████████████| 10/10 [00:00<00:00, 67.58it/s]\n",
      "Gaps to simplify in region 78: 100%|██████████████████████████████████████| 21/21 [00:00<00:00, 101.22it/s]\n",
      "Gaps to fill in region 78: 100%|█████████████████████████████████████████████| 7/7 [00:00<00:00, 47.15it/s]\n",
      "Gaps to simplify in region 79: 100%|██████████████████████████████████████| 96/96 [00:00<00:00, 127.03it/s]\n",
      "Gaps to fill in region 79: 100%|█████████████████████████████████████████████| 6/6 [00:00<00:00, 43.15it/s]\n",
      "Gaps to simplify in region 80: 100%|███████████████████████████████████████| 31/31 [00:00<00:00, 87.27it/s]\n",
      "Gaps to fill in region 80: 100%|███████████████████████████████████████████| 12/12 [00:00<00:00, 65.09it/s]\n",
      "Gaps to simplify in region 81: 100%|███████████████████████████████████████| 40/40 [00:00<00:00, 98.17it/s]\n",
      "Gaps to fill in region 81: 100%|███████████████████████████████████████████| 14/14 [00:00<00:00, 40.87it/s]\n",
      "Gaps to simplify in region 82: 100%|███████████████████████████████████████| 85/85 [00:01<00:00, 81.57it/s]\n",
      "Gaps to fill in region 82: 100%|███████████████████████████████████████████| 14/14 [00:00<00:00, 28.41it/s]\n",
      "Gaps to simplify in region 83: 100%|██████████████████████████████████████| 21/21 [00:00<00:00, 115.15it/s]\n",
      "Gaps to fill in region 83: 100%|█████████████████████████████████████████████| 6/6 [00:00<00:00, 36.57it/s]\n",
      "Gaps to simplify in region 84: 100%|██████████████████████████████████████| 22/22 [00:00<00:00, 175.19it/s]\n",
      "Gaps to fill in region 84: 100%|█████████████████████████████████████████████| 2/2 [00:00<00:00, 60.23it/s]\n",
      "Gaps to simplify in region 85: 100%|███████████████████████████████████████| 21/21 [00:00<00:00, 77.66it/s]\n",
      "Gaps to fill in region 85: 100%|█████████████████████████████████████████████| 9/9 [00:00<00:00, 50.26it/s]\n",
      "Gaps to simplify in region 86: 100%|███████████████████████████████████████| 25/25 [00:00<00:00, 77.89it/s]\n",
      "Gaps to fill in region 86: 100%|█████████████████████████████████████████████| 8/8 [00:00<00:00, 30.61it/s]\n"
     ]
    },
    {
     "name": "stdout",
     "output_type": "stream",
     "text": [
      "WARNING: A component of the geometry at index 963 may have been disconnected!\n",
      "WARNING: A component of the geometry at index 2406 may have been disconnected!\n",
      "WARNING: A component of the geometry at index 2764 may have been disconnected!\n"
     ]
    }
   ],
   "source": [
    "vest_base = add_vest_base(vest20, start_col, year, county = county_df)"
   ]
  },
  {
   "cell_type": "markdown",
   "id": "e17ec41e",
   "metadata": {},
   "source": [
    "Let's look at the border lengths.  If there's a clear reasonable cutoff for switching rook adjacencies to queen, we use that.  Otherwise, we can use 30.5 m (which is approximately 100 ft).  This is not a magic number, just a reasonable one."
   ]
  },
  {
   "cell_type": "code",
   "execution_count": 24,
   "id": "27cf40e8",
   "metadata": {},
   "outputs": [
    {
     "name": "stdout",
     "output_type": "stream",
     "text": [
      "[0.0, 0.0, 0.0, 0.0, 0.0, 0.0, 0.0, 0.0, 0.0, 0.0, 0.0, 0.0, 0.0, 0.0, 0.0, 0.0, 0.0, 0.0, 0.0, 0.0, 0.0, 0.0, 0.0, 0.0, 0.0, 0.0, 0.0, 0.0, 0.0, 0.0, 0.0, 0.0, 0.0, 0.0, 0.0, 0.0, 0.0, 0.0, 0.0, 0.0, 0.0, 0.0, 0.0, 0.0, 0.0, 0.0, 0.0, 0.0, 0.0, 0.0, 0.0, 0.0, 0.0, 0.0, 0.0, 0.0, 0.0, 0.0, 0.0, 0.0, 0.0, 0.0, 0.0, 0.0, 0.0, 0.0, 0.0, 0.0, 0.0, 0.0, 0.0, 0.0, 0.0, 0.0, 0.0, 0.0, 0.0, 0.0, 0.0, 0.0, 0.0, 0.0, 0.0, 0.0, 0.0, 0.0, 0.0, 0.0, 0.0, 0.0, 0.0, 0.0, 0.0, 0.0, 0.0, 0.0, 0.0, 0.0, 0.0, 0.0, 0.0, 0.0, 0.0, 0.0, 0.0, 0.0, 0.0, 0.0, 0.0, 0.0, 0.0, 0.0, 0.0, 0.0, 0.0, 0.0, 0.0, 0.0, 0.0, 0.0, 0.0, 0.0, 0.0, 0.0, 0.0, 0.0, 0.0, 0.0, 0.0, 0.0, 0.0, 0.0, 0.0, 0.0, 0.0, 0.0, 0.0, 0.0, 0.0, 0.0, 0.0, 0.0, 0.0, 0.0, 0.0, 0.0, 0.0, 0.0, 0.0, 0.0, 0.0, 0.0, 0.0, 0.0, 0.0, 0.0, 0.0, 0.0, 0.0, 0.0, 0.0, 0.0, 0.0, 0.0, 0.0, 0.0, 0.0, 0.0, 0.0, 0.0, 0.0, 0.0, 0.0, 0.0, 0.0, 0.0, 0.0, 0.0, 0.0, 0.0, 0.0, 0.0, 0.0, 0.0, 0.0, 0.0, 0.0, 0.0, 0.0, 0.0, 0.0, 0.0, 0.0, 0.0, 0.0, 0.0, 0.0, 0.0, 0.0, 0.0, 0.0, 0.0, 0.0, 0.0, 0.0, 0.0, 0.0, 0.0, 0.0, 0.0, 0.0, 0.0, 0.0, 0.0, 0.0, 0.0, 0.0, 0.0, 0.0, 0.0, 0.0, 0.0, 0.0, 0.0, 0.0, 0.0, 0.0, 0.0, 0.0, 0.0, 0.0, 0.0, 0.0, 0.0, 0.0, 0.0, 0.0, 0.0, 0.0, 0.0, 0.0, 0.0, 0.0, 0.0, 0.0, 0.0, 0.0, 0.0, 0.0, 0.0, 0.0, 0.0, 0.0, 0.0, 0.0, 0.0, 0.0, 0.0, 0.0, 0.0, 0.0, 0.0, 0.0, 0.0, 0.0, 0.0, 0.0, 0.0, 0.0, 0.0, 0.0, 0.0, 0.0, 0.0, 0.0, 0.0, 0.0, 0.0, 0.0, 0.0, 0.0, 0.0, 0.0, 0.0, 0.0, 0.0, 0.0, 0.0, 0.0, 0.0, 0.0, 0.0, 0.0, 0.0, 0.0, 0.0, 0.0, 0.0, 0.0, 0.0, 0.0, 0.0, 0.0, 0.0, 0.0, 0.0, 0.0, 0.0, 0.0, 0.0, 0.0, 0.0, 0.0, 0.0, 0.0, 0.0, 0.0, 0.0, 0.0, 0.0, 0.0, 0.0, 0.0, 0.0, 0.0, 0.0, 0.0, 0.0, 0.0, 0.0, 0.0, 0.0, 0.0, 0.0, 0.0, 0.0, 0.0, 0.0, 0.0, 0.0, 0.0, 0.0, 0.0, 0.0, 0.0, 0.0, 0.0, 0.0, 0.0, 0.0, 0.0, 0.0, 0.0, 0.0, 0.0, 0.0, 0.0, 0.0, 0.0, 0.0, 0.0, 0.0, 0.0, 0.0, 0.0, 0.0, 0.0, 0.0, 0.0, 0.0, 0.0, 0.0, 0.0, 0.0, 0.0, 0.0, 0.0, 0.0, 0.0, 0.0, 0.0, 0.0, 0.0, 0.0, 0.0, 0.0, 0.0, 0.0, 0.0, 0.0, 0.0, 0.0, 0.0, 0.0, 0.0, 0.0, 0.0, 0.0, 0.0, 0.0, 0.0, 0.0, 0.0, 0.0, 0.0, 0.0, 0.0, 0.0, 0.0, 0.0, 0.0, 0.0, 0.0, 0.0, 0.0, 0.0, 0.0, 0.0, 0.0, 0.0, 0.0, 0.0, 0.0, 0.0, 0.0, 0.0, 0.0, 0.0, 0.0, 0.0, 0.0, 0.0, 0.0, 0.0, 0.0, 0.0, 0.0, 0.0, 0.0, 0.0, 0.0, 0.0, 0.0, 0.0, 0.0, 0.0, 0.0, 0.0, 0.0, 0.0, 0.0, 0.0, 0.0, 0.0, 0.0, 0.0, 0.0, 0.0, 0.0, 0.0, 0.0, 0.0, 0.0, 0.0, 0.0, 0.0, 0.0, 0.0, 0.0, 0.0, 0.0, 0.0, 0.0, 0.0, 0.0, 0.0, 0.0, 0.0, 0.0, 0.0, 0.0, 0.0, 0.0, 0.0, 0.0, 0.0, 0.0, 0.0, 0.0, 0.0, 0.0, 0.0, 0.0, 0.0, 0.0, 0.0, 0.0, 0.0, 0.0, 0.0, 0.0, 0.0, 0.0, 0.0, 0.0, 0.0, 0.0, 0.0, 0.0, 0.0, 0.0, 0.0, 0.0, 0.0, 0.0, 0.0, 0.0, 0.0, 0.0, 0.0, 0.0, 0.0, 0.0, 0.0, 0.0, 0.0, 0.0, 0.0, 0.0, 0.0, 0.0, 0.0, 0.0, 0.0, 0.0, 0.0, 0.0, 0.0, 0.0, 0.0, 0.0, 0.0, 0.0, 0.0, 0.0, 0.0, 0.0, 0.0, 0.0, 0.0, 0.0, 0.0, 0.0, 0.0, 0.0, 0.0, 0.0, 0.0, 0.0, 0.0, 0.0, 0.0, 0.0, 0.0, 0.0, 0.0, 0.0, 0.0, 0.0, 0.0, 0.0, 0.0, 0.0, 0.0, 0.0, 0.0, 0.0, 0.0, 0.0, 0.0, 0.0, 0.0, 0.0, 0.0, 0.0, 0.0, 0.0, 0.0, 0.0, 0.0, 0.0, 0.0, 0.0, 0.0, 0.0, 0.0, 0.0, 0.0, 0.0, 0.0, 0.0, 0.0, 0.0, 0.0, 0.0, 0.0, 0.0, 0.0, 0.0, 0.0, 0.0, 0.0, 0.0, 0.0, 0.0, 0.0, 0.0, 0.0, 0.0, 0.0, 0.0, 0.0, 0.0, 0.0, 0.0, 0.0, 0.0, 0.0, 0.0, 0.0, 0.0, 0.0, 0.0, 0.0, 0.0, 0.0, 0.0, 0.0, 0.0, 0.0, 0.0, 0.0, 0.0, 0.0, 0.0, 0.0, 0.0, 0.0, 0.0, 0.0, 0.0, 0.0, 0.0, 0.0, 0.0, 0.0, 0.0, 0.0, 0.0, 0.0, 0.0, 0.0, 0.0, 0.0, 0.0, 0.0, 0.0, 0.0, 0.0, 0.0, 0.0, 0.0, 0.0, 0.0, 0.0, 0.0, 0.0, 0.0, 0.0, 0.0, 0.0, 0.0, 0.0, 0.0, 0.0, 0.0, 0.0, 0.0, 0.0, 0.0, 0.0, 0.0, 0.0, 0.0, 0.0, 0.0, 0.0, 0.0, 0.0, 0.0, 0.0, 0.0, 0.0, 0.0, 0.0, 0.0, 0.0, 0.0, 0.0, 0.0, 0.0, 0.0, 0.0, 0.0, 0.0, 0.0, 0.0, 0.0, 0.0, 0.0, 0.0, 0.0, 0.0, 0.0, 0.0, 0.0, 0.0, 0.0, 0.0, 0.0, 0.0, 0.0, 0.0, 0.0, 0.0, 0.0, 0.0, 0.0, 0.0, 0.0, 0.0, 0.0, 0.0, 0.0, 0.0, 0.0, 0.0, 0.0, 0.0, 0.0, 0.0, 0.0, 0.0, 0.0, 0.0, 0.0, 0.0, 0.0, 0.0, 0.0, 0.0, 0.0, 0.0, 0.0, 0.0, 0.0, 0.0, 0.0, 0.0, 0.0, 0.0, 0.0, 0.0, 0.0, 0.0, 0.0, 0.0, 0.0, 0.0, 0.0, 0.0, 0.0, 0.0, 0.0, 0.0, 0.0, 0.0, 0.0, 0.0, 0.0, 0.0, 0.0, 0.0, 0.0, 0.0, 0.0, 0.0, 0.0, 0.0, 0.0, 0.0, 0.0, 0.0, 0.0, 0.0, 0.0, 0.0, 0.0, 0.0, 0.0, 0.0, 0.0, 0.0, 0.0, 0.0, 0.0, 0.0, 0.0, 0.0, 0.0, 0.0, 0.0, 0.0, 0.0, 0.0, 0.0, 0.0, 0.0, 0.0, 0.0, 0.0, 0.0, 0.0, 0.0, 0.0, 0.0, 0.0, 0.0, 0.0, 0.0, 0.0, 0.0, 0.0, 0.0, 0.0, 0.0, 0.0, 0.0, 0.0, 0.0, 0.0, 0.0, 0.0, 0.0, 0.0, 0.0, 0.0, 0.0, 0.0, 0.0, 0.0, 0.0, 0.0, 0.0, 0.0, 0.0, 0.0, 0.0, 0.0, 0.0, 0.0, 0.0, 0.0, 0.0, 0.0, 0.0, 0.0, 0.0, 0.0, 0.0, 0.0, 0.0, 0.0, 0.0, 0.0, 0.0, 0.0, 0.0, 0.0, 0.0, 0.0, 0.0, 0.0, 0.0, 0.0, 0.0, 0.0, 0.0, 0.0, 0.0, 0.0, 0.0, 0.0, 0.0, 0.0, 0.0, 0.0, 0.0, 0.0, 0.0, 0.0, 0.0, 0.0, 0.0, 0.0, 0.0, 0.0, 0.0, 0.0, 0.0, 0.0, 0.0, 0.0, 0.0, 0.0, 0.0, 0.0, 0.0, 0.0, 0.0, 0.0, 0.0, 0.0, 0.0, 0.0, 0.0, 0.0, 0.0, 0.0, 0.0, 0.0, 0.0, 0.0, 0.0, 0.0, 0.0, 0.0, 0.0, 0.0, 0.0, 0.0, 0.0, 0.0, 0.0, 0.0, 0.0, 0.0, 0.0, 0.0, 0.0, 0.0, 0.0, 0.0, 0.0, 0.0, 0.0, 0.0, 0.0, 0.0, 0.0, 0.0, 0.0, 0.0, 0.0, 0.0, 0.0, 0.0, 0.0, 0.0, 0.0, 0.0, 0.0, 0.0, 0.0, 0.0, 0.0, 0.0, 0.0, 0.0, 0.0, 0.0, 0.0, 0.0, 0.0, 0.0, 0.0, 0.0, 0.0, 0.0, 0.0, 0.0, 0.0, 0.0, 0.0, 0.0, 0.0, 0.0, 0.0, 0.0, 0.0, 0.0, 0.0, 0.0, 0.0, 0.0, 0.0, 0.0, 0.0, 0.0, 0.0, 0.0, 0.0, 0.0, 0.0, 0.0, 0.0, 0.0, 0.0, 0.0, 0.0, 0.0, 0.0, 0.0, 0.0, 0.0, 0.0, 0.0, 0.0, 0.0, 0.0, 0.0, 0.0, 0.0, 0.0, 0.0, 0.0, 0.0, 0.0, 0.0, 0.0, 0.0, 0.0, 0.0, 0.0, 0.0, 0.0, 0.0, 0.0, 0.0, 0.0, 0.0, 0.0, 0.0, 0.0, 0.0, 0.0, 0.0, 0.0, 0.0, 0.0, 0.0, 0.0, 0.0, 0.0, 0.0, 0.0, 0.0, 0.0, 0.0, 0.0, 0.0, 0.0, 0.0, 0.0, 0.0, 0.0, 0.0, 0.0, 0.0, 0.0, 0.0, 0.0, 0.0, 0.0, 0.0, 0.0, 0.0, 0.0, 0.0, 0.0, 0.0, 0.0, 0.0, 0.0, 0.0, 0.0, 0.0, 0.0, 0.0, 0.0, 0.0, 0.0, 0.0, 0.0, 0.0, 0.0, 0.0, 0.0, 0.0, 0.0, 0.0, 0.0, 0.0, 0.0, 0.0, 0.0, 0.0, 0.0, 0.0, 0.0, 0.0, 0.0, 0.0, 0.0, 0.0, 0.0, 0.0, 0.0, 0.0, 0.0, 0.0, 0.0, 0.0, 0.0, 0.0, 0.0, 0.0, 0.0, 0.0, 0.0, 0.0, 0.0, 0.0, 0.0, 0.0, 0.0, 0.0, 0.0, 0.0, 0.0, 0.0, 0.0, 0.0, 0.0, 0.0, 0.0, 0.0, 0.0, 0.0, 0.0, 0.0, 0.0, 0.0, 0.0, 0.0, 0.0, 0.0, 0.0, 0.0, 0.0, 0.0, 0.0, 0.0, 0.0, 0.0, 0.0, 0.0, 0.0, 0.0, 0.0, 0.0, 0.0, 0.0, 0.0, 0.0, 0.0, 0.0, 0.0, 0.0, 0.0, 0.0, 0.0, 0.0, 0.0, 0.0, 0.0, 0.0, 0.0, 0.0, 0.0, 0.0, 0.0, 0.0, 0.0, 0.0, 0.0, 0.0, 0.0, 0.0, 0.0, 0.0, 0.0, 0.0, 0.0, 0.0, 0.0, 0.0, 0.0, 0.0, 0.0, 0.0, 0.0, 0.0, 0.0, 0.0, 0.0, 0.0, 0.0, 0.0, 0.0, 0.0, 0.0, 0.0, 0.0, 0.0, 0.0, 0.0, 0.0, 0.0, 0.0, 0.0, 0.0, 0.0, 0.0, 0.0, 0.0, 0.0, 0.0, 0.0, 0.0, 0.0, 0.0, 0.0, 0.0, 0.0, 0.0, 0.0, 0.0, 0.0, 0.0, 0.0, 0.0, 0.0, 0.0, 0.0, 0.0, 0.0, 0.0, 0.0, 0.0, 0.0, 0.0, 0.0, 0.0, 0.0, 0.0, 0.0, 0.0, 0.0, 0.0, 0.0, 0.0, 0.0, 0.0, 0.0, 0.0, 0.0, 0.0, 0.0, 0.0, 0.0, 0.0, 0.0, 0.0, 0.0, 0.0, 0.0, 0.0, 0.0, 0.0, 0.0, 0.0, 0.0, 0.0, 0.0, 0.0, 0.0, 0.0, 0.0, 0.0, 0.0, 0.0, 0.0, 0.0, 0.0, 0.0, 0.0, 0.0, 0.0, 0.0, 0.0, 0.0, 0.0, 0.0, 0.0, 0.0, 0.0, 0.0, 0.0, 0.0, 0.0, 0.0, 0.0, 0.0, 0.0, 0.0, 0.0, 0.0, 0.0, 0.0, 0.0, 0.0, 0.0, 0.0, 0.0, 0.0, 0.0, 0.0, 0.0, 0.0, 0.0, 0.0, 0.0, 0.0, 0.0, 0.0, 0.0, 0.0, 0.0, 0.0, 0.0, 0.0, 0.0, 0.0, 0.0, 0.0, 0.0, 0.0, 0.0, 0.0, 0.0, 0.0, 0.0, 0.0, 0.0, 0.0, 0.0, 0.0, 0.0, 0.0, 0.0, 0.0, 0.0, 0.0, 0.0, 0.0, 0.0, 0.0, 0.0, 0.0, 0.0, 0.0, 0.0, 0.0, 0.0, 0.0, 0.0, 0.0, 0.0, 0.0, 0.0, 0.0, 0.0, 0.0, 0.0, 0.0, 0.0, 0.0, 0.0, 0.0, 0.0, 0.0, 0.0, 0.0, 0.0, 0.0, 0.0, 0.0, 0.0, 0.0, 0.0, 0.0, 0.0, 0.0, 0.0, 0.0, 0.0, 0.0, 0.0, 0.0, 0.0, 0.0, 0.0, 0.0, 0.0, 0.0, 0.0, 0.0, 0.0, 0.0, 0.0, 0.0, 0.0, 0.0, 0.0, 0.0, 0.0, 0.0, 0.0, 0.0, 0.0, 0.0, 0.0, 0.0, 0.0, 0.0, 0.0, 0.0, 0.0, 0.0, 0.0, 0.0, 0.0, 0.0, 0.0, 0.0, 0.0, 0.0, 0.0, 0.0, 0.0, 0.0, 0.0, 0.0, 0.0, 0.0, 0.0, 0.0, 0.0, 0.0, 0.0, 0.0, 0.0, 0.0, 0.0, 0.0, 0.0, 0.0, 0.0, 0.0, 0.0, 0.0, 0.0, 0.0, 0.0, 0.0, 0.0, 0.0, 0.0, 0.0, 0.0, 0.0, 0.0, 0.0, 0.0, 0.0, 0.0, 0.0, 0.0, 0.0, 0.0, 0.0, 0.0, 0.0, 0.0, 0.0, 0.0, 0.0, 0.0, 0.0, 0.0, 0.0, 0.0, 0.0, 0.0, 0.0, 0.0, 0.0, 0.0, 0.0, 0.0, 0.0, 0.0, 0.0, 0.0, 0.0, 0.0, 0.0, 0.0, 0.0, 0.0, 0.0, 0.0, 0.0, 0.0, 0.0, 0.0, 0.0, 0.0, 0.0, 0.0, 0.0, 0.0, 0.0, 0.0, 0.0, 0.0, 0.0, 0.0, 0.0, 0.0, 0.0, 0.0, 0.0, 0.0, 0.0, 0.0, 0.0, 0.0, 0.0, 0.0, 0.0, 0.0, 0.0, 0.0, 0.0, 0.0, 0.0, 0.0, 0.0, 0.0, 0.0, 0.0, 0.0, 0.0, 0.0, 0.0, 0.0, 0.0, 0.0, 0.0, 0.0, 0.0, 0.0, 0.0, 0.0, 0.0, 0.0, 0.0, 0.0, 0.0, 0.0, 0.0, 0.0, 0.0, 0.0, 0.0, 0.0, 0.0, 0.0, 0.0, 0.0, 0.0, 0.0, 0.0, 0.0, 0.0, 0.0, 0.0, 0.0, 0.0, 0.0, 0.0, 0.0, 0.0, 0.0, 0.0, 0.0, 0.0, 0.0, 0.0, 0.0, 0.0, 0.0, 0.0, 0.0, 0.0, 0.0, 0.0, 0.0, 0.0, 0.0, 0.0, 0.0, 0.0, 0.0, 0.0, 0.0, 0.0, 0.0, 0.0, 0.0, 0.0, 0.0, 0.0, 0.0, 0.0, 0.0, 0.0, 0.0, 0.0, 0.0, 0.0, 0.0, 0.0, 0.0, 0.0, 0.0, 0.0, 0.0, 0.0, 0.0, 0.0, 0.0, 0.0, 0.0, 0.0, 0.0, 0.0, 0.0, 0.0, 0.0, 0.0, 0.0, 0.0, 0.0, 0.0, 0.0, 0.0, 0.0, 0.0, 0.0, 0.0, 0.0, 0.0, 0.0, 0.0, 0.0, 0.0, 0.0, 0.0, 0.0, 0.0, 0.0, 0.0, 0.0, 0.0, 0.0, 0.0, 0.0, 0.0, 0.0, 0.0, 0.0, 0.0, 0.0, 0.0, 0.0, 0.0, 0.0, 0.0, 0.0, 0.0, 0.0, 0.0, 0.0, 0.0, 0.0, 0.0, 0.0, 0.0, 0.0, 0.0, 0.0, 0.0, 0.0, 0.0, 0.0, 0.0, 0.0, 0.0, 0.0, 0.0, 0.0, 0.0, 0.0, 0.0, 0.0, 0.0, 0.0, 0.0, 0.0, 0.0, 0.0, 0.0, 0.0, 0.0, 0.0, 0.0, 0.0, 0.0, 0.0, 0.0, 0.0, 0.0, 0.0, 0.0, 0.0, 0.0, 0.0, 0.0, 0.0, 0.0, 0.0, 0.0, 0.0, 0.0, 0.0, 0.0, 0.0, 0.0, 0.0, 0.0, 0.0, 0.0, 0.0, 0.0, 0.0, 0.0, 0.0, 0.0, 0.0, 0.0, 0.0, 0.0, 0.0, 0.0, 0.0, 0.0, 0.0, 0.0, 0.0, 0.0, 0.0, 0.0, 0.0, 0.0, 0.0, 0.0, 0.0, 0.0, 0.0, 0.0, 0.0, 0.0, 0.0, 0.0, 0.0, 0.0, 0.0, 0.0, 0.0, 0.0, 0.0, 0.0, 0.0, 0.0, 0.0, 0.0, 0.0, 0.0, 0.0, 0.0, 0.0, 0.0, 0.0, 0.0, 0.0, 0.0, 0.0, 0.0, 0.0, 0.0, 0.0, 0.0, 0.0, 0.0, 0.0, 0.0, 0.0, 0.0, 0.0, 0.0, 0.0, 0.0, 0.0, 0.0, 0.0, 0.0, 0.0, 0.0, 0.0, 0.0, 0.0, 0.0, 0.0, 0.0, 0.0, 0.0, 0.0, 0.0, 0.0, 0.0, 0.0, 0.0, 0.0, 0.0, 0.0, 0.0, 0.0, 0.0, 0.0, 0.0, 0.0, 0.0, 0.0, 0.0, 0.0, 0.0, 0.0, 0.0, 0.0, 0.0, 0.0, 0.0, 0.0, 0.0, 0.0, 0.0, 0.0, 0.0, 0.0, 0.0, 0.0, 0.0, 0.0, 0.0, 0.0, 0.0, 0.0, 0.0, 0.0, 0.0, 0.0, 0.0, 0.0, 0.0, 0.0, 0.0, 0.0, 0.0, 0.0, 0.0, 0.0, 0.0, 0.0, 0.0, 0.0, 0.0, 0.0, 0.0, 0.0, 0.0, 0.0, 0.0, 0.0, 0.0, 0.0, 0.0, 0.0, 0.0, 0.0, 0.0, 0.0, 0.0, 0.0, 0.0, 0.0, 0.0, 0.0, 0.0, 0.0, 0.0, 0.0, 0.0, 0.0, 0.0, 0.0, 0.0, 0.0, 0.0, 0.0, 0.0, 0.0, 0.0, 0.0, 0.0, 0.0, 0.0, 0.0, 0.0, 0.0, 0.0, 0.0, 0.0, 0.0, 0.0, 0.0, 0.0, 0.0, 0.0, 0.0, 0.0, 0.0, 0.0, 0.0, 0.0, 0.0, 0.0, 0.0, 0.0, 0.0, 0.0, 0.0, 0.0, 0.0, 0.0, 0.0, 0.0, 0.0, 0.0, 0.0, 0.0, 0.0, 0.0, 0.0, 0.0, 0.0, 0.0, 0.0, 0.0, 0.0, 0.0, 0.0, 0.0, 0.0, 0.0, 0.0, 0.0, 0.0, 0.0, 0.0, 0.0, 0.0, 0.0, 0.0, 0.0, 0.0, 0.0, 0.0, 0.0, 0.0, 0.0, 0.0, 0.0, 0.0, 0.0, 0.0, 0.0, 0.0, 0.0, 0.0, 0.0, 0.0, 0.0, 0.0, 0.0, 0.0, 0.0, 0.0, 0.0, 0.0, 0.0, 0.0, 0.0, 0.0, 0.0, 0.0, 0.0, 0.0, 0.0, 0.0, 0.0, 0.0, 0.0, 0.0, 0.0, 0.0, 0.0, 0.0, 0.0, 0.0, 0.0, 0.0, 0.0, 0.0, 0.0, 0.0, 0.0, 0.0, 0.0, 0.0, 0.0, 0.0, 0.0, 0.0, 0.0, 0.0, 0.0, 0.0, 0.0, 0.0, 0.0, 0.0, 0.0, 0.0, 0.0, 0.0, 0.0, 0.0, 0.0, 0.0, 0.0, 0.0, 0.0, 0.0, 0.0, 0.0, 0.0, 0.0, 0.0, 0.0, 0.0, 0.0, 0.0, 0.0, 0.0, 0.0, 0.0, 0.0, 0.0, 0.0, 0.0, 0.0, 0.0, 0.0, 0.0, 0.0, 0.0, 0.0, 0.0, 0.0, 0.0, 0.0, 0.0, 0.0, 0.0, 0.0, 0.0, 0.0, 0.0, 0.0, 0.0, 0.0, 0.0, 0.0, 0.0, 0.0, 0.0, 0.0, 0.0, 0.0, 0.0, 0.0, 0.0, 0.0, 0.0, 0.0, 0.0, 0.0, 0.0, 0.0, 0.0, 0.0, 0.0, 0.0, 0.0, 0.0, 0.0, 0.0, 0.0, 0.0, 0.0, 0.0, 0.0, 0.0, 0.0, 0.0, 0.0, 0.0, 0.0, 0.0, 0.0, 0.0, 0.0, 0.0, 0.0, 0.0, 0.0, 0.0, 0.0, 0.0, 0.0, 0.0, 0.0, 0.0, 0.0, 0.0, 0.0, 0.0, 0.0, 0.0, 0.0, 0.0, 0.0, 0.0, 0.0, 0.0, 0.0, 0.0, 0.0, 0.0, 0.0, 0.0, 0.0, 0.0, 0.0, 0.0, 0.0, 0.0, 0.0, 0.0, 0.0, 0.0, 0.0, 0.0, 0.0, 0.0, 0.0, 0.0, 0.0, 0.0, 0.0, 0.0, 0.0, 0.0, 0.0, 0.0, 0.0, 0.0, 0.0, 0.0, 0.0, 0.0, 0.0, 0.0, 0.0, 0.0, 0.0, 0.0, 0.0, 0.0, 0.0, 0.0, 0.0, 0.0, 0.0, 0.0, 0.0, 0.0, 0.0, 0.0, 0.0, 0.0, 0.0, 0.0, 0.0, 0.0, 0.0, 0.0, 0.0, 0.0, 0.0, 0.0, 0.0, 0.0, 0.0, 0.0, 0.0, 0.0, 0.0, 0.0, 0.0, 0.0, 0.0, 0.0, 0.0, 0.0, 0.0, 0.0, 0.0, 0.0, 0.0, 0.0, 0.0, 0.0, 0.0, 0.0, 0.0, 0.0, 0.0, 0.0, 0.0, 0.0, 0.0, 0.0, 0.0, 0.0, 0.0, 0.0, 0.0, 0.0, 0.0, 0.0, 0.0, 0.0, 0.0, 0.0, 0.0, 0.0, 0.0, 0.0, 0.0, 0.0, 0.0, 0.0, 0.0, 0.0, 0.0, 0.0, 0.0, 0.0, 0.0, 0.0, 0.0, 0.0, 0.0, 0.0, 0.0, 0.0, 0.0, 0.0, 0.0, 0.0, 0.0, 0.0, 0.0, 0.0, 0.0, 0.0, 0.0, 0.0, 0.0, 0.0, 0.0, 0.0, 0.0, 0.0, 0.0, 0.0, 0.0, 0.0, 0.0, 0.0, 0.0, 0.0, 0.0, 0.0, 0.0, 0.0, 0.0, 0.0, 0.0, 0.0, 0.0, 0.0, 0.0, 0.0, 0.0, 0.0, 0.0, 0.0, 0.0, 0.0, 0.0, 0.0, 0.0, 0.0, 0.0, 0.0, 0.0, 0.0, 0.0, 0.0, 0.0, 0.0, 0.0, 0.0, 0.0, 0.0, 0.0, 0.0, 0.0, 0.0, 0.0, 0.0, 0.0, 0.0, 0.0, 0.0, 0.0, 0.0, 0.0, 0.0, 0.0, 0.0, 0.0, 0.0, 0.0, 0.0, 0.0, 0.0, 0.0, 0.0, 0.0, 0.0, 0.0, 0.0, 0.0, 0.0, 0.0, 0.0, 0.0, 0.0, 0.0, 0.0, 0.0, 0.0, 0.0, 0.0, 0.0, 0.0, 0.0, 0.0, 0.0, 0.0, 0.0, 0.0, 0.0, 0.0, 0.0, 0.0, 0.0, 0.0, 0.0, 0.0, 0.0, 0.0, 0.0, 0.0, 0.0, 0.0, 0.0, 0.0, 0.0, 0.0, 0.0, 0.0, 0.0, 0.0, 0.0, 0.0, 0.0, 0.0, 0.0, 0.0, 0.0, 0.0, 0.0, 0.0, 0.0, 0.0, 0.0, 0.0, 0.0, 0.0, 0.0, 0.0, 0.0, 0.0, 0.0, 0.0, 0.0, 0.0, 0.0, 0.0, 0.0, 0.0, 0.0, 0.0, 0.0, 0.0, 0.0, 0.0, 0.0, 0.0, 0.0, 0.0, 0.0, 0.0, 0.0, 0.0, 0.0, 0.0, 0.0, 0.0, 0.0, 0.0, 0.0, 0.0, 0.0, 0.0, 0.0, 0.0, 0.0, 0.0, 0.0, 0.0, 0.0, 0.0, 0.0, 0.0, 0.0, 0.0, 0.0, 0.0, 0.0, 0.0, 0.0, 0.0, 0.0, 0.0, 0.0, 0.0, 0.0, 0.0, 0.0, 0.0, 0.0, 0.0, 0.0, 0.0, 0.0, 0.0, 0.0, 0.0, 0.0, 0.0, 0.0, 0.0, 0.0, 0.0, 0.0, 0.0, 0.0, 0.0, 0.0, 0.0, 0.0, 0.0, 0.0, 0.0, 0.0, 0.0, 0.0, 0.0, 0.0, 0.0, 0.0, 0.0, 0.0, 0.0, 0.0, 0.0, 0.0, 0.0, 0.0, 0.0, 0.0, 0.0, 0.0, 0.0, 0.0, 0.0, 0.0, 0.0, 0.0, 0.0, 0.0, 0.0, 0.0, 0.0, 0.0, 0.0, 0.0, 0.0, 0.0, 0.0, 0.0, 0.0, 0.0, 0.0, 0.0, 0.0, 0.0, 0.0, 0.0, 0.0, 0.0, 0.0, 0.0, 0.0, 0.0, 0.0, 0.0, 0.0, 0.0, 0.0, 0.0, 0.0, 0.0, 0.0, 0.0, 0.0, 0.0, 0.0, 0.0, 0.0, 0.0, 0.0, 0.0, 0.0, 0.0, 0.0, 0.0, 0.0, 0.0, 0.0, 0.0, 0.0, 0.0, 0.0, 0.0, 0.0, 0.0, 0.0, 0.0, 0.0, 0.0, 0.0, 0.0, 0.0, 0.0, 0.0, 0.0, 0.0, 0.0, 0.0, 0.0, 0.0, 0.0, 0.0, 0.0, 0.0, 0.0, 0.0, 0.0, 0.0, 0.0, 0.0, 0.0, 0.0, 0.0, 0.0, 0.0, 0.0, 0.0, 0.0, 0.0, 0.0, 0.0, 0.0, 0.0, 0.0, 0.0, 0.0, 0.0, 0.0, 0.0, 0.0, 0.0, 0.0, 0.0, 0.0, 0.0, 0.0, 0.0, 0.0, 0.0, 0.0, 0.0, 0.0, 0.0, 0.0, 0.0, 0.0, 0.0, 0.0, 0.0, 0.0, 0.0, 0.0, 0.0, 0.0, 0.0, 0.0, 0.0, 0.0, 0.0, 0.0, 0.0, 0.0, 0.0, 0.0, 0.0, 0.0, 0.0, 0.0, 0.0, 0.0, 0.0, 0.0, 0.0, 0.0, 0.0, 0.0, 0.0, 0.0, 0.0, 0.0, 0.0, 0.0, 0.0, 0.0, 0.0, 0.0, 0.0, 0.0, 0.0, 0.0, 0.0, 0.0, 0.0, 0.0, 0.0, 0.0, 0.0, 0.0, 0.0, 0.0, 0.0, 0.0, 0.0, 0.0, 0.0, 0.0, 0.0, 0.0, 0.0, 0.0, 0.0, 0.0, 0.0, 0.0, 0.0, 0.0, 0.0, 0.0, 0.0, 0.0, 0.0, 0.0, 0.0, 0.0, 0.0, 0.0, 0.0, 0.0, 0.0, 0.0, 0.0, 0.0, 0.0, 0.0, 0.0, 0.0, 0.0, 0.0, 0.0, 0.0, 0.0, 0.0, 0.0, 0.0, 0.0, 0.0, 0.0, 0.0, 0.0, 0.0, 0.0, 0.0, 0.0, 0.0, 0.0, 0.0, 0.0, 0.0, 0.0, 0.0, 0.0, 0.0, 0.0, 0.0, 0.0, 0.0, 0.0, 0.0, 0.0, 0.0, 0.0, 0.0, 0.0, 0.0, 0.0, 0.0, 0.0, 0.0, 0.0, 0.0, 0.0, 0.0, 0.0, 0.0, 0.0, 0.0, 0.0, 0.0, 0.0, 0.0, 0.0, 0.0, 0.0, 0.0, 0.0, 0.0, 0.0, 0.0, 0.0, 0.0, 0.0, 0.0, 0.0, 0.0, 0.0, 0.0, 0.0, 0.0, 0.0, 0.0, 0.0, 0.0, 0.0, 0.0, 0.0, 0.0, 0.0, 0.0, 0.0, 0.0, 0.0, 0.0, 0.0, 0.0, 0.0, 0.0, 0.0, 0.0, 0.0, 0.0, 0.0, 0.0, 0.0, 0.0, 0.0, 0.0, 0.0, 0.0, 0.0, 0.0, 0.0, 0.0, 0.0, 0.0, 0.0, 0.0, 0.0, 0.0, 0.0, 0.0, 0.0, 0.0, 0.0, 0.0, 0.0, 0.0, 0.0, 0.0, 0.0, 0.0, 0.0, 0.0, 0.0, 0.0, 0.0, 0.0, 0.0, 0.0, 0.0, 0.0, 0.0, 0.0, 0.0, 0.0, 0.0, 0.0, 0.0, 0.0, 0.0, 0.0, 0.0, 0.0, 0.0, 0.0, 0.0, 0.0, 0.0, 0.0, 0.0, 0.0, 0.0, 0.0, 0.0, 0.0, 0.0, 0.0, 0.0, 0.0, 0.0, 0.0, 0.0, 0.0, 0.0, 0.0, 0.0, 0.0, 0.0, 0.0, 0.0, 0.0, 0.0, 0.0, 0.0, 0.0, 0.0, 0.0, 0.0, 0.0, 0.0, 0.0, 0.0, 0.0, 0.0, 0.0, 0.0, 0.0, 0.0, 0.0, 0.0, 0.0, 0.0, 0.0, 0.0, 0.0, 0.0, 0.0, 0.0, 0.0, 0.0, 0.0, 0.0, 0.0, 0.0, 0.0, 0.0, 0.0, 0.0, 0.0, 0.0, 0.0, 0.0, 0.0, 0.0, 0.0, 0.0, 0.0, 0.0, 0.0, 0.0, 0.0, 0.0, 0.0, 0.0, 0.0, 0.0, 0.0, 0.0, 0.0, 0.0, 0.0, 0.0, 0.0, 0.0, 0.0, 0.0, 0.0, 0.0, 0.0, 0.0, 0.0, 0.0, 0.0, 0.0, 0.0, 0.0, 0.0, 0.0, 0.0, 0.0, 0.0, 0.0, 0.0, 0.0, 0.0, 0.0, 0.0, 0.0, 0.0, 0.0, 0.0, 0.0, 0.0, 0.0, 0.0, 0.0, 0.0, 0.0, 0.0, 0.0, 0.0, 0.0, 0.0, 0.0, 0.0, 0.0, 0.0, 0.0, 0.0, 0.0, 0.0, 0.0, 0.0, 0.0, 0.0, 0.0, 0.0, 0.0, 0.0, 0.0, 0.0, 0.0, 0.0, 0.0, 0.0, 0.0, 0.0, 0.0, 0.0, 0.0, 0.0, 0.0, 0.0, 0.0, 0.0, 0.0, 0.0, 0.0, 0.0, 0.0, 0.0, 0.0, 0.0, 0.0, 0.0, 0.0, 0.0, 0.0, 0.0, 0.0, 0.0, 0.0, 0.0, 0.0, 0.0, 0.0, 0.0, 0.0, 0.0, 0.0, 0.0, 0.0, 0.0, 0.0, 0.0, 0.0, 0.0, 0.0, 0.0, 0.0, 0.0, 0.0, 0.0, 0.0, 0.0, 0.0, 0.0, 0.0, 0.0, 0.0, 0.0, 0.0, 0.0, 0.0, 0.0, 0.0, 0.0, 0.0, 0.0, 0.0, 0.0, 0.0, 0.0, 0.0, 0.0, 0.0, 0.0, 0.0, 0.0, 0.0, 0.0, 0.0, 0.0, 0.0, 0.0, 0.0, 0.0, 0.0, 0.0, 0.0, 0.0, 0.0, 0.0, 0.0, 0.0, 0.0, 0.0, 0.0, 0.0, 0.0, 0.0, 0.0, 0.0, 0.0, 0.0, 0.0, 0.0, 0.0, 0.0, 0.0, 0.0, 0.0, 0.0, 0.0, 0.0, 0.0, 0.0, 0.0, 0.0, 0.0, 0.0, 0.0, 0.0, 0.0, 0.0, 0.0, 0.0, 0.0, 0.0, 0.0, 0.0, 0.0, 0.0, 0.0, 0.0, 0.0, 0.0, 0.0, 0.0, 0.0, 0.0, 0.0, 0.0, 0.0, 0.0, 0.0, 0.0, 0.0, 0.0, 0.0, 0.0, 0.0, 0.0, 0.0, 0.0, 0.0, 0.0, 0.0, 0.0, 0.0, 0.0, 0.0, 0.0, 0.0, 0.0, 0.0, 0.0, 0.0, 0.0, 0.0, 0.0, 0.0, 0.0, 0.0, 0.0, 0.0, 0.0, 0.0, 0.0, 0.0, 0.0, 0.0, 0.0, 0.0, 0.0, 0.0, 0.0, 0.0, 0.0, 0.0, 0.0, 0.0, 0.0, 0.0, 0.0, 0.0, 0.0, 0.0, 0.0, 0.0, 0.0, 0.0, 0.0, 0.0, 0.0, 0.0, 0.0, 0.0, 0.0, 0.0, 0.0, 0.0, 0.0, 0.0, 0.0, 0.0, 0.0, 0.0, 0.0, 0.0, 0.0, 0.0, 0.0, 0.0, 0.0, 0.0, 0.0, 0.0, 0.0, 0.0, 0.0, 0.0, 0.0, 0.0, 0.0, 0.0, 0.0, 0.0, 0.0, 0.0, 0.0, 0.0, 0.0, 0.0, 0.0, 0.0, 0.0, 0.0, 0.0, 0.0, 0.0, 0.0, 0.0, 0.0, 0.0, 0.0, 0.0, 0.0, 0.0, 0.0, 0.0, 0.0, 0.0, 0.0, 0.0, 0.0, 0.0, 0.0, 0.0, 0.0, 0.0, 0.0, 0.0, 0.0, 0.0, 0.0, 0.0, 0.0, 0.0, 0.0, 0.0, 0.0, 0.0, 0.0, 0.0, 0.0, 0.0, 0.0, 0.0, 0.0, 0.0, 0.0, 0.0, 0.0, 0.0, 0.0, 0.0, 0.0, 0.0, 0.0, 0.0, 0.0, 0.0, 0.0, 0.0, 0.0, 0.0, 0.0, 0.0, 0.0, 0.0, 0.0, 0.0, 0.0, 0.0, 0.0, 0.0, 0.0, 0.0, 0.0, 0.0, 0.0, 0.0, 0.0, 0.0, 0.0, 0.0, 0.0, 0.0, 0.0, 0.0, 0.0, 0.0, 0.0, 0.0, 0.0, 0.0, 0.0, 0.0, 0.0, 0.0, 0.0, 0.0, 0.0, 0.0, 0.0, 0.0, 0.0, 0.0, 0.0, 0.0, 0.0, 0.0, 0.0, 0.0, 0.0, 0.0, 0.0, 0.0, 0.0, 0.0, 0.0, 0.0, 0.0, 0.0, 0.0, 0.0, 0.0, 0.0, 0.0, 0.0, 0.0, 0.0, 0.0, 0.0, 0.0, 0.0, 0.0, 0.0, 0.0, 0.0, 0.0, 0.0, 0.0, 0.0, 0.0, 0.0, 0.0, 0.0, 0.0, 0.0, 0.0, 0.0, 0.0, 0.0, 0.0, 0.0, 0.0, 0.0, 0.0, 0.0, 0.0, 0.0, 0.0, 0.0, 0.0, 0.0, 0.0, 0.0, 0.0, 0.0, 0.0, 0.0, 0.0, 0.0, 0.0, 0.0, 0.0, 0.0, 0.0, 0.0, 0.0, 0.0, 0.0, 0.0, 0.0, 0.0, 0.0, 0.0, 0.0, 0.0, 0.0, 0.0, 0.0, 0.0, 0.0, 0.0, 0.0, 0.0, 0.0, 0.0, 0.0, 0.0, 0.0, 0.0, 0.0, 0.0, 0.0, 0.0, 0.0, 0.0, 0.0, 0.0, 0.0, 0.0, 0.0, 0.0, 0.0, 0.0, 0.0, 0.0, 0.0, 0.0, 0.0, 0.0, 0.0, 0.0, 0.0, 0.0, 0.0, 0.0, 0.0, 0.0, 0.0, 0.0, 0.0, 0.0, 0.0, 0.0, 0.0, 0.0, 0.0, 0.0, 0.0, 0.0, 0.0, 0.0, 0.0, 0.0, 0.0, 0.0, 0.0, 0.0, 0.0, 0.0, 0.0, 0.0, 0.0, 0.0, 0.0, 0.0, 0.0, 0.0, 0.0, 0.0, 0.0, 0.0, 0.0, 0.0, 0.0, 0.0, 0.0, 0.0, 0.0, 0.0, 0.0, 0.0, 0.0, 0.0, 0.0, 0.0, 0.0, 0.0, 0.0, 0.0, 0.0, 0.0, 0.0, 0.0, 0.0, 0.0, 0.0, 0.0, 0.0, 0.0, 0.0, 0.0, 0.0, 0.0, 0.0, 0.0, 0.0, 0.0, 0.0, 0.0, 0.0, 0.0, 0.0, 0.0, 0.0, 0.0, 0.0, 0.0, 0.0, 0.0, 0.0, 0.0, 0.0, 0.0, 0.0, 0.0, 0.0, 0.0, 0.0, 0.0, 0.0, 0.0, 0.0, 0.0, 0.0, 0.0, 0.0, 0.0, 0.0, 0.0, 0.0, 0.0, 0.0, 0.0, 0.0, 0.0, 0.0, 0.0, 0.0, 0.0, 0.0, 0.0, 0.0, 0.0, 0.0, 0.0, 0.0, 0.0, 0.0, 0.0, 0.0, 0.0, 0.0, 0.0, 0.0, 0.0, 0.0, 0.0, 0.0, 0.0, 0.0, 0.0, 0.0, 0.0, 0.0, 0.0, 0.0, 0.0, 0.0, 0.0, 0.0, 0.0, 0.0, 0.0, 0.0, 0.0, 0.0, 0.0, 0.0, 0.0, 0.0, 0.0, 0.0, 0.0, 0.0, 0.0, 0.0, 0.0, 0.0, 0.0, 0.0, 0.0, 0.0, 0.0, 0.0, 0.0, 0.0, 0.0, 0.0, 0.0, 0.0, 0.0, 0.0, 0.0, 0.0, 0.0, 0.0, 0.0, 0.0, 0.0, 0.0, 0.0, 0.0, 0.0, 0.0, 0.0, 0.0, 0.0, 0.0, 0.0, 0.0, 0.0, 0.0, 0.0, 0.0, 0.0, 0.0, 0.0, 0.0, 0.0, 0.0, 0.0, 0.0, 0.0, 0.0, 0.0, 0.0, 0.0, 0.0, 0.0, 0.0, 0.0, 0.0, 0.0, 0.0, 0.0, 0.0, 0.0, 0.0, 0.0, 0.0, 0.0, 0.0, 0.0, 0.0, 0.0, 0.0, 0.0, 0.0, 0.0, 0.0, 0.0, 0.0, 0.0, 0.0, 0.0, 0.0, 0.0, 0.0, 0.0, 0.0, 0.0, 0.0, 0.0, 0.0, 0.0, 0.0, 0.0, 0.0, 0.0, 0.0, 0.0, 0.0, 0.0, 0.0, 0.0, 0.0, 0.0, 0.0, 0.0, 0.0, 0.0, 0.0, 0.0, 0.0, 0.0, 0.0, 0.0, 0.0, 0.0, 0.0, 0.0, 0.0, 0.0, 0.0, 0.0, 0.0, 0.0, 0.0, 0.0, 0.0, 0.0, 0.0, 0.0, 0.0, 0.0, 0.0, 0.0, 0.0, 0.0, 0.0, 0.0, 0.0, 0.0, 0.0, 0.0, 0.0, 0.0, 0.0, 0.0, 0.0, 0.0, 0.0, 0.0, 0.0, 0.0, 0.0, 0.0, 0.0, 0.0, 0.0, 0.0, 0.0, 0.0, 0.0, 0.0, 0.0, 0.0, 0.0, 0.0, 0.0, 0.0, 0.0, 0.0, 0.0, 0.0, 0.0, 0.0, 0.0, 0.0, 0.0, 0.0, 0.0, 0.0, 0.0, 0.0, 0.0, 0.0, 0.0, 0.0, 0.0, 0.0, 0.0, 0.0, 0.0, 0.0, 0.0, 0.0, 0.0, 0.0, 0.0, 0.0, 0.0, 0.0, 0.0, 0.0, 0.0, 0.0, 0.0, 0.0, 0.0, 0.0, 0.0, 0.0, 0.0, 0.0, 0.0, 0.0, 0.0, 0.0, 0.0, 0.0, 0.0, 0.0, 0.0, 0.0, 0.0, 0.0, 0.0, 0.0, 0.0, 0.0, 0.0, 0.0, 0.0, 0.0, 0.0, 0.0, 0.0, 0.0, 0.0, 0.0, 0.0, 0.0, 0.0, 0.0, 0.0, 0.0, 0.0, 0.0, 0.0, 0.0, 0.0, 0.0, 0.0, 0.0, 0.0, 0.0, 0.0, 0.0, 0.0, 0.0, 0.0, 0.0, 0.0, 0.0, 0.0, 0.0, 0.0, 0.0, 0.0, 0.0, 0.0, 0.0, 0.0, 0.0, 0.0, 0.0, 0.0, 0.0, 0.0, 0.0, 0.0, 0.0, 0.0, 0.0, 0.0, 0.0, 0.0, 0.0, 0.0, 0.0, 0.0, 0.0, 0.0, 0.0, 0.0, 0.0, 0.0, 0.0, 0.0, 0.0, 0.0, 0.0, 0.0, 0.0, 0.0, 0.0, 0.0, 0.0, 0.0, 0.0, 0.0, 0.0, 0.0, 0.0, 0.0, 0.0, 0.0, 0.0, 0.0, 0.0, 0.0, 0.0, 0.0, 0.0, 0.0, 0.0, 0.0, 0.0, 0.0, 0.0, 0.0, 0.0, 0.0, 0.0, 0.0, 0.0, 0.0, 0.0, 0.0, 0.0, 0.0, 0.0, 0.0, 0.0, 0.0, 0.0, 0.0, 0.0, 0.0, 0.0, 0.0, 0.0, 0.0, 0.0, 0.0, 0.0, 0.0, 0.0, 0.0, 0.0, 0.0, 0.0, 0.0, 0.0, 0.0, 0.0, 0.0, 0.0, 0.0, 0.0, 0.0, 0.0, 0.0, 0.0, 0.0, 0.0, 0.0, 0.0, 0.0, 0.0, 0.0, 0.0, 0.0, 0.0, 0.0, 0.0, 0.0, 0.0, 0.0, 0.0, 0.0, 0.0, 0.0, 0.0, 0.0, 0.0, 0.0, 0.0, 0.0, 0.0, 0.0, 0.0, 0.0, 0.0, 0.0, 0.0, 0.0, 0.0, 0.0, 0.0, 0.0, 0.0, 0.0, 0.0, 0.0, 0.0, 0.0, 0.0, 0.0, 0.0, 0.0, 0.0, 0.0, 0.0, 0.0, 0.0, 0.0, 0.0, 0.0, 0.0, 0.0, 0.0, 0.0, 0.0, 0.0, 0.0, 0.0, 0.0, 0.0, 0.0, 0.0, 0.0, 0.0, 0.0, 0.0, 0.0, 0.0, 0.0, 0.0, 0.0, 0.0, 0.0, 0.0, 0.0, 0.0, 0.0, 0.0, 0.0, 0.0, 0.0, 0.0, 0.0, 0.0, 0.0, 0.0, 0.0, 0.0, 0.0, 0.0, 0.0, 0.0, 0.0, 0.0, 0.0, 0.0, 0.0, 0.0, 0.0, 0.0, 0.0, 0.0, 0.0, 0.0, 0.0, 0.0, 0.0, 0.0, 0.0, 0.0, 0.0, 0.0, 0.0, 0.0, 0.0, 0.0, 0.0, 0.0, 0.0, 0.0, 0.0, 0.0, 0.0, 0.0, 0.0, 0.0, 0.0, 0.0, 0.0, 0.0, 0.0, 0.0, 0.0, 0.0, 0.0, 0.0, 0.0, 0.0, 0.0, 0.0, 0.0, 0.0, 0.0, 0.0, 0.0, 0.0, 0.0, 0.0, 0.0, 0.0, 0.0, 0.0, 0.0, 0.0, 0.0, 0.0, 0.0, 0.0, 0.0, 0.0, 0.0, 0.0, 0.0, 0.0, 0.0, 0.0, 0.0, 0.0, 0.0, 0.0, 0.0, 0.0, 0.0, 0.0, 0.0, 0.0, 0.0, 0.0, 0.0, 0.0, 0.0, 0.0, 0.0, 0.0, 0.0, 0.0, 0.0, 0.0, 0.0, 0.0, 0.0, 0.0, 0.0, 0.0, 0.0, 0.0, 0.0, 0.0, 0.0, 0.0, 0.0, 0.0, 0.0, 0.0, 0.0, 0.0, 0.0, 0.0, 0.0, 0.0, 0.0, 0.0, 0.0, 0.0, 0.0, 0.0, 0.0, 0.0, 0.0, 0.0, 0.0, 0.0, 0.0, 0.0, 0.0, 0.0, 0.0, 0.0, 0.0, 0.0, 0.0, 0.0, 0.0, 0.0, 0.0, 0.0, 0.0, 0.0, 0.0, 0.0, 0.0, 0.0, 0.0, 0.0, 0.0, 0.0, 0.0, 0.0, 0.0, 0.0, 0.0, 0.0, 0.0, 0.0, 0.0, 0.0, 0.0, 0.0, 0.0, 0.0, 0.0, 0.0, 0.0, 0.0, 0.0, 0.0, 0.0, 0.0, 0.0, 0.0, 0.0, 0.0, 0.0, 0.0, 0.0, 0.0, 0.0, 0.0, 0.0, 0.0, 0.0, 0.0, 0.0, 0.0, 0.0, 0.0, 0.0, 0.0, 0.0, 0.0, 0.0, 0.0, 0.0, 0.0, 0.0, 0.0, 0.0, 0.0, 0.0, 0.0, 0.0, 0.0, 0.0, 0.0, 0.0, 0.0, 0.0, 0.0, 0.0, 0.0, 0.0, 0.0, 0.0, 0.0, 0.0, 0.0, 0.0, 0.0, 0.0, 0.0, 0.0, 0.0, 0.0, 0.0, 0.0, 0.0, 0.0, 0.0, 0.0, 0.0, 0.0, 0.0, 0.0, 0.0, 0.0, 0.0, 0.0, 0.0, 0.0, 0.0, 0.0, 0.0, 0.0, 0.0, 0.0, 0.0, 0.0, 0.0, 0.0, 0.0, 0.0, 0.0, 0.0, 0.0, 0.0, 0.0, 0.0, 0.0, 0.0, 0.0, 0.0, 0.0, 0.0, 0.0, 0.0, 0.0, 0.0, 0.0, 0.0, 0.0, 0.0, 0.0, 0.0, 0.0, 0.0, 0.0, 0.0, 0.0, 0.0, 0.0, 0.0, 0.0, 0.0, 0.0, 0.0, 0.0, 0.0, 0.0, 0.0, 0.0, 0.0, 0.0, 0.0, 0.0, 0.0, 0.0, 0.0, 0.0, 0.0, 0.0, 0.0, 0.0, 0.0, 0.0, 0.0, 0.0, 0.0, 0.0, 0.0, 0.0, 0.0, 0.0, 0.0, 0.0, 0.0, 0.0, 0.0, 0.0, 0.0, 0.0, 0.0, 0.0, 0.0, 0.0, 0.0, 0.0, 0.0, 0.0, 0.0, 0.0, 0.0, 0.0, 0.0, 0.0, 0.0, 0.0, 0.0, 0.0, 0.0, 0.0, 0.0, 0.0, 0.0, 0.0, 0.0, 0.0, 0.0, 0.0, 0.0, 0.0, 0.0, 0.0, 0.0, 0.0, 0.0, 0.0, 0.0, 0.0, 0.0, 0.0, 0.0, 0.0, 0.0, 0.0, 0.0, 0.0, 0.0, 0.0, 0.0, 0.0, 0.0, 0.0, 0.0, 0.0, 0.0, 0.0, 0.0, 0.0, 0.0, 0.0, 0.0, 0.0, 0.0, 0.0, 0.0, 0.0, 0.0, 0.0, 0.0, 0.0, 0.0, 0.0, 0.0, 0.0, 0.0, 0.0, 0.0, 0.0, 0.0, 0.0, 0.0, 0.0, 0.0, 0.0, 0.0, 0.0, 0.0, 0.0, 0.0, 0.0, 0.0, 0.0, 0.0, 0.0, 0.0, 0.0, 0.0, 0.0, 0.0, 0.0, 0.0, 0.0, 0.0, 0.0, 0.0, 0.0, 0.0, 0.0, 0.0, 0.0, 0.0, 0.0, 0.0, 0.0, 0.0, 0.0, 0.0, 0.0, 0.0, 0.0, 0.0, 0.0, 0.0, 0.0, 0.0, 0.0, 0.0, 0.0, 0.0, 0.0, 0.0, 0.0, 0.0, 0.0, 0.0, 0.0, 0.0, 0.0, 0.0, 0.0, 0.0, 0.0, 0.0, 0.0, 0.0, 0.0, 0.0, 0.0, 0.0, 0.0, 0.0, 0.0, 0.0, 0.0, 0.0, 0.0, 0.0, 0.0, 0.0, 0.0, 0.0, 0.0, 0.0, 0.0, 0.0, 0.0, 0.0, 0.0, 0.0, 0.0, 0.0, 0.0, 0.0, 0.0, 0.0, 0.0, 0.0, 0.0, 0.0, 0.0, 0.0, 0.0, 0.0, 0.0, 0.0, 0.0, 0.0, 0.0, 0.0, 0.0, 0.0, 0.0, 0.0, 0.0, 0.0, 0.0, 0.0, 0.0, 0.0, 0.0, 0.0, 0.0, 0.0, 0.0, 0.0, 0.0, 0.0, 0.0, 0.0, 0.0, 0.0, 0.0, 0.0, 0.0, 0.0, 0.0, 0.0, 0.0, 0.0, 0.0, 0.0, 0.0, 0.0, 0.0, 0.0, 0.0, 0.0, 0.0, 0.0, 0.0, 0.0, 0.0, 0.0, 0.0, 0.0, 0.0, 0.0, 0.0, 0.0, 0.0, 0.0, 0.0, 0.0, 0.0, 0.0, 0.0, 0.0, 0.0, 0.0, 0.0, 0.0, 0.0, 0.0, 0.0, 0.0, 0.0, 0.0, 0.0, 0.0, 0.0, 0.0, 0.0, 0.0, 0.0, 0.0, 0.0, 0.0, 0.0, 0.0, 0.0, 0.0, 0.0, 0.0, 0.0, 0.0, 0.0, 0.0, 0.0, 0.0, 0.0, 0.0, 0.0, 0.0, 0.0, 0.0, 0.0, 0.0, 0.0, 0.0, 0.0, 0.0, 0.0, 0.0, 0.0, 0.0, 0.0, 0.0, 0.0, 0.0, 0.0, 0.0, 0.0, 0.0, 0.0, 0.0, 0.0, 0.0, 0.0, 0.0, 0.0, 0.0, 0.0, 0.0, 0.0, 0.0, 0.0, 0.0, 0.0, 0.0, 0.0, 0.0, 0.0, 0.0, 0.0, 0.0, 0.0, 0.0, 0.0, 0.0, 0.0, 0.0, 0.0, 0.0, 0.0, 0.0, 0.0, 0.0, 0.0, 0.0, 0.0, 0.0, 0.0, 0.0, 0.0, 0.0, 0.0, 0.0, 0.0, 0.0, 0.0, 0.0, 0.0, 0.0, 0.0, 0.0, 0.0, 0.0, 0.0, 0.0, 0.0, 0.0, 0.0, 0.0, 0.0, 0.0, 0.0, 0.0, 0.0, 0.0, 0.0, 0.0, 0.0, 0.0, 0.0, 0.0, 0.0, 0.0, 0.0, 0.0, 0.0, 0.0, 0.0, 0.0, 0.0, 0.0, 0.0, 0.0, 0.0, 0.0, 0.0, 0.0, 0.0, 0.0, 0.0, 0.0, 0.0, 0.0, 0.0, 0.0, 0.0, 0.0, 0.0, 0.0, 0.0, 0.0, 0.0, 0.0, 0.0, 0.0, 0.0, 0.0, 0.0, 0.0, 0.0, 0.0, 0.0, 0.0, 0.0, 0.0, 0.0, 0.0, 0.0, 0.0, 0.0, 0.0, 0.0, 0.0, 0.0, 0.0, 0.0, 0.0, 0.0, 0.0, 0.0, 0.0, 0.0, 0.0, 0.0, 0.0, 0.0, 0.0, 0.0, 0.0, 0.0, 0.0, 0.0, 0.0, 0.0, 0.0, 0.0, 0.0, 0.0, 0.0, 0.0, 0.0, 0.0, 0.0, 0.0, 0.0, 0.0, 0.0, 0.0, 0.0, 0.0, 0.0, 0.0, 0.0, 0.0, 0.0, 0.0, 0.0, 0.0, 0.0, 0.0, 0.0, 0.0, 0.0, 0.0, 0.0, 0.0, 0.0, 0.0, 0.0, 0.0, 0.0, 0.0, 0.0, 0.0, 0.0, 0.0, 0.0, 0.0, 0.0, 0.0, 0.0, 0.0, 0.0, 0.0, 0.0, 0.0, 0.0, 0.0, 0.0, 0.0, 0.0, 0.0, 0.0, 0.0, 0.0, 0.0, 0.0, 0.0, 0.0, 0.0, 0.0, 0.0, 0.0, 0.0, 0.0, 0.0, 0.0, 0.0, 0.0, 0.0, 0.0, 0.0, 0.0, 0.0, 0.0, 0.0, 0.0, 0.0, 0.0, 0.0, 0.0, 0.0, 0.0, 0.0, 0.0, 0.0, 0.0, 0.0, 0.0, 0.0, 0.0, 0.0, 0.0, 0.0, 0.0, 0.0, 0.0, 0.0, 0.0, 0.0, 0.0, 0.0, 0.0, 0.0, 0.0, 0.0, 0.0, 0.0, 0.0, 0.0, 0.0, 0.0, 0.0, 0.0, 0.0, 0.0, 0.0, 1.124795948796771e-05, 1.124795948796771e-05, 0.007400000002235174, 0.007400000002235174, 0.011179825524326075, 0.011179825524326075, 0.01635705854198339, 0.01635705854198339, 0.026544724932678718, 0.026544724932678718, 0.037281384921712506, 0.037281384921712506, 0.042147913419484616, 0.042147913419484616, 0.042604938477224366, 0.042604938477224366, 0.052520169659754194, 0.052520169659754194, 0.07812589665274132, 0.07812589665274132, 0.09132044428730485, 0.09132044428730485, 0.09391198926772501, 0.09391198926772501, 0.09842901617870231, 0.09842901617870231, 0.10137465800357429, 0.10137465800357429, 0.16570772440401552, 0.16570772440401552, 0.17708058232752605, 0.17708058232752605, 0.1885912095637893, 0.1885912095637893, 0.24351283331433432, 0.24351283331433432, 0.31440701331364823, 0.31440701331364823, 0.48185399867006234, 0.48185399867006234, 0.6091962110202143, 0.6091962110202143, 0.7280853053040155, 0.7280853053040155, 0.7765401863135374, 0.7765401863135374, 0.988992569908656, 0.988992569908656, 1.017277576410724, 1.017277576410724, 1.1505303130831914, 1.1505303130831914, 1.2833887847689487, 1.2833887847689487, 1.3193837542312699, 1.3193837542312699, 1.3871433725888613, 1.3871433725888613, 1.5121536804462004, 1.5121536804462004, 1.6786607293872609, 1.6786607293872609, 2.056151930286235, 2.056151930286235, 2.111272651778813, 2.111272651778813, 2.137325128414864, 2.137325128414864, 2.1789273751858866, 2.1789273751858866, 2.3328508310619513, 2.3328508310619513, 2.4534121525027253, 2.4534121525027253, 2.6255394977961504, 2.6255394977961504, 2.7391631066260995, 2.7391631066260995, 2.7412408028949686, 2.7412408028949686, 2.9976409754947198, 2.9976409754947198, 3.0450302136299707, 3.0450302136299707, 3.1400837428374944, 3.1400837428374944, 3.160037652212452, 3.160037652212452, 3.214328605592841, 3.214328605592841, 3.2876190452264935, 3.2876190452264935, 3.2957311391185606, 3.2957311391185606, 3.3182550217891107, 3.3182550217891107, 3.3318161197595875, 3.3318161197595875, 3.340077030591092, 3.340077030591092, 3.3617295435376278, 3.3617295435376278, 3.373635268980426, 3.373635268980426, 3.3772925729167653, 3.3772925729167653, 3.3782273606857194, 3.3782273606857194, 3.63663741611526, 3.63663741611526, 3.7309742212506314, 3.7309742212506314, 3.7604494849402355, 3.7604494849402355, 3.7640353159713538, 3.7640353159713538, 3.8554948062686076, 3.8554948062686076, 3.9041406114778017, 3.9041406114778017, 3.9459549751121474, 3.9459549751121474, 4.033974906664763, 4.033974906664763, 4.161079119789707, 4.161079119789707, 4.177895423632073, 4.177895423632073, 4.284786239333727, 4.284786239333727, 4.344547388946192, 4.344547388946192, 4.530125589922814, 4.530125589922814, 4.67909795922368, 4.67909795922368, 4.737628255661951, 4.737628255661951, 4.830178020694146, 4.830178020694146, 4.864547568154768, 4.864547568154768, 4.882931006608809, 4.882931006608809, 4.933110869309438, 4.933110869309438, 5.183257040845301, 5.183257040845301, 5.211033778681161, 5.211033778681161, 5.303621174814572, 5.303621174814572, 5.3381522975309155, 5.3381522975309155, 5.359502830912007, 5.359502830912007, 5.416994807755619, 5.416994807755619, 5.466541571911768, 5.466541571911768, 5.533691754223618, 5.533691754223618, 5.646896303078803, 5.646896303078803, 5.98955202755957, 5.98955202755957, 6.060508737094891, 6.060508737094891, 6.099707554602289, 6.099707554602289, 6.103516465019483, 6.103516465019483, 6.103966960516272, 6.103966960516272, 6.149451348464379, 6.149451348464379, 6.214168053391169, 6.214168053391169, 6.257037243338865, 6.257037243338865, 6.400474192353921, 6.400474192353921, 6.621748357336544, 6.621748357336544, 6.851428053296253, 6.851428053296253, 6.919330523604545, 6.919330523604545, 6.935888126898967, 6.935888126898967, 6.961854627981014, 6.961854627981014, 7.1537884364071225, 7.1537884364071225, 7.32919226809086, 7.32919226809086, 7.476799363354469, 7.476799363354469, 7.546031207214922, 7.546031207214922, 7.823666735245385, 7.823666735245385, 7.9615873451109165, 7.9615873451109165, 8.155166547100619, 8.155166547100619, 8.29287223462062, 8.29287223462062, 8.443516717589645, 8.443516717589645, 8.575666907942349, 8.575666907942349, 8.84162084918109, 8.84162084918109, 9.003788092839338, 9.003788092839338, 9.011817851909063, 9.011817851909063, 9.049143716046627, 9.049143716046627, 9.102457225763875, 9.102457225763875, 9.183662646189244, 9.183662646189244, 9.310411984921565, 9.310411984921565, 9.347109577201811, 9.347109577201811, 9.377308970562016, 9.377308970562016, 9.483880782788273, 9.483880782788273, 9.668185930216959, 9.668185930216959, 9.805808247344975, 9.805808247344975, 9.815489342872354, 9.815489342872354, 9.863954309425273, 9.863954309425273, 10.209532660363228, 10.209532660363228, 11.125348996376873, 11.125348996376873, 11.476240076149452, 11.476240076149452, 11.547239416823995, 11.547239416823995, 11.651063667310433, 11.651063667310433, 11.81903510043067, 11.81903510043067, 11.919003473626352, 11.919003473626352, 12.157943975022471, 12.157943975022471, 12.655828108394815, 12.655828108394815, 12.693735489407223, 12.693735489407223, 12.797534281360361, 12.797534281360361, 13.076590584376055, 13.076590584376055, 13.172339453399154, 13.172339453399154, 13.479496858943925, 13.479496858943925, 14.520375767258358, 14.520375767258358, 15.042154589180555, 15.042154589180555, 16.49824853103033, 16.49824853103033, 16.756706984993027, 16.756706984993027, 17.478989069469936, 17.478989069469936, 17.96091613309896, 17.96091613309896, 18.402130110967434, 18.402130110967434, 18.4736550370196, 18.4736550370196, 19.321494619931126, 19.321494619931126, 19.32532593293583, 19.32532593293583, 19.80570995167633, 19.80570995167633, 19.90051273820102, 19.90051273820102, 20.01108207842164, 20.01108207842164, 20.066466129640137, 20.066466129640137, 20.19006380063293, 20.19006380063293, 20.61080793333142, 20.61080793333142, 21.736327803942352, 21.736327803942352, 22.22500820740621, 22.22500820740621, 23.306177991529662, 23.306177991529662, 23.48101487369447, 23.48101487369447, 25.059801153669614, 25.059801153669614, 25.16876404300848, 25.16876404300848, 25.328507565049833, 25.328507565049833, 26.154280414614295, 26.154280414614295, 27.14973771815992, 27.14973771815992, 27.279487724907842, 27.279487724907842, 27.9753274715134, 27.9753274715134, 29.137543331186283, 29.137543331186283, 29.17327222326663, 29.17327222326663, 29.236348433046494, 29.236348433046494, 30.460744979141865, 30.460744979141865, 30.83749848056133, 30.83749848056133, 31.41440274131282, 31.41440274131282, 31.82886345760128, 31.82886345760128, 32.23676879899037, 32.23676879899037, 32.44968210115666, 32.44968210115666, 32.680128931750126, 32.680128931750126, 33.5417530898364, 33.5417530898364, 33.59343708912736, 33.59343708912736, 34.061069855945625, 34.061069855945625, 34.209688097079415, 34.209688097079415, 34.28567304422257, 34.28567304422257, 35.25375121076745, 35.25375121076745, 36.044447668331514, 36.044447668331514, 37.379338676813006, 37.379338676813006, 40.19178163292728, 40.19178163292728, 46.749214586927266, 46.749214586927266, 48.01292827526538, 48.01292827526538, 50.206724945138546, 50.206724945138546, 51.14919829093836, 51.14919829093836, 52.29942941048422, 52.29942941048422, 53.122081591017995, 53.122081591017995, 54.98627399009697, 54.98627399009697, 55.20298546390548, 55.20298546390548, 56.659542088677604, 56.659542088677604, 57.24221508131005, 57.24221508131005, 60.41886321751184, 60.41886321751184, 60.88998688187532, 60.88998688187532, 63.97544207503398, 63.97544207503398, 65.96021954328508, 65.96021954328508, 66.11861320913633, 66.11861320913633, 66.23299117167412, 66.23299117167412, 67.38581907228134, 67.38581907228134, 68.99324172406014, 68.99324172406014, 69.32733505979135, 69.32733505979135, 69.9162654960626, 69.9162654960626, 71.30636337563438, 71.30636337563438, 71.98076168543324, 71.98076168543324, 73.5307033539955, 73.5307033539955, 74.30454753241149, 74.30454753241149, 75.6190069252127, 75.6190069252127, 77.93499527290068, 77.93499527290068, 77.9788318799704, 77.9788318799704, 78.32323910945405, 78.32323910945405, 78.8492813337114, 78.8492813337114, 79.22259359641355, 79.22259359641355, 81.2183231775294, 81.2183231775294, 81.86135176404271, 81.86135176404271, 84.81483395445503, 84.81483395445503, 85.31152905501075, 85.31152905501075, 85.47528858207178, 85.47528858207178, 85.83016165390065, 85.83016165390065, 87.21925110176107, 87.21925110176109, 87.64762493236334, 87.64762493236334, 88.34708642502754, 88.34708642502754, 88.84987609671991, 88.84987609671991, 90.50344518661797, 90.50344518661797, 92.74806805291632, 92.74806805291632, 94.94171579841618, 94.94171579841618, 95.22411808412564, 95.22411808412564, 95.4737676443907, 95.4737676443907, 95.78045931756593, 95.78045931756593, 96.42061771561737, 96.42061771561737, 98.52690654979196, 98.52690654979196, 98.66343834135365, 98.66343834135365, 98.8114349812434, 98.8114349812434, 99.94250300172595, 99.94250300172595, 100.77883556956621, 100.77883556956621, 101.4400414577587, 101.4400414577587, 101.62407613710909, 101.62407613710909, 101.71906025579543, 101.71906025579545, 103.48143478157945, 103.48143478157945, 103.7117490735211, 103.7117490735211, 104.24673605955073, 104.24673605955073, 104.39601755468871, 104.39601755468871, 104.79341579938462, 104.79341579938462, 105.61891919657523, 105.61891919657523, 105.64705701760265, 105.64705701760265, 106.6789955331525, 106.6789955331525, 108.48060319103229, 108.48060319103229, 109.59021389748922, 109.59021389748922, 109.70586314369423, 109.70586314369423, 109.96979811397466, 109.96979811397468, 111.00496053072722, 111.00496053072722, 111.62781443386274, 111.62781443386274, 111.78149291877018, 111.78149291877018, 111.82394433491524, 111.82394433491524, 112.18859264434401, 112.18859264434401, 113.28186199259142, 113.28186199259142, 113.54405715678394, 113.54405715678394, 113.55426667486455, 113.55426667486456, 114.67098733678235, 114.67098733678235, 114.77822907733916, 114.77822907733916, 115.41833537198099, 115.41833537198099, 115.92870567515779, 115.9287056751578, 117.26863542520816, 117.26863542520816, 118.71598941728966, 118.71598941728966, 118.74106080295567, 118.74106080295567, 119.54323984705717, 119.54323984705717, 120.9328378558723, 120.9328378558723, 122.69837058367341, 122.69837058367341, 123.18147168013833, 123.18147168013833, 123.63013236855097, 123.63013236855097, 124.59768442138243, 124.59768442138243, 124.7906887084058, 124.7906887084058, 128.32577170127064, 128.32577170127064, 130.48725480772296, 130.48725480772296, 130.50252930978004, 130.50252930978004, 130.54423153421195, 130.54423153421195, 132.6929865335593, 132.6929865335593, 132.7760496635135, 132.7760496635135, 134.1055954909032, 134.1055954909032, 135.35561849981747, 135.35561849981747, 136.4179632858247, 136.4179632858247, 137.16503042207745, 137.16503042207745, 137.2400432841074, 137.2400432841074, 137.4862973845826, 137.4862973845826, 137.94684750620632, 137.94684750620632, 138.88706710906888, 138.88706710906888, 139.22297036575233, 139.22297036575233, 139.57609167367502, 139.57609167367505, 139.60544570962074, 139.60544570962074, 140.89561408001555, 140.89561408001555, 141.38613518254647, 141.38613518254647, 141.7889175087235, 141.7889175087235, 141.88870405762268, 141.88870405762268, 142.5119370999551, 142.5119370999551, 142.51727133821402, 142.51727133821402, 143.06212547586327, 143.06212547586327, 143.40657213108494, 143.40657213108494, 144.49610352291558, 144.49610352291558, 144.6089326572262, 144.6089326572262, 145.30186836958276, 145.30186836958276, 145.88055464330893, 145.88055464330893, 148.0738002823193, 148.0738002823193, 148.45952881658462, 148.45952881658462, 148.4830137043038, 148.4830137043038, 148.6211870966485, 148.6211870966485, 149.23855431263405, 149.23855431263405, 149.59312519486173, 149.59312519486173, 151.04392554948282, 151.04392554948282, 151.78539437771354, 151.78539437771357, 152.5081735494788, 152.5081735494788, 158.62964801640916, 158.62964801640916, 160.55883360335457, 160.55883360335457, 163.23373814806746, 163.23373814806746, 163.79185541535108, 163.79185541535108, 164.55615868978134, 164.55615868978137, 165.476675675933, 165.476675675933, 165.61724408143397, 165.61724408143397, 166.24898235377873, 166.24898235377873, 166.3744559010318, 166.3744559010318, 166.8220949712658, 166.8220949712658, 169.13390657705247, 169.13390657705247, 169.86174768888336, 169.86174768888336, 170.13975024144432, 170.13975024144432, 172.11310187467495, 172.11310187467495, 172.36434246060534, 172.36434246060534, 173.7781243472916, 173.7781243472916, 175.17507541143993, 175.17507541143993, 176.62908763475596, 176.62908763475596, 177.19003260113442, 177.19003260113442, 179.2847633403698, 179.2847633403698, 180.12188486498624, 180.12188486498624, 182.0958077453743, 182.0958077453743, 182.41820133015977, 182.41820133015977, 182.4815155631258, 182.4815155631258, 182.80420650602517, 182.80420650602517, 183.66911079040648, 183.66911079040648, 183.97159966655857, 183.9715996665586, 184.61280960756673, 184.61280960756676, 185.09207946644253, 185.09207946644253, 185.4391896519196, 185.43918965191963, 185.48869816302874, 185.48869816302874, 185.49785010101184, 185.49785010101184, 186.56565573431962, 186.56565573431962, 186.60488005740308, 186.60488005740308, 188.25168737575106, 188.25168737575106, 189.65978960505913, 189.65978960505913, 190.21784603128035, 190.21784603128035, 190.85753501356243, 190.85753501356243, 191.0313540010519, 191.0313540010519, 191.1901698467225, 191.1901698467225, 191.52181163409546, 191.52181163409546, 191.81321276887326, 191.81321276887326, 192.02110426390107, 192.02110426390107, 195.67393472208866, 195.6739347220887, 196.24191881823077, 196.24191881823077, 198.19587542838258, 198.19587542838258, 198.26251787395654, 198.26251787395654, 198.27770978702114, 198.27770978702114, 198.4056486802091, 198.4056486802091, 198.44894415231244, 198.44894415231244, 198.57553363494054, 198.57553363494057, 198.66984614593792, 198.66984614593792, 199.05602024874236, 199.05602024874236, 199.48327274843876, 199.48327274843876, 199.96764418756314, 199.96764418756314, 200.45217411900188, 200.45217411900188, 200.46973755092534, 200.46973755092534, 200.50249375007783, 200.50249375007783, 200.50319458146674, 200.50319458146677, 200.51637440929855, 200.51637440929855, 200.63928774652163, 200.63928774652163, 200.93859144575305, 200.93859144575305, 201.00347476746765, 201.00347476746765, 201.7670705607294, 201.7670705607294, 201.79953451392322, 201.79953451392325, 201.8204971257294, 201.8204971257294, 201.9417702326108, 201.94177023261082, 202.39795867890797, 202.39795867890797, 202.70515215540593, 202.70515215540593, 203.50922314787113, 203.50922314787113, 203.51965169977984, 203.51965169977984, 204.89384760086907, 204.89384760086907, 205.64113433037147, 205.64113433037147, 205.77209455239858, 205.77209455239858, 205.96843100610008, 205.96843100610008, 208.52769340598348, 208.52769340598348, 208.8075797652857, 208.8075797652857, 209.0330256904485, 209.0330256904485, 209.71007229888548, 209.71007229888548, 210.43329374236546, 210.43329374236546, 210.6938507325173, 210.6938507325173, 210.81211231644087, 210.81211231644087, 211.08393156785445, 211.08393156785445, 217.75513450879072, 217.75513450879072, 218.2874920367518, 218.2874920367518, 218.53822795690965, 218.53822795690968, 220.82638799244285, 220.82638799244285, 221.57601788079074, 221.57601788079074, 221.61374148742047, 221.61374148742047, 222.49428761295547, 222.49428761295547, 222.56025754175965, 222.56025754175965, 222.7470128195983, 222.7470128195983, 222.94955417682752, 222.94955417682758, 224.83070763407002, 224.83070763407002, 225.8746728296651, 225.8746728296651, 226.40861385864588, 226.40861385864588, 227.28159646297172, 227.28159646297172, 227.32180570733348, 227.32180570733354, 228.0495087976597, 228.0495087976597, 228.8187273218326, 228.8187273218326, 229.0420669087685, 229.0420669087685, 229.58092415863908, 229.58092415863908, 230.4863702059409, 230.4863702059409, 230.58076359967242, 230.58076359967245, 231.63811917305588, 231.63811917305588, 232.27274197877946, 232.27274197877946, 234.74013205855337, 234.74013205855337, 234.81412175542897, 234.81412175542897, 234.84278486202993, 234.8427848620301, 235.00795723222785, 235.00795723222788, 235.50878463403956, 235.50878463403956, 236.34508905377527, 236.3450890537753, 237.11589914816955, 237.11589914816955, 237.22204642808668, 237.22204642808668, 237.3125711922844, 237.3125711922844, 239.3782925557899, 239.37829255578993, 241.1661032463584, 241.16610324635843, 242.594056817139, 242.594056817139, 242.67879120537975, 242.67879120537975, 242.93936641644495, 242.93936641644498, 243.39587779276107, 243.39587779276107, 243.9747999675908, 243.9747999675908, 245.53095923250825, 245.53095923250828, 246.67113988268983, 246.67113988268983, 246.89858834149322, 246.89858834149322, 247.18396114005324, 247.18396114005324, 247.27529135360018, 247.27529135360018, 247.99379979386578, 247.99379979386578, 248.0955762841181, 248.0955762841181, 248.75317934851674, 248.7531793485168, 249.17120144578547, 249.17120144578547, 249.89597636230883, 249.89597636230883, 251.5336034315045, 251.5336034315045, 252.0378821680898, 252.0378821680898, 253.91859790349784, 253.91859790349787, 254.53403835835567, 254.5340383583557, 254.84847761038375, 254.84847761038375, 254.87499436965965, 254.87499436965965, 256.248461736274, 256.248461736274, 256.98402890706194, 256.98402890706194]\n"
     ]
    }
   ],
   "source": [
    "borders = check_small_boundary_lengths(vest_base)\n",
    "print(borders[:6000])"
   ]
  },
  {
   "cell_type": "markdown",
   "id": "1f9518c3",
   "metadata": {},
   "source": [
    "It's not clear what the cutoff should be here; let's use 30.5."
   ]
  },
  {
   "cell_type": "code",
   "execution_count": 25,
   "id": "3bbecb5e",
   "metadata": {},
   "outputs": [
    {
     "name": "stdout",
     "output_type": "stream",
     "text": [
      "Snapping all geometries to a grid with precision 10^( -5 ) to avoid GEOS errors.\n",
      "Identifying overlaps...\n"
     ]
    },
    {
     "name": "stderr",
     "output_type": "stream",
     "text": [
      "100%|████████████████████████████████████████████████████████████████| 4936/4936 [00:01<00:00, 3258.83it/s]\n"
     ]
    },
    {
     "name": "stdout",
     "output_type": "stream",
     "text": [
      "Resolving overlaps...\n",
      "Filling gaps...\n"
     ]
    },
    {
     "name": "stderr",
     "output_type": "stream",
     "text": [
      "Gaps to simplify: 0it [00:00, ?it/s]\n",
      "Gaps to fill: 0it [00:00, ?it/s]\n"
     ]
    },
    {
     "name": "stdout",
     "output_type": "stream",
     "text": [
      "Converting small rook adjacencies to queen...\n"
     ]
    },
    {
     "name": "stderr",
     "output_type": "stream",
     "text": [
      "100%|████████████████████████████████████████████████████████████████| 4110/4110 [00:03<00:00, 1305.18it/s]\n",
      "100%|██████████████████████████████████████████████████████████████████████| 4/4 [00:00<00:00, 1948.57it/s]\n",
      "100%|███████████████████████████████████████████████████████████████████████| 4/4 [00:00<00:00, 890.70it/s]\n",
      "100%|███████████████████████████████████████████████████████████████████████| 4/4 [00:00<00:00, 706.86it/s]\n",
      "100%|██████████████████████████████████████████████████████████████████████| 4/4 [00:00<00:00, 1002.46it/s]\n",
      "100%|██████████████████████████████████████████████████████████████████████| 4/4 [00:00<00:00, 1509.42it/s]\n",
      "100%|██████████████████████████████████████████████████████████████████████| 4/4 [00:00<00:00, 1537.36it/s]\n",
      "100%|██████████████████████████████████████████████████████████████████████| 4/4 [00:00<00:00, 1335.87it/s]\n",
      "100%|███████████████████████████████████████████████████████████████████████| 4/4 [00:00<00:00, 768.05it/s]\n",
      "100%|██████████████████████████████████████████████████████████████████████| 4/4 [00:00<00:00, 1305.01it/s]\n",
      "100%|███████████████████████████████████████████████████████████████████████| 4/4 [00:00<00:00, 738.69it/s]\n",
      "100%|███████████████████████████████████████████████████████████████████████| 4/4 [00:00<00:00, 394.56it/s]\n",
      "100%|██████████████████████████████████████████████████████████████████████| 4/4 [00:00<00:00, 1131.00it/s]\n",
      "100%|██████████████████████████████████████████████████████████████████████| 4/4 [00:00<00:00, 1249.61it/s]\n",
      "100%|██████████████████████████████████████████████████████████████████████| 4/4 [00:00<00:00, 2350.41it/s]\n",
      "100%|███████████████████████████████████████████████████████████████████████| 4/4 [00:00<00:00, 690.82it/s]\n",
      "100%|██████████████████████████████████████████████████████████████████████| 4/4 [00:00<00:00, 2460.00it/s]\n",
      "100%|██████████████████████████████████████████████████████████████████████| 4/4 [00:00<00:00, 2459.64it/s]\n",
      "100%|██████████████████████████████████████████████████████████████████████| 4/4 [00:00<00:00, 1812.38it/s]\n",
      "100%|██████████████████████████████████████████████████████████████████████| 4/4 [00:00<00:00, 1148.34it/s]\n",
      "100%|██████████████████████████████████████████████████████████████████████| 4/4 [00:00<00:00, 1374.62it/s]\n",
      "100%|███████████████████████████████████████████████████████████████████████| 4/4 [00:00<00:00, 771.76it/s]\n",
      "100%|██████████████████████████████████████████████████████████████████████| 4/4 [00:00<00:00, 1318.34it/s]\n",
      "100%|██████████████████████████████████████████████████████████████████████| 4/4 [00:00<00:00, 1142.63it/s]\n",
      "100%|██████████████████████████████████████████████████████████████████████| 4/4 [00:00<00:00, 1828.98it/s]\n",
      "100%|██████████████████████████████████████████████████████████████████████| 4/4 [00:00<00:00, 2534.71it/s]\n",
      "100%|██████████████████████████████████████████████████████████████████████| 4/4 [00:00<00:00, 1319.69it/s]\n",
      "100%|███████████████████████████████████████████████████████████████████████| 4/4 [00:00<00:00, 994.03it/s]\n",
      "100%|██████████████████████████████████████████████████████████████████████| 4/4 [00:00<00:00, 2603.94it/s]\n",
      "100%|██████████████████████████████████████████████████████████████████████| 4/4 [00:00<00:00, 1280.80it/s]\n",
      "100%|██████████████████████████████████████████████████████████████████████| 4/4 [00:00<00:00, 2352.72it/s]\n",
      "100%|██████████████████████████████████████████████████████████████████████| 4/4 [00:00<00:00, 2638.34it/s]\n",
      "100%|██████████████████████████████████████████████████████████████████████| 4/4 [00:00<00:00, 2200.29it/s]\n",
      "100%|██████████████████████████████████████████████████████████████████████| 4/4 [00:00<00:00, 2004.21it/s]\n",
      "100%|██████████████████████████████████████████████████████████████████████| 4/4 [00:00<00:00, 1169.96it/s]\n",
      "100%|██████████████████████████████████████████████████████████████████████| 4/4 [00:00<00:00, 1323.65it/s]\n",
      "100%|██████████████████████████████████████████████████████████████████████| 4/4 [00:00<00:00, 1290.36it/s]\n",
      "100%|██████████████████████████████████████████████████████████████████████| 4/4 [00:00<00:00, 1861.24it/s]\n",
      "100%|██████████████████████████████████████████████████████████████████████| 4/4 [00:00<00:00, 2396.75it/s]\n",
      "100%|██████████████████████████████████████████████████████████████████████| 4/4 [00:00<00:00, 1088.37it/s]\n",
      "100%|██████████████████████████████████████████████████████████████████████| 4/4 [00:00<00:00, 2408.10it/s]\n",
      "100%|██████████████████████████████████████████████████████████████████████| 4/4 [00:00<00:00, 2258.65it/s]\n",
      "100%|███████████████████████████████████████████████████████████████████████| 4/4 [00:00<00:00, 939.16it/s]\n",
      "100%|██████████████████████████████████████████████████████████████████████| 4/4 [00:00<00:00, 2269.95it/s]\n",
      "100%|██████████████████████████████████████████████████████████████████████| 4/4 [00:00<00:00, 2151.75it/s]\n",
      "100%|██████████████████████████████████████████████████████████████████████| 4/4 [00:00<00:00, 2339.27it/s]\n",
      "100%|██████████████████████████████████████████████████████████████████████| 4/4 [00:00<00:00, 1033.91it/s]\n",
      "100%|██████████████████████████████████████████████████████████████████████| 4/4 [00:00<00:00, 1640.64it/s]\n",
      "100%|██████████████████████████████████████████████████████████████████████| 4/4 [00:00<00:00, 1682.10it/s]\n",
      "100%|██████████████████████████████████████████████████████████████████████| 4/4 [00:00<00:00, 1325.84it/s]\n",
      "100%|██████████████████████████████████████████████████████████████████████| 4/4 [00:00<00:00, 2508.18it/s]\n",
      "100%|██████████████████████████████████████████████████████████████████████| 4/4 [00:00<00:00, 2628.42it/s]\n",
      "100%|███████████████████████████████████████████████████████████████████████| 4/4 [00:00<00:00, 628.93it/s]\n",
      "100%|██████████████████████████████████████████████████████████████████████| 4/4 [00:00<00:00, 2211.31it/s]\n",
      "100%|██████████████████████████████████████████████████████████████████████| 4/4 [00:00<00:00, 2264.74it/s]\n",
      "100%|██████████████████████████████████████████████████████████████████████| 4/4 [00:00<00:00, 1434.07it/s]\n",
      "100%|██████████████████████████████████████████████████████████████████████| 4/4 [00:00<00:00, 1206.91it/s]\n",
      "100%|██████████████████████████████████████████████████████████████████████| 4/4 [00:00<00:00, 1133.75it/s]\n",
      "100%|██████████████████████████████████████████████████████████████████████| 4/4 [00:00<00:00, 1397.17it/s]\n",
      "100%|██████████████████████████████████████████████████████████████████████| 4/4 [00:00<00:00, 1269.94it/s]\n",
      "100%|██████████████████████████████████████████████████████████████████████| 4/4 [00:00<00:00, 2027.21it/s]\n",
      "100%|██████████████████████████████████████████████████████████████████████| 4/4 [00:00<00:00, 2121.01it/s]\n",
      "100%|███████████████████████████████████████████████████████████████████████| 4/4 [00:00<00:00, 763.82it/s]\n",
      "100%|███████████████████████████████████████████████████████████████████████| 4/4 [00:00<00:00, 749.79it/s]\n",
      "100%|██████████████████████████████████████████████████████████████████████| 4/4 [00:00<00:00, 1456.73it/s]\n",
      "100%|██████████████████████████████████████████████████████████████████████| 4/4 [00:00<00:00, 2001.82it/s]\n",
      "100%|██████████████████████████████████████████████████████████████████████| 5/5 [00:00<00:00, 2592.28it/s]\n",
      "100%|██████████████████████████████████████████████████████████████████████| 4/4 [00:00<00:00, 2305.51it/s]\n",
      "100%|██████████████████████████████████████████████████████████████████████| 4/4 [00:00<00:00, 1703.62it/s]\n",
      "100%|██████████████████████████████████████████████████████████████████████| 6/6 [00:00<00:00, 1770.99it/s]\n",
      "100%|██████████████████████████████████████████████████████████████████████| 4/4 [00:00<00:00, 1253.90it/s]\n",
      "100%|██████████████████████████████████████████████████████████████████████| 3/3 [00:00<00:00, 1109.90it/s]\n",
      "100%|██████████████████████████████████████████████████████████████████████| 4/4 [00:00<00:00, 1213.19it/s]\n",
      "100%|██████████████████████████████████████████████████████████████████████| 4/4 [00:00<00:00, 1678.73it/s]\n",
      "100%|██████████████████████████████████████████████████████████████████████| 4/4 [00:00<00:00, 2015.04it/s]\n",
      "100%|██████████████████████████████████████████████████████████████████████| 4/4 [00:00<00:00, 1350.50it/s]\n",
      "100%|██████████████████████████████████████████████████████████████████████| 4/4 [00:00<00:00, 1108.65it/s]\n",
      "100%|██████████████████████████████████████████████████████████████████████| 4/4 [00:00<00:00, 2258.65it/s]\n",
      "100%|██████████████████████████████████████████████████████████████████████| 4/4 [00:00<00:00, 1072.92it/s]\n",
      "100%|██████████████████████████████████████████████████████████████████████| 4/4 [00:00<00:00, 1948.35it/s]\n",
      "100%|██████████████████████████████████████████████████████████████████████| 4/4 [00:00<00:00, 2264.74it/s]\n",
      "100%|██████████████████████████████████████████████████████████████████████| 4/4 [00:00<00:00, 1180.25it/s]\n",
      "100%|██████████████████████████████████████████████████████████████████████| 4/4 [00:00<00:00, 1391.38it/s]\n",
      "100%|██████████████████████████████████████████████████████████████████████| 4/4 [00:00<00:00, 1229.28it/s]\n",
      "100%|██████████████████████████████████████████████████████████████████████| 4/4 [00:00<00:00, 1695.52it/s]\n",
      "100%|██████████████████████████████████████████████████████████████████████| 4/4 [00:00<00:00, 1846.69it/s]\n",
      "100%|██████████████████████████████████████████████████████████████████████| 4/4 [00:00<00:00, 1924.21it/s]\n",
      "100%|██████████████████████████████████████████████████████████████████████| 8/8 [00:00<00:00, 2490.68it/s]\n",
      "100%|██████████████████████████████████████████████████████████████████████| 4/4 [00:00<00:00, 2115.66it/s]\n",
      "100%|██████████████████████████████████████████████████████████████████████| 4/4 [00:00<00:00, 1596.61it/s]\n",
      "100%|██████████████████████████████████████████████████████████████████████| 5/5 [00:00<00:00, 1113.14it/s]\n",
      "100%|██████████████████████████████████████████████████████████████████████| 4/4 [00:00<00:00, 2407.06it/s]\n",
      "100%|██████████████████████████████████████████████████████████████████████| 5/5 [00:00<00:00, 2669.83it/s]\n",
      "100%|██████████████████████████████████████████████████████████████████████| 5/5 [00:00<00:00, 2447.37it/s]\n",
      "100%|██████████████████████████████████████████████████████████████████████| 4/4 [00:00<00:00, 2293.54it/s]\n",
      "100%|███████████████████████████████████████████████████████████████████████| 4/4 [00:00<00:00, 822.86it/s]\n",
      "100%|██████████████████████████████████████████████████████████████████████| 4/4 [00:00<00:00, 1760.46it/s]\n",
      "100%|██████████████████████████████████████████████████████████████████████| 4/4 [00:00<00:00, 1874.55it/s]\n",
      "100%|██████████████████████████████████████████████████████████████████████| 4/4 [00:00<00:00, 1486.55it/s]\n",
      "100%|██████████████████████████████████████████████████████████████████████| 4/4 [00:00<00:00, 1316.17it/s]\n",
      "100%|██████████████████████████████████████████████████████████████████████| 5/5 [00:00<00:00, 2119.62it/s]\n",
      "100%|██████████████████████████████████████████████████████████████████████| 4/4 [00:00<00:00, 1432.73it/s]\n",
      "100%|██████████████████████████████████████████████████████████████████████| 4/4 [00:00<00:00, 1258.98it/s]\n",
      "100%|██████████████████████████████████████████████████████████████████████| 4/4 [00:00<00:00, 1094.12it/s]\n",
      "100%|██████████████████████████████████████████████████████████████████████| 4/4 [00:00<00:00, 1012.93it/s]\n",
      "100%|██████████████████████████████████████████████████████████████████████| 5/5 [00:00<00:00, 1675.04it/s]\n",
      "100%|██████████████████████████████████████████████████████████████████████| 4/4 [00:00<00:00, 1489.19it/s]\n",
      "100%|███████████████████████████████████████████████████████████████████████| 4/4 [00:00<00:00, 820.16it/s]\n",
      "100%|██████████████████████████████████████████████████████████████████████| 4/4 [00:00<00:00, 1120.42it/s]\n",
      "100%|██████████████████████████████████████████████████████████████████████| 4/4 [00:00<00:00, 1649.35it/s]\n",
      "100%|██████████████████████████████████████████████████████████████████████| 5/5 [00:00<00:00, 1659.53it/s]\n",
      "100%|██████████████████████████████████████████████████████████████████████| 4/4 [00:00<00:00, 1969.62it/s]\n",
      "100%|██████████████████████████████████████████████████████████████████████| 4/4 [00:00<00:00, 1133.14it/s]\n",
      "100%|██████████████████████████████████████████████████████████████████████| 4/4 [00:00<00:00, 1334.70it/s]\n",
      "100%|███████████████████████████████████████████████████████████████████████| 4/4 [00:00<00:00, 972.71it/s]\n",
      "100%|██████████████████████████████████████████████████████████████████████| 5/5 [00:00<00:00, 1632.91it/s]\n",
      "100%|██████████████████████████████████████████████████████████████████████| 5/5 [00:00<00:00, 1545.09it/s]\n",
      "100%|███████████████████████████████████████████████████████████████████████| 4/4 [00:00<00:00, 811.04it/s]\n",
      "100%|██████████████████████████████████████████████████████████████████████| 4/4 [00:00<00:00, 1060.37it/s]\n",
      "100%|██████████████████████████████████████████████████████████████████████| 4/4 [00:00<00:00, 1804.97it/s]\n",
      "100%|███████████████████████████████████████████████████████████████████████| 4/4 [00:00<00:00, 961.33it/s]\n",
      "100%|██████████████████████████████████████████████████████████████████████| 4/4 [00:00<00:00, 1787.85it/s]\n",
      "100%|███████████████████████████████████████████████████████████████████████| 4/4 [00:00<00:00, 722.53it/s]\n",
      "100%|███████████████████████████████████████████████████████████████████████| 4/4 [00:00<00:00, 817.96it/s]\n",
      "100%|██████████████████████████████████████████████████████████████████████| 4/4 [00:00<00:00, 1976.35it/s]\n",
      "100%|██████████████████████████████████████████████████████████████████████| 5/5 [00:00<00:00, 1539.53it/s]\n",
      "100%|██████████████████████████████████████████████████████████████████████| 4/4 [00:00<00:00, 1339.61it/s]\n",
      "100%|███████████████████████████████████████████████████████████████████████| 4/4 [00:00<00:00, 788.63it/s]\n",
      "100%|██████████████████████████████████████████████████████████████████████| 4/4 [00:00<00:00, 1587.85it/s]\n",
      "100%|██████████████████████████████████████████████████████████████████████| 4/4 [00:00<00:00, 1954.25it/s]\n",
      "100%|██████████████████████████████████████████████████████████████████████| 4/4 [00:00<00:00, 2281.68it/s]\n",
      "100%|██████████████████████████████████████████████████████████████████████| 4/4 [00:00<00:00, 1858.56it/s]\n",
      "100%|██████████████████████████████████████████████████████████████████████| 4/4 [00:00<00:00, 1394.73it/s]\n",
      "100%|██████████████████████████████████████████████████████████████████████| 4/4 [00:00<00:00, 1123.27it/s]\n",
      "100%|██████████████████████████████████████████████████████████████████████| 3/3 [00:00<00:00, 1718.27it/s]\n",
      "100%|██████████████████████████████████████████████████████████████████████| 4/4 [00:00<00:00, 2549.34it/s]\n",
      "100%|██████████████████████████████████████████████████████████████████████| 5/5 [00:00<00:00, 1759.50it/s]\n",
      "100%|██████████████████████████████████████████████████████████████████████| 4/4 [00:00<00:00, 2123.16it/s]\n",
      "100%|██████████████████████████████████████████████████████████████████████| 4/4 [00:00<00:00, 1055.70it/s]\n",
      "100%|███████████████████████████████████████████████████████████████████████| 4/4 [00:00<00:00, 661.28it/s]\n",
      "100%|██████████████████████████████████████████████████████████████████████| 4/4 [00:00<00:00, 2044.01it/s]\n",
      "100%|██████████████████████████████████████████████████████████████████████| 4/4 [00:00<00:00, 1574.73it/s]\n",
      "100%|██████████████████████████████████████████████████████████████████████| 4/4 [00:00<00:00, 1924.88it/s]\n",
      "100%|██████████████████████████████████████████████████████████████████████| 4/4 [00:00<00:00, 1470.65it/s]\n",
      "100%|███████████████████████████████████████████████████████████████████████| 4/4 [00:00<00:00, 994.03it/s]\n",
      "100%|██████████████████████████████████████████████████████████████████████| 4/4 [00:00<00:00, 1583.50it/s]\n",
      "100%|██████████████████████████████████████████████████████████████████████| 4/4 [00:00<00:00, 1446.56it/s]\n",
      "100%|██████████████████████████████████████████████████████████████████████| 4/4 [00:00<00:00, 2382.45it/s]\n",
      "100%|██████████████████████████████████████████████████████████████████████| 4/4 [00:00<00:00, 2340.57it/s]\n",
      "100%|██████████████████████████████████████████████████████████████████████| 6/6 [00:00<00:00, 2148.35it/s]\n",
      "100%|██████████████████████████████████████████████████████████████████████| 4/4 [00:00<00:00, 1986.17it/s]\n",
      "100%|██████████████████████████████████████████████████████████████████████| 5/5 [00:00<00:00, 2666.78it/s]\n",
      "100%|███████████████████████████████████████████████████████████████████████| 4/4 [00:00<00:00, 743.11it/s]\n",
      "100%|██████████████████████████████████████████████████████████████████████| 4/4 [00:00<00:00, 2037.55it/s]\n",
      "100%|██████████████████████████████████████████████████████████████████████| 4/4 [00:00<00:00, 1824.21it/s]\n",
      "100%|██████████████████████████████████████████████████████████████████████| 4/4 [00:00<00:00, 1843.45it/s]\n",
      "100%|██████████████████████████████████████████████████████████████████████| 4/4 [00:00<00:00, 1823.21it/s]\n",
      "100%|██████████████████████████████████████████████████████████████████████| 4/4 [00:00<00:00, 2341.88it/s]\n",
      "100%|██████████████████████████████████████████████████████████████████████| 4/4 [00:00<00:00, 2555.94it/s]\n",
      "100%|██████████████████████████████████████████████████████████████████████| 4/4 [00:00<00:00, 1050.41it/s]\n",
      "100%|██████████████████████████████████████████████████████████████████████| 4/4 [00:00<00:00, 1892.95it/s]\n",
      "100%|██████████████████████████████████████████████████████████████████████| 4/4 [00:00<00:00, 1591.01it/s]\n",
      "100%|██████████████████████████████████████████████████████████████████████| 4/4 [00:00<00:00, 1821.43it/s]\n",
      "100%|██████████████████████████████████████████████████████████████████████| 4/4 [00:00<00:00, 2138.04it/s]\n",
      "100%|██████████████████████████████████████████████████████████████████████| 4/4 [00:00<00:00, 2428.31it/s]\n",
      "100%|████████████████████████████████████████████████████████████████| 4110/4110 [00:02<00:00, 1468.06it/s]\n"
     ]
    }
   ],
   "source": [
    "vest_base = do_smart_repair(vest_base, min_rook_length = 30.5)"
   ]
  },
  {
   "cell_type": "code",
   "execution_count": 26,
   "id": "4bf90211",
   "metadata": {},
   "outputs": [
    {
     "name": "stderr",
     "output_type": "stream",
     "text": [
      "100%|████████████████████████████████████████████████████████████████| 4110/4110 [00:03<00:00, 1315.91it/s]\n"
     ]
    },
    {
     "data": {
      "text/plain": [
       "True"
      ]
     },
     "execution_count": 26,
     "metadata": {},
     "output_type": "execute_result"
    }
   ],
   "source": [
    "maup.doctor(vest_base)"
   ]
  },
  {
   "cell_type": "markdown",
   "id": "5de41a89",
   "metadata": {},
   "source": [
    "### If it is true for maup doctor, we will use it as the base vest data."
   ]
  },
  {
   "cell_type": "code",
   "execution_count": 27,
   "id": "10e48467-d392-4312-b15f-bf18106f354c",
   "metadata": {},
   "outputs": [
    {
     "name": "stderr",
     "output_type": "stream",
     "text": [
      "100%|█████████████████████████████████████████████████████████████████| 4110/4110 [00:06<00:00, 613.75it/s]\n",
      "100%|█████████████████████████████████████████████████████████████████| 4110/4110 [00:18<00:00, 226.73it/s]\n"
     ]
    }
   ],
   "source": [
    "# vap and population have the same GEOID20\n",
    "blocks_to_precincts_assignment = maup.assign(population_df.geometry, vest_base.geometry)"
   ]
  },
  {
   "cell_type": "code",
   "execution_count": 28,
   "id": "ac015a92-391c-48c4-b26a-5c511b58e3ab",
   "metadata": {},
   "outputs": [],
   "source": [
    "pop_col = ['TOTPOP', 'HISP', 'NH_WHITE', 'NH_BLACK', 'NH_AMIN', 'NH_ASIAN', 'NH_NHPI', 'NH_OTHER', 'NH_2MORE', 'H_WHITE', 'H_BLACK', 'H_AMIN', 'H_ASIAN', 'H_NHPI', 'H_OTHER', 'H_2MORE', 'VAP', 'HVAP', 'WVAP', 'BVAP', 'AMINVAP', 'ASIANVAP', 'NHPIVAP', 'OTHERVAP', '2MOREVAP']"
   ]
  },
  {
   "cell_type": "code",
   "execution_count": 29,
   "id": "f91b6866-727d-40c9-9d43-4a0e6ae8c0e2",
   "metadata": {},
   "outputs": [],
   "source": [
    "vest_base[pop_col] = population_df[pop_col].groupby(blocks_to_precincts_assignment).sum()"
   ]
  },
  {
   "cell_type": "code",
   "execution_count": 30,
   "id": "ead5880d-f5f1-44f0-8024-ff4789ff2f15",
   "metadata": {},
   "outputs": [],
   "source": [
    "election_df = gpd.GeoDataFrame(vest_base)"
   ]
  },
  {
   "cell_type": "code",
   "execution_count": 31,
   "id": "575b8480",
   "metadata": {},
   "outputs": [
    {
     "data": {
      "text/plain": [
       "Index(['COUNTYFIPS', 'COUNTYNAME', 'PCTNAME', 'PRE20D', 'PRE20O', 'PRE20R',\n",
       "       'USS20D', 'USS20O', 'USS20R', 'VTDID', 'geometry', 'TOTPOP', 'HISP',\n",
       "       'NH_WHITE', 'NH_BLACK', 'NH_AMIN', 'NH_ASIAN', 'NH_NHPI', 'NH_OTHER',\n",
       "       'NH_2MORE', 'H_WHITE', 'H_BLACK', 'H_AMIN', 'H_ASIAN', 'H_NHPI',\n",
       "       'H_OTHER', 'H_2MORE', 'VAP', 'HVAP', 'WVAP', 'BVAP', 'AMINVAP',\n",
       "       'ASIANVAP', 'NHPIVAP', 'OTHERVAP', '2MOREVAP'],\n",
       "      dtype='object')"
      ]
     },
     "execution_count": 31,
     "metadata": {},
     "output_type": "execute_result"
    }
   ],
   "source": [
    "election_df.columns"
   ]
  },
  {
   "cell_type": "markdown",
   "id": "cf1aefdb-30e0-4d1f-9261-01a513f4e1d3",
   "metadata": {},
   "source": [
    "### Check if the population agrees"
   ]
  },
  {
   "cell_type": "code",
   "execution_count": 32,
   "id": "d6ff200d-d1d6-4f7d-ba3b-142cddc0eb85",
   "metadata": {},
   "outputs": [
    {
     "name": "stdout",
     "output_type": "stream",
     "text": [
      "population agrees\n"
     ]
    }
   ],
   "source": [
    "check_population(population_df, vest_base)"
   ]
  },
  {
   "cell_type": "markdown",
   "id": "2b677d1a-cbe3-47aa-ae8a-761d0dfc7ad1",
   "metadata": {},
   "source": [
    "# Add more vest data"
   ]
  },
  {
   "cell_type": "code",
   "execution_count": 33,
   "id": "49d7e37a-7bbb-40b4-88ae-ba38d6dec0dd",
   "metadata": {},
   "outputs": [],
   "source": [
    "vest18 = gpd.read_file(vest18_data)"
   ]
  },
  {
   "cell_type": "code",
   "execution_count": 34,
   "id": "7e8ee46f-240e-42fb-b310-c777a01e1fca",
   "metadata": {},
   "outputs": [
    {
     "data": {
      "text/plain": [
       "['COUNTYNAME',\n",
       " 'COUNTYFIPS',\n",
       " 'VTDID',\n",
       " 'PCTNAME',\n",
       " 'PCTCODE',\n",
       " 'SHORTLABEL',\n",
       " 'MCDNAME',\n",
       " 'MCDCODE',\n",
       " 'MCDFIPS',\n",
       " 'MCDGNIS',\n",
       " 'CONGDIST',\n",
       " 'MNSENDIST',\n",
       " 'MNLEGDIST',\n",
       " 'CTYCOMDIST',\n",
       " 'JUDDIST',\n",
       " 'G18USSRNEW',\n",
       " 'G18USSDKLO',\n",
       " 'G18USSMSCH',\n",
       " 'G18USSGOVE',\n",
       " 'G18USSOWRI',\n",
       " 'S18USSRHOU',\n",
       " 'S18USSDSMI',\n",
       " 'S18USSMWEL',\n",
       " 'S18USSUTRO',\n",
       " 'S18USSOWRI',\n",
       " 'G18GOVRJOH',\n",
       " 'G18GOVDWAL',\n",
       " 'G18GOVMWRI',\n",
       " 'G18GOVLWEL',\n",
       " 'G18GOVOWRI',\n",
       " 'G18SOSRHOW',\n",
       " 'G18SOSDSIM',\n",
       " 'G18SOSIDEN',\n",
       " 'G18SOSOWRI',\n",
       " 'G18AUDRMYH',\n",
       " 'G18AUDDBLA',\n",
       " 'G18AUDMFOR',\n",
       " 'G18AUDLDOC',\n",
       " 'G18AUDOWRI',\n",
       " 'G18ATGRWAR',\n",
       " 'G18ATGDELL',\n",
       " 'G18ATGMJOH',\n",
       " 'G18ATGOWRI',\n",
       " 'geometry']"
      ]
     },
     "execution_count": 34,
     "metadata": {},
     "output_type": "execute_result"
    }
   ],
   "source": [
    "list(vest18.columns)"
   ]
  },
  {
   "cell_type": "code",
   "execution_count": 35,
   "id": "f995422e-1248-4aa9-b855-7d76d7616384",
   "metadata": {},
   "outputs": [
    {
     "name": "stderr",
     "output_type": "stream",
     "text": [
      "100%|████████████████████████████████████████████████████████████████| 4113/4113 [00:02<00:00, 1462.43it/s]\n"
     ]
    },
    {
     "name": "stdout",
     "output_type": "stream",
     "text": [
      "There are some invalid geometries.\n",
      "Snapping all geometries to a grid with precision 10^( -5 ) to avoid GEOS errors.\n",
      "Identifying overlaps...\n"
     ]
    },
    {
     "name": "stderr",
     "output_type": "stream",
     "text": [
      "100%|████████████████████████████████████████████████████████████████| 4957/4957 [00:01<00:00, 4274.82it/s]\n"
     ]
    },
    {
     "name": "stdout",
     "output_type": "stream",
     "text": [
      "Resolving overlaps...\n",
      "Filling gaps...\n"
     ]
    },
    {
     "name": "stderr",
     "output_type": "stream",
     "text": [
      "Gaps to simplify: 0it [00:00, ?it/s]\n",
      "Gaps to fill: 0it [00:00, ?it/s]\n",
      "100%|████████████████████████████████████████████████████████████████| 4113/4113 [00:02<00:00, 1568.34it/s]\n",
      "100%|█████████████████████████████████████████████████████████████████| 4113/4113 [00:07<00:00, 515.55it/s]\n",
      "100%|█████████████████████████████████████████████████████████████████| 4113/4113 [00:19<00:00, 211.09it/s]\n",
      "100%|█████████████████████████████████████████████████████████████████| 4110/4110 [00:11<00:00, 360.90it/s]\n",
      "100%|█████████████████████████████████████████████████████████████████| 4110/4110 [00:18<00:00, 218.88it/s]\n"
     ]
    },
    {
     "name": "stdout",
     "output_type": "stream",
     "text": [
      "population agrees\n"
     ]
    }
   ],
   "source": [
    "# check the result here\n",
    "start_col = 15\n",
    "election_df = add_vest(vest18, election_df, '18', population_df, start_col)"
   ]
  },
  {
   "cell_type": "code",
   "execution_count": 36,
   "id": "4d7476dd-c003-4fa5-ab9b-8ed6f75bed39",
   "metadata": {
    "tags": []
   },
   "outputs": [
    {
     "data": {
      "text/plain": [
       "Index(['VTDID', 'PCTNAME', 'PCTCODE', 'SHORTLABEL', 'MCDNAME', 'MCDCODE',\n",
       "       'MCDFIPS', 'MCDGNIS', 'G16PRERTru', 'G16PREDCli', 'G16PRECCas',\n",
       "       'G16PREMVac', 'G16PRESKen', 'G16PREGSte', 'G16PREIDeL', 'G16PREIMcM',\n",
       "       'G16PRELJoh', 'G16PREOth', 'geometry'],\n",
       "      dtype='object')"
      ]
     },
     "execution_count": 36,
     "metadata": {},
     "output_type": "execute_result"
    }
   ],
   "source": [
    "vest16 = gpd.read_file(vest16_data)\n",
    "vest16.columns"
   ]
  },
  {
   "cell_type": "code",
   "execution_count": 37,
   "id": "9cda5e9c-fabd-4499-841b-a3d49d5d501b",
   "metadata": {},
   "outputs": [
    {
     "name": "stderr",
     "output_type": "stream",
     "text": [
      "100%|█████████████████████████████████████████████████████████████████| 4120/4120 [00:05<00:00, 719.11it/s]\n"
     ]
    },
    {
     "name": "stdout",
     "output_type": "stream",
     "text": [
      "There are some invalid geometries.\n",
      "Snapping all geometries to a grid with precision 10^( -5 ) to avoid GEOS errors.\n",
      "Identifying overlaps...\n"
     ]
    },
    {
     "name": "stderr",
     "output_type": "stream",
     "text": [
      "100%|████████████████████████████████████████████████████████████████| 5021/5021 [00:01<00:00, 2997.51it/s]\n"
     ]
    },
    {
     "name": "stdout",
     "output_type": "stream",
     "text": [
      "Resolving overlaps...\n",
      "Filling gaps...\n"
     ]
    },
    {
     "name": "stderr",
     "output_type": "stream",
     "text": [
      "Gaps to simplify: 0it [00:00, ?it/s]\n",
      "Gaps to fill: 0it [00:00, ?it/s]\n",
      "100%|████████████████████████████████████████████████████████████████| 4120/4120 [00:03<00:00, 1059.91it/s]\n",
      "100%|█████████████████████████████████████████████████████████████████| 4120/4120 [00:07<00:00, 547.51it/s]\n",
      "100%|█████████████████████████████████████████████████████████████████| 4120/4120 [00:19<00:00, 208.26it/s]\n",
      "100%|█████████████████████████████████████████████████████████████████| 4110/4110 [00:06<00:00, 668.96it/s]\n",
      "100%|█████████████████████████████████████████████████████████████████| 4110/4110 [00:20<00:00, 202.31it/s]\n"
     ]
    },
    {
     "name": "stdout",
     "output_type": "stream",
     "text": [
      "population agrees\n"
     ]
    }
   ],
   "source": [
    "start_col = 8\n",
    "election_df = add_vest(vest16, election_df, '16', population_df, start_col)"
   ]
  },
  {
   "cell_type": "markdown",
   "id": "10cf83d4-6005-485b-8193-c0149869a97e",
   "metadata": {},
   "source": [
    "## Add the district data"
   ]
  },
  {
   "cell_type": "code",
   "execution_count": 38,
   "id": "a0ccb606-7fe4-4b0a-998b-337d31f4abc5",
   "metadata": {},
   "outputs": [],
   "source": [
    "cong_df = gpd.read_file(cd_data)\n",
    "cong_df = cong_df.to_crs(cong_df.estimate_utm_crs())\n",
    "send = gpd.read_file(send_data)\n",
    "send = send.to_crs(send.estimate_utm_crs())\n",
    "hdist = gpd.read_file(hdist_data)\n",
    "hdist = hdist.to_crs(hdist.estimate_utm_crs())"
   ]
  },
  {
   "cell_type": "code",
   "execution_count": 39,
   "id": "4680cc44-44d8-4bea-96a7-9959d570d8ba",
   "metadata": {},
   "outputs": [
    {
     "data": {
      "text/html": [
       "<div>\n",
       "<style scoped>\n",
       "    .dataframe tbody tr th:only-of-type {\n",
       "        vertical-align: middle;\n",
       "    }\n",
       "\n",
       "    .dataframe tbody tr th {\n",
       "        vertical-align: top;\n",
       "    }\n",
       "\n",
       "    .dataframe thead th {\n",
       "        text-align: right;\n",
       "    }\n",
       "</style>\n",
       "<table border=\"1\" class=\"dataframe\">\n",
       "  <thead>\n",
       "    <tr style=\"text-align: right;\">\n",
       "      <th></th>\n",
       "      <th>ID</th>\n",
       "      <th>AREA</th>\n",
       "      <th>DISTRICT</th>\n",
       "      <th>MEMBERS</th>\n",
       "      <th>LOCKED</th>\n",
       "      <th>NAME</th>\n",
       "      <th>POPULATION</th>\n",
       "      <th>NH_WHT</th>\n",
       "      <th>HISPANIC_O</th>\n",
       "      <th>NH_DOJ_BLK</th>\n",
       "      <th>...</th>\n",
       "      <th>F_NH18_DO3</th>\n",
       "      <th>F_NH18_DO4</th>\n",
       "      <th>F_NH18_DO5</th>\n",
       "      <th>F_NH18_WHT</th>\n",
       "      <th>F_18_POP</th>\n",
       "      <th>F_DEM_INDE</th>\n",
       "      <th>F_REP_INDE</th>\n",
       "      <th>F_THIRD_IN</th>\n",
       "      <th>DISTRICT_L</th>\n",
       "      <th>geometry</th>\n",
       "    </tr>\n",
       "  </thead>\n",
       "  <tbody>\n",
       "    <tr>\n",
       "      <th>0</th>\n",
       "      <td>1</td>\n",
       "      <td>12430.222656</td>\n",
       "      <td>1</td>\n",
       "      <td>1.0</td>\n",
       "      <td>None</td>\n",
       "      <td>None</td>\n",
       "      <td>713311</td>\n",
       "      <td>587883</td>\n",
       "      <td>51121</td>\n",
       "      <td>27369</td>\n",
       "      <td>...</td>\n",
       "      <td>0.000601</td>\n",
       "      <td>0.002295</td>\n",
       "      <td>0.022386</td>\n",
       "      <td>0.855693</td>\n",
       "      <td>0.770142</td>\n",
       "      <td>0.477860</td>\n",
       "      <td>0.474246</td>\n",
       "      <td>0.047894</td>\n",
       "      <td>1|-0%</td>\n",
       "      <td>POLYGON ((521223.785 4951253.465, 521495.479 4...</td>\n",
       "    </tr>\n",
       "    <tr>\n",
       "      <th>1</th>\n",
       "      <td>2</td>\n",
       "      <td>1805.995972</td>\n",
       "      <td>2</td>\n",
       "      <td>1.0</td>\n",
       "      <td>None</td>\n",
       "      <td>None</td>\n",
       "      <td>713312</td>\n",
       "      <td>536985</td>\n",
       "      <td>54131</td>\n",
       "      <td>44486</td>\n",
       "      <td>...</td>\n",
       "      <td>0.000441</td>\n",
       "      <td>0.004392</td>\n",
       "      <td>0.030024</td>\n",
       "      <td>0.790203</td>\n",
       "      <td>0.750402</td>\n",
       "      <td>0.494260</td>\n",
       "      <td>0.460461</td>\n",
       "      <td>0.045279</td>\n",
       "      <td>2|0%</td>\n",
       "      <td>POLYGON ((467671.377 4893765.723, 467511.709 4...</td>\n",
       "    </tr>\n",
       "    <tr>\n",
       "      <th>2</th>\n",
       "      <td>3</td>\n",
       "      <td>515.873108</td>\n",
       "      <td>3</td>\n",
       "      <td>1.0</td>\n",
       "      <td>None</td>\n",
       "      <td>None</td>\n",
       "      <td>713311</td>\n",
       "      <td>509159</td>\n",
       "      <td>37414</td>\n",
       "      <td>67558</td>\n",
       "      <td>...</td>\n",
       "      <td>0.000233</td>\n",
       "      <td>0.003791</td>\n",
       "      <td>0.030805</td>\n",
       "      <td>0.757537</td>\n",
       "      <td>0.769882</td>\n",
       "      <td>0.522974</td>\n",
       "      <td>0.441346</td>\n",
       "      <td>0.035680</td>\n",
       "      <td>3|-0%</td>\n",
       "      <td>POLYGON ((469417.116 5009807.191, 469434.698 5...</td>\n",
       "    </tr>\n",
       "    <tr>\n",
       "      <th>3</th>\n",
       "      <td>4</td>\n",
       "      <td>333.247986</td>\n",
       "      <td>4</td>\n",
       "      <td>1.0</td>\n",
       "      <td>None</td>\n",
       "      <td>None</td>\n",
       "      <td>713312</td>\n",
       "      <td>443863</td>\n",
       "      <td>52740</td>\n",
       "      <td>79285</td>\n",
       "      <td>...</td>\n",
       "      <td>0.000340</td>\n",
       "      <td>0.003779</td>\n",
       "      <td>0.033634</td>\n",
       "      <td>0.678897</td>\n",
       "      <td>0.770141</td>\n",
       "      <td>0.636964</td>\n",
       "      <td>0.311469</td>\n",
       "      <td>0.051567</td>\n",
       "      <td>4|0%</td>\n",
       "      <td>POLYGON ((498386.356 4996710.697, 498420.330 4...</td>\n",
       "    </tr>\n",
       "    <tr>\n",
       "      <th>4</th>\n",
       "      <td>5</td>\n",
       "      <td>136.886185</td>\n",
       "      <td>5</td>\n",
       "      <td>1.0</td>\n",
       "      <td>None</td>\n",
       "      <td>None</td>\n",
       "      <td>713312</td>\n",
       "      <td>427555</td>\n",
       "      <td>72377</td>\n",
       "      <td>121980</td>\n",
       "      <td>...</td>\n",
       "      <td>0.000393</td>\n",
       "      <td>0.004791</td>\n",
       "      <td>0.039950</td>\n",
       "      <td>0.653848</td>\n",
       "      <td>0.801732</td>\n",
       "      <td>0.748150</td>\n",
       "      <td>0.201100</td>\n",
       "      <td>0.050750</td>\n",
       "      <td>5|0%</td>\n",
       "      <td>POLYGON ((479098.152 4996824.609, 479204.312 4...</td>\n",
       "    </tr>\n",
       "  </tbody>\n",
       "</table>\n",
       "<p>5 rows × 52 columns</p>\n",
       "</div>"
      ],
      "text/plain": [
       "   ID          AREA DISTRICT  MEMBERS LOCKED  NAME  POPULATION  NH_WHT  \\\n",
       "0   1  12430.222656        1      1.0   None  None      713311  587883   \n",
       "1   2   1805.995972        2      1.0   None  None      713312  536985   \n",
       "2   3    515.873108        3      1.0   None  None      713311  509159   \n",
       "3   4    333.247986        4      1.0   None  None      713312  443863   \n",
       "4   5    136.886185        5      1.0   None  None      713312  427555   \n",
       "\n",
       "   HISPANIC_O  NH_DOJ_BLK  ...  F_NH18_DO3  F_NH18_DO4  F_NH18_DO5  \\\n",
       "0       51121       27369  ...    0.000601    0.002295    0.022386   \n",
       "1       54131       44486  ...    0.000441    0.004392    0.030024   \n",
       "2       37414       67558  ...    0.000233    0.003791    0.030805   \n",
       "3       52740       79285  ...    0.000340    0.003779    0.033634   \n",
       "4       72377      121980  ...    0.000393    0.004791    0.039950   \n",
       "\n",
       "   F_NH18_WHT  F_18_POP  F_DEM_INDE  F_REP_INDE  F_THIRD_IN  DISTRICT_L  \\\n",
       "0    0.855693  0.770142    0.477860    0.474246    0.047894       1|-0%   \n",
       "1    0.790203  0.750402    0.494260    0.460461    0.045279        2|0%   \n",
       "2    0.757537  0.769882    0.522974    0.441346    0.035680       3|-0%   \n",
       "3    0.678897  0.770141    0.636964    0.311469    0.051567        4|0%   \n",
       "4    0.653848  0.801732    0.748150    0.201100    0.050750        5|0%   \n",
       "\n",
       "                                            geometry  \n",
       "0  POLYGON ((521223.785 4951253.465, 521495.479 4...  \n",
       "1  POLYGON ((467671.377 4893765.723, 467511.709 4...  \n",
       "2  POLYGON ((469417.116 5009807.191, 469434.698 5...  \n",
       "3  POLYGON ((498386.356 4996710.697, 498420.330 4...  \n",
       "4  POLYGON ((479098.152 4996824.609, 479204.312 4...  \n",
       "\n",
       "[5 rows x 52 columns]"
      ]
     },
     "execution_count": 39,
     "metadata": {},
     "output_type": "execute_result"
    }
   ],
   "source": [
    "cong_df.head()"
   ]
  },
  {
   "cell_type": "code",
   "execution_count": 40,
   "id": "018ba38f-e7c4-4e89-a051-8ba52f5e62f4",
   "metadata": {},
   "outputs": [
    {
     "data": {
      "text/plain": [
       "{'1', '2', '3', '4', '5', '6', '7', '8'}"
      ]
     },
     "execution_count": 40,
     "metadata": {},
     "output_type": "execute_result"
    }
   ],
   "source": [
    "set(cong_df['DISTRICT'])"
   ]
  },
  {
   "cell_type": "code",
   "execution_count": 41,
   "id": "2b8fbf45-f392-4996-9dc6-e9ee67d0e715",
   "metadata": {
    "tags": []
   },
   "outputs": [
    {
     "name": "stderr",
     "output_type": "stream",
     "text": [
      "100%|████████████████████████████████████████████████████████████████████████| 8/8 [00:00<00:00, 67.51it/s]\n",
      "100%|████████████████████████████████████████████████████████████████████████| 8/8 [00:00<00:00, 78.04it/s]\n",
      "100%|████████████████████████████████████████████████████████████████████████| 8/8 [00:00<00:00,  8.36it/s]\n"
     ]
    }
   ],
   "source": [
    "election_df = add_district(cong_df, \"CD\", election_df, \"DISTRICT\")"
   ]
  },
  {
   "cell_type": "code",
   "execution_count": 42,
   "id": "429d74db-6302-4981-a1c5-542ebd072f5b",
   "metadata": {},
   "outputs": [
    {
     "data": {
      "text/html": [
       "<div>\n",
       "<style scoped>\n",
       "    .dataframe tbody tr th:only-of-type {\n",
       "        vertical-align: middle;\n",
       "    }\n",
       "\n",
       "    .dataframe tbody tr th {\n",
       "        vertical-align: top;\n",
       "    }\n",
       "\n",
       "    .dataframe thead th {\n",
       "        text-align: right;\n",
       "    }\n",
       "</style>\n",
       "<table border=\"1\" class=\"dataframe\">\n",
       "  <thead>\n",
       "    <tr style=\"text-align: right;\">\n",
       "      <th></th>\n",
       "      <th>ID</th>\n",
       "      <th>AREA</th>\n",
       "      <th>DISTRICT</th>\n",
       "      <th>MEMBERS</th>\n",
       "      <th>LOCKED</th>\n",
       "      <th>NAME</th>\n",
       "      <th>POPULATION</th>\n",
       "      <th>NH_WHT</th>\n",
       "      <th>HISPANIC_O</th>\n",
       "      <th>NH_DOJ_BLK</th>\n",
       "      <th>...</th>\n",
       "      <th>F_NH18_DO3</th>\n",
       "      <th>F_NH18_DO4</th>\n",
       "      <th>F_NH18_DO5</th>\n",
       "      <th>F_NH18_WHT</th>\n",
       "      <th>F_18_POP</th>\n",
       "      <th>F_DEM_INDE</th>\n",
       "      <th>F_REP_INDE</th>\n",
       "      <th>F_THIRD_IN</th>\n",
       "      <th>DISTRICT_L</th>\n",
       "      <th>geometry</th>\n",
       "    </tr>\n",
       "  </thead>\n",
       "  <tbody>\n",
       "    <tr>\n",
       "      <th>0</th>\n",
       "      <td>1</td>\n",
       "      <td>8599.527344</td>\n",
       "      <td>01</td>\n",
       "      <td>1.0</td>\n",
       "      <td>None</td>\n",
       "      <td>None</td>\n",
       "      <td>85175</td>\n",
       "      <td>75057</td>\n",
       "      <td>3788</td>\n",
       "      <td>1267</td>\n",
       "      <td>...</td>\n",
       "      <td>0.000277</td>\n",
       "      <td>0.002677</td>\n",
       "      <td>0.026662</td>\n",
       "      <td>0.904585</td>\n",
       "      <td>0.763135</td>\n",
       "      <td>0.457220</td>\n",
       "      <td>0.497637</td>\n",
       "      <td>0.045143</td>\n",
       "      <td>01|0%</td>\n",
       "      <td>POLYGON ((229817.099 5228157.579, 229440.370 5...</td>\n",
       "    </tr>\n",
       "    <tr>\n",
       "      <th>1</th>\n",
       "      <td>2</td>\n",
       "      <td>8808.734375</td>\n",
       "      <td>02</td>\n",
       "      <td>1.0</td>\n",
       "      <td>None</td>\n",
       "      <td>None</td>\n",
       "      <td>85461</td>\n",
       "      <td>59017</td>\n",
       "      <td>1748</td>\n",
       "      <td>595</td>\n",
       "      <td>...</td>\n",
       "      <td>0.000171</td>\n",
       "      <td>0.002957</td>\n",
       "      <td>0.046515</td>\n",
       "      <td>0.745592</td>\n",
       "      <td>0.751910</td>\n",
       "      <td>0.475356</td>\n",
       "      <td>0.474558</td>\n",
       "      <td>0.050086</td>\n",
       "      <td>02|0.34%</td>\n",
       "      <td>POLYGON ((394762.914 5395196.693, 394762.693 5...</td>\n",
       "    </tr>\n",
       "    <tr>\n",
       "      <th>2</th>\n",
       "      <td>3</td>\n",
       "      <td>14772.773438</td>\n",
       "      <td>03</td>\n",
       "      <td>1.0</td>\n",
       "      <td>None</td>\n",
       "      <td>None</td>\n",
       "      <td>84754</td>\n",
       "      <td>76968</td>\n",
       "      <td>1144</td>\n",
       "      <td>526</td>\n",
       "      <td>...</td>\n",
       "      <td>0.000175</td>\n",
       "      <td>0.002531</td>\n",
       "      <td>0.033038</td>\n",
       "      <td>0.921324</td>\n",
       "      <td>0.811030</td>\n",
       "      <td>0.538565</td>\n",
       "      <td>0.421804</td>\n",
       "      <td>0.039631</td>\n",
       "      <td>03|-0.49%</td>\n",
       "      <td>POLYGON ((394762.914 5395196.693, 395221.273 5...</td>\n",
       "    </tr>\n",
       "    <tr>\n",
       "      <th>3</th>\n",
       "      <td>4</td>\n",
       "      <td>1340.252563</td>\n",
       "      <td>04</td>\n",
       "      <td>1.0</td>\n",
       "      <td>None</td>\n",
       "      <td>None</td>\n",
       "      <td>85002</td>\n",
       "      <td>71651</td>\n",
       "      <td>3383</td>\n",
       "      <td>3281</td>\n",
       "      <td>...</td>\n",
       "      <td>0.000358</td>\n",
       "      <td>0.002150</td>\n",
       "      <td>0.035057</td>\n",
       "      <td>0.873516</td>\n",
       "      <td>0.755065</td>\n",
       "      <td>0.522808</td>\n",
       "      <td>0.426478</td>\n",
       "      <td>0.050714</td>\n",
       "      <td>04|-0.2%</td>\n",
       "      <td>POLYGON ((286407.640 5177455.953, 285435.998 5...</td>\n",
       "    </tr>\n",
       "    <tr>\n",
       "      <th>4</th>\n",
       "      <td>5</td>\n",
       "      <td>3758.213867</td>\n",
       "      <td>05</td>\n",
       "      <td>1.0</td>\n",
       "      <td>None</td>\n",
       "      <td>None</td>\n",
       "      <td>85402</td>\n",
       "      <td>77560</td>\n",
       "      <td>3313</td>\n",
       "      <td>383</td>\n",
       "      <td>...</td>\n",
       "      <td>0.000888</td>\n",
       "      <td>0.002020</td>\n",
       "      <td>0.026308</td>\n",
       "      <td>0.926662</td>\n",
       "      <td>0.765099</td>\n",
       "      <td>0.365531</td>\n",
       "      <td>0.592854</td>\n",
       "      <td>0.041615</td>\n",
       "      <td>05|0.27%</td>\n",
       "      <td>POLYGON ((334160.856 5108147.967, 334163.114 5...</td>\n",
       "    </tr>\n",
       "  </tbody>\n",
       "</table>\n",
       "<p>5 rows × 52 columns</p>\n",
       "</div>"
      ],
      "text/plain": [
       "   ID          AREA DISTRICT  MEMBERS LOCKED  NAME  POPULATION  NH_WHT  \\\n",
       "0   1   8599.527344       01      1.0   None  None       85175   75057   \n",
       "1   2   8808.734375       02      1.0   None  None       85461   59017   \n",
       "2   3  14772.773438       03      1.0   None  None       84754   76968   \n",
       "3   4   1340.252563       04      1.0   None  None       85002   71651   \n",
       "4   5   3758.213867       05      1.0   None  None       85402   77560   \n",
       "\n",
       "   HISPANIC_O  NH_DOJ_BLK  ...  F_NH18_DO3  F_NH18_DO4  F_NH18_DO5  \\\n",
       "0        3788        1267  ...    0.000277    0.002677    0.026662   \n",
       "1        1748         595  ...    0.000171    0.002957    0.046515   \n",
       "2        1144         526  ...    0.000175    0.002531    0.033038   \n",
       "3        3383        3281  ...    0.000358    0.002150    0.035057   \n",
       "4        3313         383  ...    0.000888    0.002020    0.026308   \n",
       "\n",
       "   F_NH18_WHT  F_18_POP  F_DEM_INDE  F_REP_INDE  F_THIRD_IN  DISTRICT_L  \\\n",
       "0    0.904585  0.763135    0.457220    0.497637    0.045143       01|0%   \n",
       "1    0.745592  0.751910    0.475356    0.474558    0.050086    02|0.34%   \n",
       "2    0.921324  0.811030    0.538565    0.421804    0.039631   03|-0.49%   \n",
       "3    0.873516  0.755065    0.522808    0.426478    0.050714    04|-0.2%   \n",
       "4    0.926662  0.765099    0.365531    0.592854    0.041615    05|0.27%   \n",
       "\n",
       "                                            geometry  \n",
       "0  POLYGON ((229817.099 5228157.579, 229440.370 5...  \n",
       "1  POLYGON ((394762.914 5395196.693, 394762.693 5...  \n",
       "2  POLYGON ((394762.914 5395196.693, 395221.273 5...  \n",
       "3  POLYGON ((286407.640 5177455.953, 285435.998 5...  \n",
       "4  POLYGON ((334160.856 5108147.967, 334163.114 5...  \n",
       "\n",
       "[5 rows x 52 columns]"
      ]
     },
     "execution_count": 42,
     "metadata": {},
     "output_type": "execute_result"
    }
   ],
   "source": [
    "send.head()"
   ]
  },
  {
   "cell_type": "code",
   "execution_count": 43,
   "id": "f9b2d7bd-9760-4d9e-832a-0c75061b8f51",
   "metadata": {},
   "outputs": [
    {
     "data": {
      "text/plain": [
       "67"
      ]
     },
     "execution_count": 43,
     "metadata": {},
     "output_type": "execute_result"
    }
   ],
   "source": [
    "len(set(send['DISTRICT']))"
   ]
  },
  {
   "cell_type": "code",
   "execution_count": 44,
   "id": "4c6f7560-f433-4ba1-9777-a172415c1f8d",
   "metadata": {},
   "outputs": [
    {
     "data": {
      "text/html": [
       "<div>\n",
       "<style scoped>\n",
       "    .dataframe tbody tr th:only-of-type {\n",
       "        vertical-align: middle;\n",
       "    }\n",
       "\n",
       "    .dataframe tbody tr th {\n",
       "        vertical-align: top;\n",
       "    }\n",
       "\n",
       "    .dataframe thead th {\n",
       "        text-align: right;\n",
       "    }\n",
       "</style>\n",
       "<table border=\"1\" class=\"dataframe\">\n",
       "  <thead>\n",
       "    <tr style=\"text-align: right;\">\n",
       "      <th></th>\n",
       "      <th>ID</th>\n",
       "      <th>AREA</th>\n",
       "      <th>DISTRICT</th>\n",
       "      <th>MEMBERS</th>\n",
       "      <th>LOCKED</th>\n",
       "      <th>NAME</th>\n",
       "      <th>POPULATION</th>\n",
       "      <th>NH_WHT</th>\n",
       "      <th>HISPANIC_O</th>\n",
       "      <th>NH_DOJ_BLK</th>\n",
       "      <th>...</th>\n",
       "      <th>F_NH18_DO3</th>\n",
       "      <th>F_NH18_DO4</th>\n",
       "      <th>F_NH18_DO5</th>\n",
       "      <th>F_NH18_WHT</th>\n",
       "      <th>F_18_POP</th>\n",
       "      <th>F_DEM_INDE</th>\n",
       "      <th>F_REP_INDE</th>\n",
       "      <th>F_THIRD_IN</th>\n",
       "      <th>DISTRICT_L</th>\n",
       "      <th>geometry</th>\n",
       "    </tr>\n",
       "  </thead>\n",
       "  <tbody>\n",
       "    <tr>\n",
       "      <th>0</th>\n",
       "      <td>1</td>\n",
       "      <td>5197.243652</td>\n",
       "      <td>01A</td>\n",
       "      <td>1.0</td>\n",
       "      <td>None</td>\n",
       "      <td>None</td>\n",
       "      <td>42570</td>\n",
       "      <td>38247</td>\n",
       "      <td>1382</td>\n",
       "      <td>275</td>\n",
       "      <td>...</td>\n",
       "      <td>0.000550</td>\n",
       "      <td>0.002933</td>\n",
       "      <td>0.026548</td>\n",
       "      <td>0.918034</td>\n",
       "      <td>0.768922</td>\n",
       "      <td>0.433413</td>\n",
       "      <td>0.521210</td>\n",
       "      <td>0.045377</td>\n",
       "      <td>01A|-0.04%</td>\n",
       "      <td>POLYGON ((307143.777 5312188.062, 307136.682 5...</td>\n",
       "    </tr>\n",
       "    <tr>\n",
       "      <th>1</th>\n",
       "      <td>2</td>\n",
       "      <td>3402.283936</td>\n",
       "      <td>01B</td>\n",
       "      <td>1.0</td>\n",
       "      <td>None</td>\n",
       "      <td>None</td>\n",
       "      <td>42605</td>\n",
       "      <td>36810</td>\n",
       "      <td>2406</td>\n",
       "      <td>992</td>\n",
       "      <td>...</td>\n",
       "      <td>0.000000</td>\n",
       "      <td>0.002417</td>\n",
       "      <td>0.026777</td>\n",
       "      <td>0.890941</td>\n",
       "      <td>0.757352</td>\n",
       "      <td>0.482788</td>\n",
       "      <td>0.472321</td>\n",
       "      <td>0.044891</td>\n",
       "      <td>01B|0.04%</td>\n",
       "      <td>POLYGON ((229817.099 5228157.579, 229440.370 5...</td>\n",
       "    </tr>\n",
       "    <tr>\n",
       "      <th>2</th>\n",
       "      <td>3</td>\n",
       "      <td>4535.418457</td>\n",
       "      <td>02A</td>\n",
       "      <td>1.0</td>\n",
       "      <td>None</td>\n",
       "      <td>None</td>\n",
       "      <td>42871</td>\n",
       "      <td>30297</td>\n",
       "      <td>1067</td>\n",
       "      <td>510</td>\n",
       "      <td>...</td>\n",
       "      <td>0.000124</td>\n",
       "      <td>0.002412</td>\n",
       "      <td>0.039549</td>\n",
       "      <td>0.757297</td>\n",
       "      <td>0.754356</td>\n",
       "      <td>0.501386</td>\n",
       "      <td>0.444328</td>\n",
       "      <td>0.054286</td>\n",
       "      <td>02A|0.67%</td>\n",
       "      <td>POLYGON ((394185.295 5358115.221, 394402.382 5...</td>\n",
       "    </tr>\n",
       "    <tr>\n",
       "      <th>3</th>\n",
       "      <td>4</td>\n",
       "      <td>4273.315918</td>\n",
       "      <td>02B</td>\n",
       "      <td>1.0</td>\n",
       "      <td>None</td>\n",
       "      <td>None</td>\n",
       "      <td>42590</td>\n",
       "      <td>28720</td>\n",
       "      <td>681</td>\n",
       "      <td>85</td>\n",
       "      <td>...</td>\n",
       "      <td>0.000219</td>\n",
       "      <td>0.003509</td>\n",
       "      <td>0.053573</td>\n",
       "      <td>0.733732</td>\n",
       "      <td>0.749448</td>\n",
       "      <td>0.449601</td>\n",
       "      <td>0.504468</td>\n",
       "      <td>0.045931</td>\n",
       "      <td>02B|0.01%</td>\n",
       "      <td>POLYGON ((393846.889 5319482.248, 393934.129 5...</td>\n",
       "    </tr>\n",
       "    <tr>\n",
       "      <th>4</th>\n",
       "      <td>5</td>\n",
       "      <td>13688.615234</td>\n",
       "      <td>03A</td>\n",
       "      <td>1.0</td>\n",
       "      <td>None</td>\n",
       "      <td>None</td>\n",
       "      <td>42417</td>\n",
       "      <td>37934</td>\n",
       "      <td>611</td>\n",
       "      <td>240</td>\n",
       "      <td>...</td>\n",
       "      <td>0.000170</td>\n",
       "      <td>0.002830</td>\n",
       "      <td>0.032229</td>\n",
       "      <td>0.911208</td>\n",
       "      <td>0.833180</td>\n",
       "      <td>0.521834</td>\n",
       "      <td>0.434363</td>\n",
       "      <td>0.043803</td>\n",
       "      <td>03A|-0.4%</td>\n",
       "      <td>POLYGON ((394762.914 5395196.693, 395221.273 5...</td>\n",
       "    </tr>\n",
       "  </tbody>\n",
       "</table>\n",
       "<p>5 rows × 52 columns</p>\n",
       "</div>"
      ],
      "text/plain": [
       "   ID          AREA DISTRICT  MEMBERS LOCKED  NAME  POPULATION  NH_WHT  \\\n",
       "0   1   5197.243652      01A      1.0   None  None       42570   38247   \n",
       "1   2   3402.283936      01B      1.0   None  None       42605   36810   \n",
       "2   3   4535.418457      02A      1.0   None  None       42871   30297   \n",
       "3   4   4273.315918      02B      1.0   None  None       42590   28720   \n",
       "4   5  13688.615234      03A      1.0   None  None       42417   37934   \n",
       "\n",
       "   HISPANIC_O  NH_DOJ_BLK  ...  F_NH18_DO3  F_NH18_DO4  F_NH18_DO5  \\\n",
       "0        1382         275  ...    0.000550    0.002933    0.026548   \n",
       "1        2406         992  ...    0.000000    0.002417    0.026777   \n",
       "2        1067         510  ...    0.000124    0.002412    0.039549   \n",
       "3         681          85  ...    0.000219    0.003509    0.053573   \n",
       "4         611         240  ...    0.000170    0.002830    0.032229   \n",
       "\n",
       "   F_NH18_WHT  F_18_POP  F_DEM_INDE  F_REP_INDE  F_THIRD_IN  DISTRICT_L  \\\n",
       "0    0.918034  0.768922    0.433413    0.521210    0.045377  01A|-0.04%   \n",
       "1    0.890941  0.757352    0.482788    0.472321    0.044891   01B|0.04%   \n",
       "2    0.757297  0.754356    0.501386    0.444328    0.054286   02A|0.67%   \n",
       "3    0.733732  0.749448    0.449601    0.504468    0.045931   02B|0.01%   \n",
       "4    0.911208  0.833180    0.521834    0.434363    0.043803   03A|-0.4%   \n",
       "\n",
       "                                            geometry  \n",
       "0  POLYGON ((307143.777 5312188.062, 307136.682 5...  \n",
       "1  POLYGON ((229817.099 5228157.579, 229440.370 5...  \n",
       "2  POLYGON ((394185.295 5358115.221, 394402.382 5...  \n",
       "3  POLYGON ((393846.889 5319482.248, 393934.129 5...  \n",
       "4  POLYGON ((394762.914 5395196.693, 395221.273 5...  \n",
       "\n",
       "[5 rows x 52 columns]"
      ]
     },
     "execution_count": 44,
     "metadata": {},
     "output_type": "execute_result"
    }
   ],
   "source": [
    "hdist.head()"
   ]
  },
  {
   "cell_type": "code",
   "execution_count": 45,
   "id": "5da68b06-5571-453f-a777-1ca6cdb910dc",
   "metadata": {},
   "outputs": [
    {
     "data": {
      "text/plain": [
       "134"
      ]
     },
     "execution_count": 45,
     "metadata": {},
     "output_type": "execute_result"
    }
   ],
   "source": [
    "len(set(hdist['DISTRICT']))"
   ]
  },
  {
   "cell_type": "code",
   "execution_count": 46,
   "id": "a9fe98af-f37e-4200-835e-f96695f68e41",
   "metadata": {
    "tags": []
   },
   "outputs": [
    {
     "name": "stderr",
     "output_type": "stream",
     "text": [
      "100%|█████████████████████████████████████████████████████████████████████| 67/67 [00:00<00:00, 259.16it/s]\n",
      "100%|█████████████████████████████████████████████████████████████████████| 67/67 [00:00<00:00, 558.11it/s]\n",
      "100%|██████████████████████████████████████████████████████████████████████| 67/67 [00:01<00:00, 64.03it/s]\n"
     ]
    }
   ],
   "source": [
    "election_df = add_district(send, \"SEND\", election_df, \"DISTRICT\")"
   ]
  },
  {
   "cell_type": "code",
   "execution_count": 47,
   "id": "da4c6235-1028-43d0-adde-affe669c3f20",
   "metadata": {
    "tags": []
   },
   "outputs": [
    {
     "name": "stderr",
     "output_type": "stream",
     "text": [
      "100%|███████████████████████████████████████████████████████████████████| 134/134 [00:00<00:00, 328.07it/s]\n",
      "100%|███████████████████████████████████████████████████████████████████| 134/134 [00:00<00:00, 885.06it/s]\n",
      "100%|████████████████████████████████████████████████████████████████████| 134/134 [00:01<00:00, 89.47it/s]\n"
     ]
    }
   ],
   "source": [
    "election_df = add_district(hdist, \"HDIST\", election_df, \"DISTRICT\")"
   ]
  },
  {
   "cell_type": "code",
   "execution_count": 48,
   "id": "aaee6a30-6a18-473e-bd02-7881c1e94e68",
   "metadata": {},
   "outputs": [
    {
     "data": {
      "text/plain": [
       "['2MOREVAP',\n",
       " 'AMINVAP',\n",
       " 'ASIANVAP',\n",
       " 'ATG18D',\n",
       " 'ATG18O',\n",
       " 'ATG18R',\n",
       " 'AUD18D',\n",
       " 'AUD18O',\n",
       " 'AUD18R',\n",
       " 'BVAP',\n",
       " 'COUNTYFIPS',\n",
       " 'COUNTYNAME',\n",
       " 'GOV18D',\n",
       " 'GOV18O',\n",
       " 'GOV18R',\n",
       " 'HISP',\n",
       " 'HVAP',\n",
       " 'H_2MORE',\n",
       " 'H_AMIN',\n",
       " 'H_ASIAN',\n",
       " 'H_BLACK',\n",
       " 'H_NHPI',\n",
       " 'H_OTHER',\n",
       " 'H_WHITE',\n",
       " 'NHPIVAP',\n",
       " 'NH_2MORE',\n",
       " 'NH_AMIN',\n",
       " 'NH_ASIAN',\n",
       " 'NH_BLACK',\n",
       " 'NH_NHPI',\n",
       " 'NH_OTHER',\n",
       " 'NH_WHITE',\n",
       " 'OTHERVAP',\n",
       " 'PCTNAME',\n",
       " 'PRE16D',\n",
       " 'PRE16O',\n",
       " 'PRE16R',\n",
       " 'PRE20D',\n",
       " 'PRE20O',\n",
       " 'PRE20R',\n",
       " 'SOS18D',\n",
       " 'SOS18O',\n",
       " 'SOS18R',\n",
       " 'TOTPOP',\n",
       " 'USS18D',\n",
       " 'USS18O',\n",
       " 'USS18R',\n",
       " 'USS20D',\n",
       " 'USS20O',\n",
       " 'USS20R',\n",
       " 'VAP',\n",
       " 'VTDID',\n",
       " 'WVAP',\n",
       " 'geometry',\n",
       " 'CD',\n",
       " 'SEND',\n",
       " 'HDIST']"
      ]
     },
     "execution_count": 48,
     "metadata": {},
     "output_type": "execute_result"
    }
   ],
   "source": [
    "list(election_df.columns)"
   ]
  },
  {
   "cell_type": "markdown",
   "id": "0bba365b-7d46-45ea-9b8b-400fc162a82f",
   "metadata": {},
   "source": [
    "### Put the base precinct year after the precinct information column"
   ]
  },
  {
   "cell_type": "code",
   "execution_count": 49,
   "id": "7086205b-49f4-44a7-be19-9eeac924e07b",
   "metadata": {},
   "outputs": [],
   "source": [
    "base_columns = {}\n",
    "if 'COUNTYFIPS' + year not in election_df.columns:\n",
    "    base_columns = {\n",
    "        'COUNTYFIPS': 'COUNTYFIPS' + year,\n",
    "        'COUNTYNAME': 'COUNTYNAME' + year,\n",
    "        'VTDID': 'VTDID' + year,\n",
    "        'PCTNAME': 'PCTNAME' + year,\n",
    "    }\n",
    "election_df.rename(columns=base_columns, inplace = True)"
   ]
  },
  {
   "cell_type": "code",
   "execution_count": 50,
   "id": "3ea62760-cc32-4fcc-8475-c3ba956cb901",
   "metadata": {},
   "outputs": [],
   "source": [
    "# reorder the columns\n",
    "fixed_columns = [\n",
    "    'COUNTYFIPS' + year,\n",
    "    'COUNTYNAME' + year,\n",
    "    'VTDID' + year,\n",
    "    'PCTNAME' + year,\n",
    "    'CD',\n",
    "    'SEND',\n",
    "    'HDIST',\n",
    "    'TOTPOP',\n",
    "    'NH_2MORE',\n",
    "    'NH_AMIN',\n",
    "    'NH_ASIAN',\n",
    "    'NH_BLACK',\n",
    "    'NH_NHPI',\n",
    "    'NH_OTHER',\n",
    "    'NH_WHITE',\n",
    "    'HISP',\n",
    "    'H_AMIN',\n",
    "    'H_ASIAN',\n",
    "    'H_BLACK',\n",
    "    'H_NHPI',\n",
    "    'H_OTHER',\n",
    "    'H_WHITE',\n",
    "    'H_2MORE',\n",
    "    'VAP',\n",
    "    'HVAP',\n",
    "    'WVAP',\n",
    "    'BVAP',\n",
    "    'AMINVAP',\n",
    "    'ASIANVAP',\n",
    "    'NHPIVAP',\n",
    "    'OTHERVAP',\n",
    "    '2MOREVAP']\n",
    "\n",
    "election_columns = [col for col in election_df.columns if col not in fixed_columns]\n",
    "final_col = fixed_columns + election_columns\n",
    "election_df = election_df[final_col]"
   ]
  },
  {
   "cell_type": "code",
   "execution_count": 51,
   "id": "1b198042-dbd4-408e-bfd4-4494f2b49245",
   "metadata": {
    "tags": []
   },
   "outputs": [],
   "source": [
    "os.makedirs(\"./{}\".format(state_ab), exist_ok=True)\n",
    "election_df.to_file(\"./{}/{}.shp\".format(state_ab, state_ab))\n",
    "election_df.to_file('./{}/{}.geojson'.format(state_ab, state_ab), driver='GeoJSON')\n",
    "\n",
    "# Only do once to build json and read from file when generating ensembles\n",
    "graph = Graph.from_file(\"./{}/{}.shp\".format(state_ab, state_ab), ignore_errors=True)\n",
    "graph.to_json(\"./{}/{}.json\".format(state_ab, state_ab))"
   ]
  },
  {
   "cell_type": "code",
   "execution_count": 52,
   "id": "4f716494-e73d-4313-a708-3fdf18b782e3",
   "metadata": {},
   "outputs": [
    {
     "data": {
      "text/plain": [
       "<Axes: >"
      ]
     },
     "execution_count": 52,
     "metadata": {},
     "output_type": "execute_result"
    },
    {
     "data": {
      "image/png": "[encoded data removed]",
      "text/plain": [
       "<Figure size 640x480 with 1 Axes>"
      ]
     },
     "metadata": {},
     "output_type": "display_data"
    }
   ],
   "source": [
    "shapefile_path = \"./{}/{}.shp\".format(state_ab, state_ab)\n",
    "shape=gpd.read_file(shapefile_path)\n",
    "shape.plot()"
   ]
  }
 ],
 "metadata": {
  "kernelspec": {
   "display_name": "gerry",
   "language": "python",
   "name": "gerry"
  },
  "language_info": {
   "codemirror_mode": {
    "name": "ipython",
    "version": 3
   },
   "file_extension": ".py",
   "mimetype": "text/x-python",
   "name": "python",
   "nbconvert_exporter": "python",
   "pygments_lexer": "ipython3",
   "version": "3.11.4"
  }
 },
 "nbformat": 4,
 "nbformat_minor": 5
}
